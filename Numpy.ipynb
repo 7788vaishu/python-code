{
 "cells": [
  {
   "cell_type": "code",
   "execution_count": 2,
   "id": "ecd31c4f-aa52-4f56-96aa-e91095e03b62",
   "metadata": {},
   "outputs": [],
   "source": [
    "#Numpy\n",
    "    # it stands for numerical python\n",
    "    # helps in scientific calculation , array handling and Matrix calculation\n",
    "    # helps in random number capabilities"
   ]
  },
  {
   "cell_type": "code",
   "execution_count": 1,
   "id": "25d12057-1e44-441b-8e24-d7fa4fecee87",
   "metadata": {},
   "outputs": [],
   "source": [
    "import numpy as np"
   ]
  },
  {
   "cell_type": "code",
   "execution_count": 3,
   "id": "fe92a4c2-b153-424c-ab77-b97fea95e683",
   "metadata": {},
   "outputs": [],
   "source": [
    "a=np.array([1,2,3,4,5,6])"
   ]
  },
  {
   "cell_type": "code",
   "execution_count": 5,
   "id": "f4544352-f80b-4c89-a36c-31b579860e97",
   "metadata": {},
   "outputs": [
    {
     "data": {
      "text/plain": [
       "numpy.ndarray"
      ]
     },
     "execution_count": 5,
     "metadata": {},
     "output_type": "execute_result"
    }
   ],
   "source": [
    "type(a)"
   ]
  },
  {
   "cell_type": "code",
   "execution_count": null,
   "id": "0caa9943-8891-4ea6-b2c2-2ba35e5f9e7f",
   "metadata": {},
   "outputs": [],
   "source": []
  }
 ],
 "metadata": {
  "kernelspec": {
   "display_name": "Python 3 (ipykernel)",
   "language": "python",
   "name": "python3"
  },
  "language_info": {
   "codemirror_mode": {
    "name": "ipython",
    "version": 3
   },
   "file_extension": ".py",
   "mimetype": "text/x-python",
   "name": "python",
   "nbconvert_exporter": "python",
   "pygments_lexer": "ipython3",
   "version": "3.11.7"
  }
 },
 "nbformat": 4,
 "nbformat_minor": 5
}
