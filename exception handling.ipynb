{
 "cells": [
  {
   "cell_type": "code",
   "execution_count": 1,
   "id": "dc874216-3577-4ccf-b7c1-f91e24dcb1c0",
   "metadata": {},
   "outputs": [],
   "source": [
    "## Exception Handling\n",
    "    # Error handling"
   ]
  },
  {
   "cell_type": "code",
   "execution_count": 23,
   "id": "e5d91f3c-59a2-49f6-9671-7c6524d0df7c",
   "metadata": {},
   "outputs": [],
   "source": [
    "def func_div(a,b):\n",
    "    return(a/b)"
   ]
  },
  {
   "cell_type": "code",
   "execution_count": 33,
   "id": "5adf0ab1-0426-464d-b2bd-e089829d186e",
   "metadata": {},
   "outputs": [
    {
     "data": {
      "text/plain": [
       "0.5"
      ]
     },
     "execution_count": 33,
     "metadata": {},
     "output_type": "execute_result"
    }
   ],
   "source": [
    "func_div(1,2)"
   ]
  },
  {
   "cell_type": "code",
   "execution_count": 27,
   "id": "afbab0c9-195f-40e7-8a5a-7b169ec35486",
   "metadata": {},
   "outputs": [
    {
     "data": {
      "text/plain": [
       "0.4444444444444444"
      ]
     },
     "execution_count": 27,
     "metadata": {},
     "output_type": "execute_result"
    }
   ],
   "source": [
    "func_div(4,9)"
   ]
  },
  {
   "cell_type": "code",
   "execution_count": 35,
   "id": "265e9700-a961-4f52-a5df-a5bb1a856401",
   "metadata": {},
   "outputs": [
    {
     "data": {
      "text/plain": [
       "0.1111111111111111"
      ]
     },
     "execution_count": 35,
     "metadata": {},
     "output_type": "execute_result"
    }
   ],
   "source": [
    "func_div(1,9)"
   ]
  },
  {
   "cell_type": "code",
   "execution_count": 39,
   "id": "3392524c-f983-4b80-a794-a8be1591e1b9",
   "metadata": {},
   "outputs": [],
   "source": [
    "try:\n",
    "    func_div(4,2)\n",
    "except:\n",
    "    print('you might be diving by 0 , please try to change the number')"
   ]
  },
  {
   "cell_type": "code",
   "execution_count": 41,
   "id": "2a022578-0dd8-4c75-8c16-8ec658087a5a",
   "metadata": {},
   "outputs": [],
   "source": [
    "try:\n",
    "    func_div(4,1)\n",
    "except:\n",
    "    print('you might be diving by 0 please try to change the number')\n",
    "    "
   ]
  },
  {
   "cell_type": "code",
   "execution_count": 43,
   "id": "ed653c49-3d20-4955-b59e-a19b83914bcc",
   "metadata": {},
   "outputs": [],
   "source": [
    "# syntax \n",
    "# try:\n",
    "    #code block in which error might pop\n",
    "# except:\n",
    "    #code block which will run when try block fails\n"
   ]
  },
  {
   "cell_type": "code",
   "execution_count": null,
   "id": "cb5629c7-6efb-487c-a4d9-2a61b0c22508",
   "metadata": {},
   "outputs": [
    {
     "name": "stdin",
     "output_type": "stream",
     "text": [
      "Enter Salary 200\n"
     ]
    }
   ],
   "source": [
    "try:\n",
    "    salary=int(input('Enter Salary'))\n",
    "except:\n",
    "    print(salary+1000)"
   ]
  },
  {
   "cell_type": "code",
   "execution_count": 75,
   "id": "77b59a13-04d2-4c6c-a615-bb53f2e90def",
   "metadata": {},
   "outputs": [
    {
     "name": "stdin",
     "output_type": "stream",
     "text": [
      "Enter Salary 100\n"
     ]
    },
    {
     "name": "stdout",
     "output_type": "stream",
     "text": [
      "1100\n"
     ]
    }
   ],
   "source": [
    "try:\n",
    "    salary=int(input('Enter Salary'))\n",
    "    print(salary+1000)\n",
    "except:\n",
    "    print('some error in salary variable')"
   ]
  },
  {
   "cell_type": "code",
   "execution_count": 1,
   "id": "cf3c285f-96c3-4488-9931-f8f015d25b6a",
   "metadata": {},
   "outputs": [
    {
     "name": "stdout",
     "output_type": "stream",
     "text": [
      "you are dividing by 0\n"
     ]
    }
   ],
   "source": [
    "try:\n",
    "    func_div(4,2)\n",
    "except:\n",
    "    print('you are dividing by 0')"
   ]
  },
  {
   "cell_type": "code",
   "execution_count": 3,
   "id": "3782fa46-95f5-4221-9c61-b08c9cc5712e",
   "metadata": {},
   "outputs": [
    {
     "name": "stdout",
     "output_type": "stream",
     "text": [
      "you are worgn\n"
     ]
    }
   ],
   "source": [
    "\n",
    "try:\n",
    "  func_div(1,2)\n",
    "except:\n",
    "    print('you are worgn')\n",
    "    "
   ]
  },
  {
   "cell_type": "code",
   "execution_count": 3,
   "id": "b6b681fa-ee41-4a46-a0f3-e354925b562d",
   "metadata": {},
   "outputs": [
    {
     "name": "stdout",
     "output_type": "stream",
     "text": [
      "0.5\n",
      "0.25\n"
     ]
    }
   ],
   "source": [
    "a=2\n",
    "b=4\n",
    "c=8\n",
    "\n",
    "try:\n",
    "    print(a/b)\n",
    "    print(a/c)\n",
    "except IOError:\n",
    "    print('An error occured trying to read the file')\n",
    "except ValueError:\n",
    "    print('Non-numeric data found in the file')\n",
    "except ModuleNotFoundError:\n",
    "    print('No module found')\n",
    "except NameError:\n",
    "    print('you are using something which is not there in memory')\n",
    "except EOFError:\n",
    "    print('Why did you do an EOF on me?')\n",
    "except KeyboardInterrupt:\n",
    "    print('You cancelled the operation')\n",
    "except ZeroDivionError:\n",
    "    print('denominator is 0')\n",
    "except:\n",
    "    print('something else')\n",
    "    "
   ]
  },
  {
   "cell_type": "code",
   "execution_count": 9,
   "id": "4c801ee1-f49d-45e9-8cb5-fe4efc3572b8",
   "metadata": {},
   "outputs": [
    {
     "name": "stdout",
     "output_type": "stream",
     "text": [
      "0.5\n",
      "0.25\n",
      "No module found\n"
     ]
    }
   ],
   "source": [
    "## syntactical error are not handled by try : except\n",
    "\n",
    "a=2\n",
    "b=4\n",
    "c=8\n",
    "try:\n",
    "    print(a/b)\n",
    "    print(a/c)\n",
    "    import woeiriop\n",
    "except IOError:\n",
    "    print('An error occured trying to read the file')\n",
    "except ValueError:\n",
    "    print('Non-numeric data found in the file')\n",
    "except ModuleNotFoundError:\n",
    "    print('No module found')\n",
    "except NameError:\n",
    "    print('you are using something which is not there in memory')\n",
    "except EOFError:\n",
    "    print('Why did you do an EOF on me?')\n",
    "except KeyboardInterrupt:\n",
    "    print('You cancelled the operation')\n",
    "except ZeroDivionError:\n",
    "    print('denominator is 0')\n",
    "except:\n",
    "    print('something else')"
   ]
  },
  {
   "cell_type": "code",
   "execution_count": 11,
   "id": "9b54826e-ab91-4732-81b4-9b8e7d2717fb",
   "metadata": {},
   "outputs": [
    {
     "name": "stdout",
     "output_type": "stream",
     "text": [
      "some error\n",
      "code ended\n"
     ]
    }
   ],
   "source": [
    "try:\n",
    "    func_div(1,2)\n",
    "except:\n",
    "    print('some error')\n",
    "finally:\n",
    "    print('code ended')\n",
    "    "
   ]
  },
  {
   "cell_type": "code",
   "execution_count": 17,
   "id": "b272ad5f-23bb-4b5f-a1c5-02b472cdf58f",
   "metadata": {},
   "outputs": [
    {
     "name": "stdout",
     "output_type": "stream",
     "text": [
      "some error\n"
     ]
    }
   ],
   "source": [
    "try:\n",
    "    func_div(1,8)\n",
    "except:\n",
    "    print('some error')\n",
    "else:\n",
    "    print('code ended')\n",
    "    "
   ]
  },
  {
   "cell_type": "code",
   "execution_count": 23,
   "id": "44033952-c9b0-4ca4-ad9e-be38848b429f",
   "metadata": {},
   "outputs": [],
   "source": [
    "def func_div(a,b):\n",
    "    return (a/b)"
   ]
  },
  {
   "cell_type": "code",
   "execution_count": 44,
   "id": "725f4619-091e-441f-87a5-33a62ba3c915",
   "metadata": {},
   "outputs": [
    {
     "data": {
      "text/plain": [
       "0.2222222222222222"
      ]
     },
     "execution_count": 44,
     "metadata": {},
     "output_type": "execute_result"
    }
   ],
   "source": [
    "func_div(2,9)"
   ]
  },
  {
   "cell_type": "code",
   "execution_count": 53,
   "id": "e188d92b-0d67-4a47-a13d-5c3eca2681a8",
   "metadata": {},
   "outputs": [
    {
     "ename": "ZeroDivisionError",
     "evalue": "division by zero",
     "output_type": "error",
     "traceback": [
      "\u001b[1;31m---------------------------------------------------------------------------\u001b[0m",
      "\u001b[1;31mZeroDivisionError\u001b[0m                         Traceback (most recent call last)",
      "Cell \u001b[1;32mIn[53], line 1\u001b[0m\n\u001b[1;32m----> 1\u001b[0m func_div(\u001b[38;5;241m1\u001b[39m,\u001b[38;5;241m0\u001b[39m)\n",
      "Cell \u001b[1;32mIn[23], line 2\u001b[0m, in \u001b[0;36mfunc_div\u001b[1;34m(a, b)\u001b[0m\n\u001b[0;32m      1\u001b[0m \u001b[38;5;28;01mdef\u001b[39;00m \u001b[38;5;21mfunc_div\u001b[39m(a,b):\n\u001b[1;32m----> 2\u001b[0m     \u001b[38;5;28;01mreturn\u001b[39;00m (a\u001b[38;5;241m/\u001b[39mb)\n",
      "\u001b[1;31mZeroDivisionError\u001b[0m: division by zero"
     ]
    }
   ],
   "source": [
    "func_div(1,0)"
   ]
  },
  {
   "cell_type": "code",
   "execution_count": 73,
   "id": "fb052f4b-76fb-4c1e-a0ec-bc9b15f60207",
   "metadata": {},
   "outputs": [
    {
     "ename": "ZeroDivisionError",
     "evalue": "division by zero",
     "output_type": "error",
     "traceback": [
      "\u001b[1;31m---------------------------------------------------------------------------\u001b[0m",
      "\u001b[1;31mZeroDivisionError\u001b[0m                         Traceback (most recent call last)",
      "Cell \u001b[1;32mIn[73], line 1\u001b[0m\n\u001b[1;32m----> 1\u001b[0m func_div(\u001b[38;5;241m1\u001b[39m,\u001b[38;5;241m0\u001b[39m)\n",
      "Cell \u001b[1;32mIn[23], line 2\u001b[0m, in \u001b[0;36mfunc_div\u001b[1;34m(a, b)\u001b[0m\n\u001b[0;32m      1\u001b[0m \u001b[38;5;28;01mdef\u001b[39;00m \u001b[38;5;21mfunc_div\u001b[39m(a,b):\n\u001b[1;32m----> 2\u001b[0m     \u001b[38;5;28;01mreturn\u001b[39;00m (a\u001b[38;5;241m/\u001b[39mb)\n",
      "\u001b[1;31mZeroDivisionError\u001b[0m: division by zero"
     ]
    }
   ],
   "source": [
    "\n",
    "    func_div(1,0)\n",
    "\n",
    "    "
   ]
  },
  {
   "cell_type": "code",
   "execution_count": 83,
   "id": "bbd613d1-c44f-4fa0-a9aa-66a5798fcec5",
   "metadata": {},
   "outputs": [
    {
     "name": "stdin",
     "output_type": "stream",
     "text": [
      "Enter Salary INR 100\n"
     ]
    },
    {
     "name": "stdout",
     "output_type": "stream",
     "text": [
      "some error in salary variable\n",
      "(\"invalid literal for int() with base 10: 'INR 100'\",)\n",
      "<class 'ValueError'>\n"
     ]
    }
   ],
   "source": [
    "try:\n",
    "    salary=int(input('Enter Salary'))\n",
    "    print(salary+1000)\n",
    "except Exception as e :\n",
    "    print('some error in salary variable')\n",
    "    print(e.args)\n",
    "    print(e.__class__)\n",
    "    \n",
    "    "
   ]
  },
  {
   "cell_type": "code",
   "execution_count": null,
   "id": "a6256143-201a-4591-9ce8-2949500ff13d",
   "metadata": {},
   "outputs": [],
   "source": [
    "## raising custom errors"
   ]
  },
  {
   "cell_type": "code",
   "execution_count": 88,
   "id": "fb92a91a-9499-4811-bdd9-a0c220488b64",
   "metadata": {},
   "outputs": [
    {
     "ename": "NameError",
     "evalue": "name 'Nameerror' is not defined",
     "output_type": "error",
     "traceback": [
      "\u001b[1;31m---------------------------------------------------------------------------\u001b[0m",
      "\u001b[1;31mZeroDivisionError\u001b[0m                         Traceback (most recent call last)",
      "Cell \u001b[1;32mIn[88], line 2\u001b[0m\n\u001b[0;32m      1\u001b[0m \u001b[38;5;28;01mtry\u001b[39;00m:\n\u001b[1;32m----> 2\u001b[0m     func_div(\u001b[38;5;241m1\u001b[39m,\u001b[38;5;241m0\u001b[39m)\n\u001b[0;32m      3\u001b[0m \u001b[38;5;28;01mexcept\u001b[39;00m:\n",
      "Cell \u001b[1;32mIn[23], line 2\u001b[0m, in \u001b[0;36mfunc_div\u001b[1;34m(a, b)\u001b[0m\n\u001b[0;32m      1\u001b[0m \u001b[38;5;28;01mdef\u001b[39;00m \u001b[38;5;21mfunc_div\u001b[39m(a,b):\n\u001b[1;32m----> 2\u001b[0m     \u001b[38;5;28;01mreturn\u001b[39;00m (a\u001b[38;5;241m/\u001b[39mb)\n",
      "\u001b[1;31mZeroDivisionError\u001b[0m: division by zero",
      "\nDuring handling of the above exception, another exception occurred:\n",
      "\u001b[1;31mNameError\u001b[0m                                 Traceback (most recent call last)",
      "Cell \u001b[1;32mIn[88], line 4\u001b[0m\n\u001b[0;32m      2\u001b[0m     func_div(\u001b[38;5;241m1\u001b[39m,\u001b[38;5;241m0\u001b[39m)\n\u001b[0;32m      3\u001b[0m \u001b[38;5;28;01mexcept\u001b[39;00m:\n\u001b[1;32m----> 4\u001b[0m     \u001b[38;5;28;01mraise\u001b[39;00m Nameerror(\u001b[38;5;124m'\u001b[39m\u001b[38;5;124m!!!!! CAUTION !!!!\u001b[39m\u001b[38;5;124m'\u001b[39m)\n",
      "\u001b[1;31mNameError\u001b[0m: name 'Nameerror' is not defined"
     ]
    }
   ],
   "source": [
    "try:\n",
    "    func_div(1,0)\n",
    "except:\n",
    "    raise ('!!!!! CAUTION !!!!')"
   ]
  },
  {
   "cell_type": "code",
   "execution_count": null,
   "id": "d3bcf203-bf9a-4623-a1ec-6ba538d1796e",
   "metadata": {},
   "outputs": [],
   "source": [
    "#OOPS\n",
    "    # object oriented programming\n",
    "    # reusability and readability\n",
    "    # to make the code a real world scenario"
   ]
  },
  {
   "cell_type": "code",
   "execution_count": 98,
   "id": "cc254b87-9633-47b5-9460-bf907be16c83",
   "metadata": {},
   "outputs": [],
   "source": [
    "class car():\n",
    "    ### class variable(common across all object of the class car,given they are not modified in object)\n",
    "    tyres=4\n",
    "    steering=1\n",
    "    acceleration=True\n",
    "    brakes=True\n",
    "    glasses=True\n",
    "\n",
    "    ### constructor to intialize object variable(these cn be modified from object to object)\n",
    "    def __init__(self,top_speed):\n",
    "        self.top_speed=top_speed\n"
   ]
  },
  {
   "cell_type": "code",
   "execution_count": 115,
   "id": "c3645f83-46fd-466e-bd0f-f7fff6f38d43",
   "metadata": {},
   "outputs": [
    {
     "data": {
      "text/plain": [
       "4"
      ]
     },
     "execution_count": 115,
     "metadata": {},
     "output_type": "execute_result"
    }
   ],
   "source": [
    "alto=car()\n",
    "alto.tyres\n",
    "\n",
    "omni=car()\n",
    "omni.tyres"
   ]
  },
  {
   "cell_type": "code",
   "execution_count": 100,
   "id": "e3965be0-d5d7-4e73-9f2c-f47a1457451e",
   "metadata": {},
   "outputs": [
    {
     "data": {
      "text/plain": [
       "True"
      ]
     },
     "execution_count": 100,
     "metadata": {},
     "output_type": "execute_result"
    }
   ],
   "source": [
    "alto.glasses"
   ]
  },
  {
   "cell_type": "code",
   "execution_count": 102,
   "id": "47abf256-0054-4ed9-849d-d442ae8a06f2",
   "metadata": {},
   "outputs": [
    {
     "data": {
      "text/plain": [
       "True"
      ]
     },
     "execution_count": 102,
     "metadata": {},
     "output_type": "execute_result"
    }
   ],
   "source": [
    "alto.brakes"
   ]
  },
  {
   "cell_type": "code",
   "execution_count": 104,
   "id": "455028ea-68f9-4389-bd98-37197b09ab73",
   "metadata": {},
   "outputs": [],
   "source": [
    "alto.paint='white'"
   ]
  },
  {
   "cell_type": "code",
   "execution_count": 125,
   "id": "8e25ddb0-6afc-4779-acfb-69cf602549f0",
   "metadata": {},
   "outputs": [
    {
     "data": {
      "text/plain": [
       "100"
      ]
     },
     "execution_count": 125,
     "metadata": {},
     "output_type": "execute_result"
    }
   ],
   "source": [
    "alto.top_speed=100\n",
    "omni.top_speed=130\n",
    "alto.top_speed"
   ]
  },
  {
   "cell_type": "code",
   "execution_count": 127,
   "id": "7404f33d-3fd9-4e61-8a74-3be27e09e295",
   "metadata": {},
   "outputs": [
    {
     "data": {
      "text/plain": [
       "130"
      ]
     },
     "execution_count": 127,
     "metadata": {},
     "output_type": "execute_result"
    }
   ],
   "source": [
    "omni.top_speed"
   ]
  },
  {
   "cell_type": "code",
   "execution_count": 110,
   "id": "ce7d6e5e-7a34-458f-b168-c2643278eda4",
   "metadata": {},
   "outputs": [
    {
     "data": {
      "text/plain": [
       "100"
      ]
     },
     "execution_count": 110,
     "metadata": {},
     "output_type": "execute_result"
    }
   ],
   "source": [
    "alto.top_speed"
   ]
  },
  {
   "cell_type": "code",
   "execution_count": 119,
   "id": "e15cbbeb-1cbd-4fad-b30c-d2dd39067d8b",
   "metadata": {},
   "outputs": [],
   "source": [
    "omni.tyres=11"
   ]
  },
  {
   "cell_type": "code",
   "execution_count": 121,
   "id": "7e50878a-4f36-4c43-9e91-5dba3573b385",
   "metadata": {},
   "outputs": [
    {
     "data": {
      "text/plain": [
       "11"
      ]
     },
     "execution_count": 121,
     "metadata": {},
     "output_type": "execute_result"
    }
   ],
   "source": [
    "omni.tyres"
   ]
  },
  {
   "cell_type": "code",
   "execution_count": 129,
   "id": "0538296f-feee-47a0-94d1-beb16e19963f",
   "metadata": {},
   "outputs": [
    {
     "data": {
      "text/plain": [
       "100"
      ]
     },
     "execution_count": 129,
     "metadata": {},
     "output_type": "execute_result"
    }
   ],
   "source": [
    "alto.top_speed"
   ]
  },
  {
   "cell_type": "code",
   "execution_count": 131,
   "id": "c5f921f4-9841-4000-b212-a2a1d93a2711",
   "metadata": {},
   "outputs": [],
   "source": [
    "class student():\n",
    "\n",
    "    ## __init__ will get executed automatically at object initialization\n",
    "    def __init__(self,name,age):\n",
    "        self.name=name\n",
    "        self.age=10\n",
    "        \n",
    "    school_name='xyz'\n",
    "    uniform='ksmkm'\n",
    "    school_time='08:00'"
   ]
  },
  {
   "cell_type": "code",
   "execution_count": 133,
   "id": "95357583-4ec3-4630-98c6-f06b103b498c",
   "metadata": {},
   "outputs": [],
   "source": [
    "obj1=student(name='raj',age=21)\n",
    "obj2=student(name='ram',age=23)"
   ]
  },
  {
   "cell_type": "code",
   "execution_count": 135,
   "id": "bd3668ee-5707-4e4c-aa4e-f4a3c4781e54",
   "metadata": {},
   "outputs": [
    {
     "data": {
      "text/plain": [
       "'xyz'"
      ]
     },
     "execution_count": 135,
     "metadata": {},
     "output_type": "execute_result"
    }
   ],
   "source": [
    "obj1.school_name"
   ]
  },
  {
   "cell_type": "code",
   "execution_count": 137,
   "id": "37b3f36b-cc9e-440a-b53f-ed2c00670262",
   "metadata": {},
   "outputs": [
    {
     "data": {
      "text/plain": [
       "'xyz'"
      ]
     },
     "execution_count": 137,
     "metadata": {},
     "output_type": "execute_result"
    }
   ],
   "source": [
    "obj2.school_name"
   ]
  },
  {
   "cell_type": "code",
   "execution_count": 139,
   "id": "4bbba3da-d0fe-4c43-abcb-6b96011e622c",
   "metadata": {},
   "outputs": [
    {
     "data": {
      "text/plain": [
       "'raj'"
      ]
     },
     "execution_count": 139,
     "metadata": {},
     "output_type": "execute_result"
    }
   ],
   "source": [
    "obj1.name"
   ]
  },
  {
   "cell_type": "code",
   "execution_count": 141,
   "id": "50dde0c5-5469-4db4-a541-aa49406a0e24",
   "metadata": {},
   "outputs": [
    {
     "data": {
      "text/plain": [
       "'ram'"
      ]
     },
     "execution_count": 141,
     "metadata": {},
     "output_type": "execute_result"
    }
   ],
   "source": [
    "obj2.name"
   ]
  },
  {
   "cell_type": "code",
   "execution_count": 147,
   "id": "4391f372-4b26-4c00-90c8-60baab2180ea",
   "metadata": {},
   "outputs": [],
   "source": [
    "class student():\n",
    "    def __init__(self,name,age):\n",
    "        print('Check')\n",
    "        self.name=name\n",
    "        self.age=10\n",
    "        print('check end')\n",
    "        \n",
    "    school_name='xyz'\n",
    "    uniform='ksmkm'\n",
    "    school_time='08:00'"
   ]
  },
  {
   "cell_type": "code",
   "execution_count": 149,
   "id": "afc95643-3972-41f2-8fcd-91755a9ae865",
   "metadata": {},
   "outputs": [
    {
     "name": "stdout",
     "output_type": "stream",
     "text": [
      "Check\n",
      "check end\n"
     ]
    }
   ],
   "source": [
    "obj1=student(name='raj',age=90)"
   ]
  },
  {
   "cell_type": "code",
   "execution_count": null,
   "id": "1e4bb15f-6b57-4ad1-9299-fce67e07f80a",
   "metadata": {},
   "outputs": [],
   "source": []
  }
 ],
 "metadata": {
  "kernelspec": {
   "display_name": "Python 3 (ipykernel)",
   "language": "python",
   "name": "python3"
  },
  "language_info": {
   "codemirror_mode": {
    "name": "ipython",
    "version": 3
   },
   "file_extension": ".py",
   "mimetype": "text/x-python",
   "name": "python",
   "nbconvert_exporter": "python",
   "pygments_lexer": "ipython3",
   "version": "3.11.7"
  }
 },
 "nbformat": 4,
 "nbformat_minor": 5
}
