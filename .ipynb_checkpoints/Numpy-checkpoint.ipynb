{
 "cells": [
  {
   "cell_type": "code",
   "execution_count": null,
   "id": "ecd31c4f-aa52-4f56-96aa-e91095e03b62",
   "metadata": {},
   "outputs": [],
   "source": [
    "#Numpy\n",
    "    # it is stand for numerical python\n",
    "    # helps in scientifical calculation , array handling and Matrix\n",
    "    # helps in random number capabilities"
   ]
  }
 ],
 "metadata": {
  "kernelspec": {
   "display_name": "Python 3 (ipykernel)",
   "language": "python",
   "name": "python3"
  },
  "language_info": {
   "codemirror_mode": {
    "name": "ipython",
    "version": 3
   },
   "file_extension": ".py",
   "mimetype": "text/x-python",
   "name": "python",
   "nbconvert_exporter": "python",
   "pygments_lexer": "ipython3",
   "version": "3.11.7"
  }
 },
 "nbformat": 4,
 "nbformat_minor": 5
}
