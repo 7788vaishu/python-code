{
 "cells": [
  {
   "cell_type": "code",
   "execution_count": 5,
   "id": "e4d7ca6c-2f71-4f8d-8caf-fb3249d266c2",
   "metadata": {},
   "outputs": [
    {
     "data": {
      "text/plain": [
       "[1, 23, 4, 56, 4, 5, 5]"
      ]
     },
     "execution_count": 5,
     "metadata": {},
     "output_type": "execute_result"
    }
   ],
   "source": [
    "l1=[1,23,4,56,4,5,5]\n",
    "l1"
   ]
  },
  {
   "cell_type": "code",
   "execution_count": 14,
   "id": "19010299-6927-4521-8ecb-8a009c13d187",
   "metadata": {},
   "outputs": [
    {
     "ename": "TypeError",
     "evalue": "'builtin_function_or_method' object is not subscriptable",
     "output_type": "error",
     "traceback": [
      "\u001b[1;31m---------------------------------------------------------------------------\u001b[0m",
      "\u001b[1;31mTypeError\u001b[0m                                 Traceback (most recent call last)",
      "Cell \u001b[1;32mIn[14], line 1\u001b[0m\n\u001b[1;32m----> 1\u001b[0m l1\u001b[38;5;241m.\u001b[39mremove[\u001b[38;5;241m4\u001b[39m]\n",
      "\u001b[1;31mTypeError\u001b[0m: 'builtin_function_or_method' object is not subscriptable"
     ]
    }
   ],
   "source": [
    "l1.remove[4]"
   ]
  },
  {
   "cell_type": "code",
   "execution_count": 16,
   "id": "a501dffc-8199-4492-8254-31b8d902105d",
   "metadata": {},
   "outputs": [
    {
     "data": {
      "text/plain": [
       "[4, 56, 4, 5, 5]"
      ]
     },
     "execution_count": 16,
     "metadata": {},
     "output_type": "execute_result"
    }
   ],
   "source": [
    "l1"
   ]
  },
  {
   "cell_type": "code",
   "execution_count": 18,
   "id": "c2459014-296d-4255-80fc-53ae78b19185",
   "metadata": {},
   "outputs": [
    {
     "ename": "TypeError",
     "evalue": "'builtin_function_or_method' object is not subscriptable",
     "output_type": "error",
     "traceback": [
      "\u001b[1;31m---------------------------------------------------------------------------\u001b[0m",
      "\u001b[1;31mTypeError\u001b[0m                                 Traceback (most recent call last)",
      "Cell \u001b[1;32mIn[18], line 1\u001b[0m\n\u001b[1;32m----> 1\u001b[0m l1\u001b[38;5;241m.\u001b[39mpop[\u001b[38;5;241m-\u001b[39m\u001b[38;5;241m1\u001b[39m]\n",
      "\u001b[1;31mTypeError\u001b[0m: 'builtin_function_or_method' object is not subscriptable"
     ]
    }
   ],
   "source": [
    "l1.pop[-1]"
   ]
  },
  {
   "cell_type": "code",
   "execution_count": 20,
   "id": "f398eed1-392e-44e9-ab99-d3b0bedd1594",
   "metadata": {},
   "outputs": [
    {
     "data": {
      "text/plain": [
       "[4, 56, 4, 5, 5]"
      ]
     },
     "execution_count": 20,
     "metadata": {},
     "output_type": "execute_result"
    }
   ],
   "source": [
    "l1"
   ]
  },
  {
   "cell_type": "code",
   "execution_count": 24,
   "id": "f31302c1-e542-4f9b-bca3-c1b86bad3414",
   "metadata": {},
   "outputs": [
    {
     "data": {
      "text/plain": [
       "56"
      ]
     },
     "execution_count": 24,
     "metadata": {},
     "output_type": "execute_result"
    }
   ],
   "source": [
    "l1.pop(1)"
   ]
  },
  {
   "cell_type": "code",
   "execution_count": 26,
   "id": "6ebd064f-1913-4302-bd40-3e7208d8d78f",
   "metadata": {},
   "outputs": [
    {
     "data": {
      "text/plain": [
       "[4, 4, 5, 5]"
      ]
     },
     "execution_count": 26,
     "metadata": {},
     "output_type": "execute_result"
    }
   ],
   "source": [
    "l1"
   ]
  },
  {
   "cell_type": "code",
   "execution_count": 28,
   "id": "4d933f4a-a2c9-460b-9593-8aad5a186fc6",
   "metadata": {},
   "outputs": [
    {
     "data": {
      "text/plain": [
       "2"
      ]
     },
     "execution_count": 28,
     "metadata": {},
     "output_type": "execute_result"
    }
   ],
   "source": [
    "l1.count(4)"
   ]
  },
  {
   "cell_type": "code",
   "execution_count": 32,
   "id": "dd9f5045-c19a-47c3-927d-763ed04ae3e6",
   "metadata": {},
   "outputs": [
    {
     "data": {
      "text/plain": [
       "[5, 5, 4, 4]"
      ]
     },
     "execution_count": 32,
     "metadata": {},
     "output_type": "execute_result"
    }
   ],
   "source": [
    "l1[::-1]"
   ]
  },
  {
   "cell_type": "code",
   "execution_count": 34,
   "id": "db477711-cc71-4fdc-a07e-133ca321292b",
   "metadata": {},
   "outputs": [
    {
     "data": {
      "text/plain": [
       "[4, 4, 5, 5]"
      ]
     },
     "execution_count": 34,
     "metadata": {},
     "output_type": "execute_result"
    }
   ],
   "source": [
    "l1"
   ]
  },
  {
   "cell_type": "code",
   "execution_count": 38,
   "id": "a47f086c-06c3-4a47-b332-b53ebb590ed4",
   "metadata": {},
   "outputs": [
    {
     "data": {
      "text/plain": [
       "[4, 4, 5, 5]"
      ]
     },
     "execution_count": 38,
     "metadata": {},
     "output_type": "execute_result"
    }
   ],
   "source": [
    "l1.copy()"
   ]
  },
  {
   "cell_type": "code",
   "execution_count": 42,
   "id": "26c237c9-a67b-490c-8766-8433ea02af79",
   "metadata": {},
   "outputs": [],
   "source": [
    "l1.insert(0,12)"
   ]
  },
  {
   "cell_type": "code",
   "execution_count": 44,
   "id": "46459c5f-c10c-4468-bbca-2351902637e9",
   "metadata": {},
   "outputs": [
    {
     "data": {
      "text/plain": [
       "[12, 4, 4, 5, 5]"
      ]
     },
     "execution_count": 44,
     "metadata": {},
     "output_type": "execute_result"
    }
   ],
   "source": [
    "l1"
   ]
  },
  {
   "cell_type": "code",
   "execution_count": 46,
   "id": "2cac39f7-b915-4cb7-85b0-edef3c435180",
   "metadata": {},
   "outputs": [
    {
     "data": {
      "text/plain": [
       "[4, 5, 5]"
      ]
     },
     "execution_count": 46,
     "metadata": {},
     "output_type": "execute_result"
    }
   ],
   "source": [
    "l1[2::]"
   ]
  },
  {
   "cell_type": "code",
   "execution_count": 50,
   "id": "46292f05-a5f7-4bbe-ad36-650ef7c89977",
   "metadata": {},
   "outputs": [
    {
     "data": {
      "text/plain": [
       "[4, 4, 5, 5]"
      ]
     },
     "execution_count": 50,
     "metadata": {},
     "output_type": "execute_result"
    }
   ],
   "source": [
    "l1[1:]"
   ]
  },
  {
   "cell_type": "code",
   "execution_count": 54,
   "id": "dd36353e-e5aa-4559-8209-74230bc3bad8",
   "metadata": {},
   "outputs": [
    {
     "data": {
      "text/plain": [
       "[4, 4, 5, 5, 12]"
      ]
     },
     "execution_count": 54,
     "metadata": {},
     "output_type": "execute_result"
    }
   ],
   "source": [
    "l1.sort()\n",
    "l1"
   ]
  },
  {
   "cell_type": "code",
   "execution_count": 58,
   "id": "b6c19d3d-af8e-4b53-8244-d37b4b5a2fe9",
   "metadata": {},
   "outputs": [],
   "source": [
    "l1.sort()"
   ]
  },
  {
   "cell_type": "code",
   "execution_count": 60,
   "id": "74ee0910-96f3-4118-9360-bda86ff56bbc",
   "metadata": {},
   "outputs": [],
   "source": [
    "l1.clear()"
   ]
  },
  {
   "cell_type": "code",
   "execution_count": 62,
   "id": "1234f89f-fa36-4225-a248-a8153eb0a867",
   "metadata": {},
   "outputs": [
    {
     "data": {
      "text/plain": [
       "[]"
      ]
     },
     "execution_count": 62,
     "metadata": {},
     "output_type": "execute_result"
    }
   ],
   "source": [
    "l1"
   ]
  },
  {
   "cell_type": "markdown",
   "id": "3a8c2ac5-e9cc-415d-9b85-b5f0cfb20b81",
   "metadata": {},
   "source": [
    " l2=[1,2,3,4,5,6]\n",
    "l2"
   ]
  },
  {
   "cell_type": "code",
   "execution_count": 70,
   "id": "1774131b-7182-48e8-9ee2-e3438c61a2aa",
   "metadata": {},
   "outputs": [
    {
     "data": {
      "text/plain": [
       "[1, 2, 3, 4, 5, 6, 7, 8]"
      ]
     },
     "execution_count": 70,
     "metadata": {},
     "output_type": "execute_result"
    }
   ],
   "source": [
    "l2.count(4)\n",
    "l2"
   ]
  },
  {
   "cell_type": "code",
   "execution_count": 78,
   "id": "b70001bb-3e8e-4837-ab69-dc06f2e44071",
   "metadata": {},
   "outputs": [
    {
     "data": {
      "text/plain": [
       "4"
      ]
     },
     "execution_count": 78,
     "metadata": {},
     "output_type": "execute_result"
    }
   ],
   "source": [
    "l3=[1,2,3,3,4,3,5,3]\n",
    "l3.count(3)"
   ]
  },
  {
   "cell_type": "code",
   "execution_count": 80,
   "id": "3b2d2aa5-f3d9-45a5-8191-34d3701d8baa",
   "metadata": {},
   "outputs": [
    {
     "data": {
      "text/plain": [
       "[1, 2, 3, 3, 4, 3, 5, 3, 6]"
      ]
     },
     "execution_count": 80,
     "metadata": {},
     "output_type": "execute_result"
    }
   ],
   "source": [
    "l3.append(6)\n",
    "l3"
   ]
  },
  {
   "cell_type": "code",
   "execution_count": 89,
   "id": "7325cc37-e7af-4936-b756-88f4d2abe144",
   "metadata": {},
   "outputs": [
    {
     "data": {
      "text/plain": [
       "[6, 3, 5, 3, 4, 3, 3, 2, 1]"
      ]
     },
     "execution_count": 89,
     "metadata": {},
     "output_type": "execute_result"
    }
   ],
   "source": [
    "l3.reverse()\n",
    "l3"
   ]
  },
  {
   "cell_type": "code",
   "execution_count": 93,
   "id": "3d9e1ed5-729a-43c4-aa64-09d0af3789d0",
   "metadata": {},
   "outputs": [
    {
     "data": {
      "text/plain": [
       "[1, 2, 3, 3, 3, 3, 4, 5, 6]"
      ]
     },
     "execution_count": 93,
     "metadata": {},
     "output_type": "execute_result"
    }
   ],
   "source": [
    "l3.sort()\n",
    "l3"
   ]
  },
  {
   "cell_type": "code",
   "execution_count": 95,
   "id": "918aa3b0-368b-4fba-ad9f-47a40f72eeb1",
   "metadata": {},
   "outputs": [
    {
     "data": {
      "text/plain": [
       "[3, 3, 3, 3, 4, 5, 6]"
      ]
     },
     "execution_count": 95,
     "metadata": {},
     "output_type": "execute_result"
    }
   ],
   "source": [
    "l3[2::]"
   ]
  },
  {
   "cell_type": "code",
   "execution_count": 97,
   "id": "ffb24b6d-f0be-4aa6-b239-cf4c6313109e",
   "metadata": {},
   "outputs": [
    {
     "data": {
      "text/plain": [
       "[2, 3, 3, 3, 3, 4, 5, 6]"
      ]
     },
     "execution_count": 97,
     "metadata": {},
     "output_type": "execute_result"
    }
   ],
   "source": [
    "l3[1::]"
   ]
  },
  {
   "cell_type": "code",
   "execution_count": 99,
   "id": "15021dee-1c23-49ad-828f-1e1ee8ad46de",
   "metadata": {},
   "outputs": [
    {
     "data": {
      "text/plain": [
       "[6, 4, 3, 3, 1]"
      ]
     },
     "execution_count": 99,
     "metadata": {},
     "output_type": "execute_result"
    }
   ],
   "source": [
    "l3[::-2]"
   ]
  },
  {
   "cell_type": "code",
   "execution_count": 101,
   "id": "d27dca2d-a1c9-43a0-8a98-251e6e63aa11",
   "metadata": {},
   "outputs": [
    {
     "data": {
      "text/plain": [
       "[3, 3]"
      ]
     },
     "execution_count": 101,
     "metadata": {},
     "output_type": "execute_result"
    }
   ],
   "source": [
    "l3[2:4]"
   ]
  },
  {
   "cell_type": "code",
   "execution_count": 103,
   "id": "ddba8b40-97d4-4ff4-83fc-12428168c87e",
   "metadata": {},
   "outputs": [
    {
     "data": {
      "text/plain": [
       "3"
      ]
     },
     "execution_count": 103,
     "metadata": {},
     "output_type": "execute_result"
    }
   ],
   "source": [
    "l3[3]"
   ]
  },
  {
   "cell_type": "code",
   "execution_count": 111,
   "id": "cfc3ed0b-92d2-4b8b-bec2-880362899d14",
   "metadata": {},
   "outputs": [
    {
     "data": {
      "text/plain": [
       "6"
      ]
     },
     "execution_count": 111,
     "metadata": {},
     "output_type": "execute_result"
    }
   ],
   "source": [
    "l3[8]"
   ]
  },
  {
   "cell_type": "code",
   "execution_count": 119,
   "id": "1ff43068-89b2-4262-ab13-76b2031cd0da",
   "metadata": {},
   "outputs": [
    {
     "data": {
      "text/plain": [
       "[1, 2, 3, 3, 3, 3, 4, 5, 6, 100, 100]"
      ]
     },
     "execution_count": 119,
     "metadata": {},
     "output_type": "execute_result"
    }
   ],
   "source": [
    "l3.extend([100])\n",
    "l3"
   ]
  },
  {
   "cell_type": "code",
   "execution_count": 125,
   "id": "44babb5f-3294-4a90-93d4-6cd1eb28bc82",
   "metadata": {},
   "outputs": [
    {
     "data": {
      "text/plain": [
       "[1, 2, 3, 3, 3, 3, 4, 5, 6, 100, 100, 90, 80, 90, 80, 90, 80]"
      ]
     },
     "execution_count": 125,
     "metadata": {},
     "output_type": "execute_result"
    }
   ],
   "source": [
    "l3.extend([90,80])\n",
    "l3"
   ]
  },
  {
   "cell_type": "code",
   "execution_count": 164,
   "id": "45a0922e-5ab4-4ea8-85a8-64b370d259c4",
   "metadata": {},
   "outputs": [
    {
     "data": {
      "text/plain": [
       "[1, 2, 3, 4, 5, 6, 100, 90]"
      ]
     },
     "execution_count": 164,
     "metadata": {},
     "output_type": "execute_result"
    }
   ],
   "source": [
    "l3.remove(3)\n",
    "l3"
   ]
  },
  {
   "cell_type": "code",
   "execution_count": 158,
   "id": "b8682c1f-d759-4fd6-97aa-85ee0adbec9b",
   "metadata": {},
   "outputs": [
    {
     "data": {
      "text/plain": [
       "4"
      ]
     },
     "execution_count": 158,
     "metadata": {},
     "output_type": "execute_result"
    }
   ],
   "source": [
    "l3.count(3)"
   ]
  },
  {
   "cell_type": "code",
   "execution_count": 166,
   "id": "38ac9c77-83b4-4b1e-9078-2541dcf780bd",
   "metadata": {},
   "outputs": [
    {
     "data": {
      "text/plain": [
       "[1, 2, 3, 4, 5, 6, 100, 90]"
      ]
     },
     "execution_count": 166,
     "metadata": {},
     "output_type": "execute_result"
    }
   ],
   "source": [
    "l3.copy()"
   ]
  },
  {
   "cell_type": "code",
   "execution_count": 172,
   "id": "d0b5b19a-67f4-4680-9b28-a489dc5165d3",
   "metadata": {},
   "outputs": [
    {
     "data": {
      "text/plain": [
       "'Hello priti'"
      ]
     },
     "execution_count": 172,
     "metadata": {},
     "output_type": "execute_result"
    }
   ],
   "source": [
    "str2='Hello priti'\n",
    "str2"
   ]
  },
  {
   "cell_type": "code",
   "execution_count": 174,
   "id": "1d26dc6e-713e-49ce-80ff-b4e34d5c62c8",
   "metadata": {},
   "outputs": [
    {
     "data": {
      "text/plain": [
       "'hello priti'"
      ]
     },
     "execution_count": 174,
     "metadata": {},
     "output_type": "execute_result"
    }
   ],
   "source": [
    "str2.lower()"
   ]
  },
  {
   "cell_type": "code",
   "execution_count": 176,
   "id": "908b291d-7409-4d96-a6af-44e4dca51d18",
   "metadata": {},
   "outputs": [
    {
     "data": {
      "text/plain": [
       "'HELLO PRITI'"
      ]
     },
     "execution_count": 176,
     "metadata": {},
     "output_type": "execute_result"
    }
   ],
   "source": [
    "str2.upper()"
   ]
  },
  {
   "cell_type": "code",
   "execution_count": 184,
   "id": "963ec297-209b-417b-a9af-a5eb1f9cdb38",
   "metadata": {},
   "outputs": [
    {
     "data": {
      "text/plain": [
       "'                                       Hello priti                                        '"
      ]
     },
     "execution_count": 184,
     "metadata": {},
     "output_type": "execute_result"
    }
   ],
   "source": [
    "str2.center(90)"
   ]
  },
  {
   "cell_type": "code",
   "execution_count": 186,
   "id": "5fdbd2fb-0217-4c88-9a77-6bd62fadb63a",
   "metadata": {},
   "outputs": [
    {
     "ename": "TypeError",
     "evalue": "str.join() takes exactly one argument (0 given)",
     "output_type": "error",
     "traceback": [
      "\u001b[1;31m---------------------------------------------------------------------------\u001b[0m",
      "\u001b[1;31mTypeError\u001b[0m                                 Traceback (most recent call last)",
      "Cell \u001b[1;32mIn[186], line 1\u001b[0m\n\u001b[1;32m----> 1\u001b[0m \u001b[38;5;124m'\u001b[39m\u001b[38;5;124m'\u001b[39m\u001b[38;5;241m.\u001b[39mjoin()\n",
      "\u001b[1;31mTypeError\u001b[0m: str.join() takes exactly one argument (0 given)"
     ]
    }
   ],
   "source": [
    "''.join()"
   ]
  },
  {
   "cell_type": "code",
   "execution_count": 188,
   "id": "72f2ecb3-1d9c-481e-ac15-443e55332a3a",
   "metadata": {},
   "outputs": [
    {
     "ename": "SyntaxError",
     "evalue": "invalid syntax (1840344487.py, line 1)",
     "output_type": "error",
     "traceback": [
      "\u001b[1;36m  Cell \u001b[1;32mIn[188], line 1\u001b[1;36m\u001b[0m\n\u001b[1;33m    ''.jion(*)\u001b[0m\n\u001b[1;37m             ^\u001b[0m\n\u001b[1;31mSyntaxError\u001b[0m\u001b[1;31m:\u001b[0m invalid syntax\n"
     ]
    }
   ],
   "source": [
    "''.jion(*)"
   ]
  },
  {
   "cell_type": "code",
   "execution_count": 192,
   "id": "21e40aed-be88-4ead-b754-b226dba3c16f",
   "metadata": {},
   "outputs": [
    {
     "data": {
      "text/plain": [
       "'H*e*l*l*o* *p*r*i*t*i'"
      ]
     },
     "execution_count": 192,
     "metadata": {},
     "output_type": "execute_result"
    }
   ],
   "source": [
    "'*'.join(str2)"
   ]
  },
  {
   "cell_type": "code",
   "execution_count": 194,
   "id": "d7fa6b37-bd2e-406f-a1c0-1cc47844237a",
   "metadata": {},
   "outputs": [
    {
     "data": {
      "text/plain": [
       "'H@e@l@l@o@ @p@r@i@t@i'"
      ]
     },
     "execution_count": 194,
     "metadata": {},
     "output_type": "execute_result"
    }
   ],
   "source": [
    "'@'.join(str2)"
   ]
  },
  {
   "cell_type": "code",
   "execution_count": 196,
   "id": "17c916ac-844d-4104-858f-ce66e308570e",
   "metadata": {},
   "outputs": [
    {
     "data": {
      "text/plain": [
       "'H$e$l$l$o$ $p$r$i$t$i'"
      ]
     },
     "execution_count": 196,
     "metadata": {},
     "output_type": "execute_result"
    }
   ],
   "source": [
    "'$'.join(str2)"
   ]
  },
  {
   "cell_type": "code",
   "execution_count": 218,
   "id": "ca8a0e11-51ad-4ea8-aff1-e7639d0394ab",
   "metadata": {},
   "outputs": [
    {
     "data": {
      "text/plain": [
       "0"
      ]
     },
     "execution_count": 218,
     "metadata": {},
     "output_type": "execute_result"
    }
   ],
   "source": [
    "str2.find('H')"
   ]
  },
  {
   "cell_type": "code",
   "execution_count": 220,
   "id": "beef2f59-ad51-4bdb-8a12-6880155dbd23",
   "metadata": {},
   "outputs": [
    {
     "data": {
      "text/plain": [
       "6"
      ]
     },
     "execution_count": 220,
     "metadata": {},
     "output_type": "execute_result"
    }
   ],
   "source": [
    "str2.find('p')"
   ]
  },
  {
   "cell_type": "code",
   "execution_count": null,
   "id": "19f03d1b-8104-4513-a564-137ad4ed5dd1",
   "metadata": {},
   "outputs": [],
   "source": [
    "\n"
   ]
  },
  {
   "cell_type": "code",
   "execution_count": null,
   "id": "cb19edc0-cf67-4813-a511-4c11e66fd9f5",
   "metadata": {},
   "outputs": [],
   "source": []
  }
 ],
 "metadata": {
  "kernelspec": {
   "display_name": "Python 3 (ipykernel)",
   "language": "python",
   "name": "python3"
  },
  "language_info": {
   "codemirror_mode": {
    "name": "ipython",
    "version": 3
   },
   "file_extension": ".py",
   "mimetype": "text/x-python",
   "name": "python",
   "nbconvert_exporter": "python",
   "pygments_lexer": "ipython3",
   "version": "3.11.7"
  }
 },
 "nbformat": 4,
 "nbformat_minor": 5
}
