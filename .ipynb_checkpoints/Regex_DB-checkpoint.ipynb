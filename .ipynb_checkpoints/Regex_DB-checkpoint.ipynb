{
 "cells": [
  {
   "cell_type": "code",
   "execution_count": 1,
   "id": "38c2ef2b-bf90-4654-a2da-0e3b76fbb43b",
   "metadata": {},
   "outputs": [],
   "source": [
    "# REGEX - Regular Expressions\n",
    "    # pattern matching and identification of reuired data from raw data\n",
    "    # letting the system know the way humans identify different data categories,"
   ]
  },
  {
   "cell_type": "code",
   "execution_count": 66,
   "id": "1b7ee871-f0d0-457d-8301-150db432d8b3",
   "metadata": {},
   "outputs": [],
   "source": [
    "import re # which can be use implement regular expression"
   ]
  },
  {
   "cell_type": "code",
   "execution_count": 68,
   "id": "d9d3036f-408f-44e0-a89e-ae40b3333463",
   "metadata": {},
   "outputs": [
    {
     "ename": "SyntaxError",
     "evalue": "unexpected character after line continuation character (3081653107.py, line 2)",
     "output_type": "error",
     "traceback": [
      "\u001b[1;36m  Cell \u001b[1;32mIn[68], line 2\u001b[1;36m\u001b[0m\n\u001b[1;33m    \\w - anything between a-z, A-Z, 0-9 but not a space\u001b[0m\n\u001b[1;37m     ^\u001b[0m\n\u001b[1;31mSyntaxError\u001b[0m\u001b[1;31m:\u001b[0m unexpected character after line continuation character\n"
     ]
    }
   ],
   "source": [
    "# wildcard characters\n",
    "\\w - anything between a-z, A-Z, 0-9 but not a space\n",
    "\\d - anything between 0-9\n",
    "\\s - any space, newline, tab\n",
    "\n",
    "\\W - anything but not a-z, A-Z,0-9\n",
    "\\D - anything but not 0-9\n",
    "\\S - anything but not space, newline, tab\n",
    "\n",
    "[] - character set"
   ]
  },
  {
   "cell_type": "code",
   "execution_count": 9,
   "id": "833eaece-285e-4e8d-b981-cb58f80c9baf",
   "metadata": {},
   "outputs": [
    {
     "ename": "SyntaxError",
     "evalue": "invalid syntax (3307357038.py, line 2)",
     "output_type": "error",
     "traceback": [
      "\u001b[1;36m  Cell \u001b[1;32mIn[9], line 2\u001b[1;36m\u001b[0m\n\u001b[1;33m    + - 1 or more occurence\u001b[0m\n\u001b[1;37m                  ^\u001b[0m\n\u001b[1;31mSyntaxError\u001b[0m\u001b[1;31m:\u001b[0m invalid syntax\n"
     ]
    }
   ],
   "source": [
    "# repition group\n",
    "+ - 1 or more occurence\n",
    "* - 0 or more occurence\n",
    "? - 0 or 1 occurence\n",
    "{k} - exactly k occurence\n",
    "{m,n} minimum m and maximum n occurence\n",
    ". - any character except newline\n",
    "\n",
    "\\ - to escape special meaning\n",
    "| - or"
   ]
  },
  {
   "cell_type": "code",
   "execution_count": 11,
   "id": "a54fc6c5-b5fc-48b1-ba23-976339e009c9",
   "metadata": {},
   "outputs": [],
   "source": [
    "#re.findall() - function to find all occurence of the pattern in a string"
   ]
  },
  {
   "cell_type": "code",
   "execution_count": 13,
   "id": "7ed3ba3c-82f2-45f6-8ab9-bea650a1a978",
   "metadata": {},
   "outputs": [],
   "source": [
    "searches=\"\"\" how to use regex in python\n",
    "how to use regex in java\n",
    "how to make homemade mayo\n",
    "how to add rrays in python\n",
    "how to learn paragliding\n",
    "\"\"\""
   ]
  },
  {
   "cell_type": "code",
   "execution_count": 15,
   "id": "7886f0ed-9b3a-471a-9536-c1c182b6fc8c",
   "metadata": {},
   "outputs": [
    {
     "data": {
      "text/plain": [
       "['how to use regex in python', 'how to add rrays in python']"
      ]
     },
     "execution_count": 15,
     "metadata": {},
     "output_type": "execute_result"
    }
   ],
   "source": [
    "python_search_pat= r\"how to .+in python\"\n",
    "re.findall(python_search_pat,searches)"
   ]
  },
  {
   "cell_type": "code",
   "execution_count": 58,
   "id": "f8a07a92-811c-42fd-812c-52ea0d8182a4",
   "metadata": {},
   "outputs": [
    {
     "data": {
      "text/plain": [
       "'123-456-7898xxxx365-212-8432xxxx492-428-456589xxxx9995826565xxxxxxxxxxxxxxxxabcdefghijklmnopqrstuvwxyzxxxxABCDEFGHIJKLMNOPQRSTUVWXYZxxxxxxxxxxxx192.168.0.1xxxx192.192.192.168xxxx0.0.0.168xxxx2.2.2.2xxxx3.654.192.1xxxx0.0.0.256xxxx255.255.255.0xxxx255+255.255.0xxxxa.b.c.dexxxx555.555.555.555xxxxxxxxxxxx9995826234xxxxxxxxxxxx04-03-1993xxxx04-03-1903xxxx04-03-93xxxx02-12-1996xxxx02-12-1996xxxx3-11-1998xxxx28-06-200xxxx28-13-2001xxxxxxxx9995820560xxxxxxxxxyz2030@gmail.comxxxxajay_kumar@ahoo.comxxxxram.kumar@@.comxxxxhimanshutyagi0404@gmail.comxxxxhimesh_singh@ahoo.in'"
      ]
     },
     "execution_count": 58,
     "metadata": {},
     "output_type": "execute_result"
    }
   ],
   "source": [
    "data=open('re_data.txt','r').read().strip()\n",
    "data.replace(\"\\n\",'xxxx')"
   ]
  },
  {
   "cell_type": "code",
   "execution_count": 70,
   "id": "e2210ab2-650f-4026-b1b8-f3d761e5f678",
   "metadata": {},
   "outputs": [
    {
     "data": {
      "text/plain": [
       "['9995826565', '9995826234', '9995820560']"
      ]
     },
     "execution_count": 70,
     "metadata": {},
     "output_type": "execute_result"
    }
   ],
   "source": [
    "mob_pat = r'\\d{10}'\n",
    "re.findall(mob_pat,data)"
   ]
  },
  {
   "cell_type": "code",
   "execution_count": null,
   "id": "ccdda6ee-b35d-469d-af4d-4cdbf9df7b76",
   "metadata": {},
   "outputs": [],
   "source": []
  },
  {
   "cell_type": "code",
   "execution_count": 72,
   "id": "ffc1b294-ee4d-405f-8004-3201d7b48190",
   "metadata": {},
   "outputs": [
    {
     "data": {
      "text/plain": [
       "['123-456-7898', '365-212-8432', '492-428-4565']"
      ]
     },
     "execution_count": 72,
     "metadata": {},
     "output_type": "execute_result"
    }
   ],
   "source": [
    "landline_pat=r'\\d{3}-\\d{3}-\\d{4}'\n",
    "re.findall(landline_pat,data)"
   ]
  },
  {
   "cell_type": "code",
   "execution_count": 76,
   "id": "7874680f-1fa1-47e9-a428-7dc6c6a31de6",
   "metadata": {},
   "outputs": [
    {
     "data": {
      "text/plain": [
       "['xyz2030@gmail.com',\n",
       " 'ajay_kumar@ahoo.com',\n",
       " 'himanshutyagi0404@gmail.com',\n",
       " 'himesh_singh@ahoo.in']"
      ]
     },
     "execution_count": 76,
     "metadata": {},
     "output_type": "execute_result"
    }
   ],
   "source": [
    "email_id_pat=r\"[a-z0-9\\.\\_]+@[a-z0-9\\_]+.[a-z]+\"\n",
    "re.findall(email_id_pat,data)"
   ]
  },
  {
   "cell_type": "code",
   "execution_count": 78,
   "id": "88626ff1-98ae-4e84-a75c-9b37fed1b761",
   "metadata": {},
   "outputs": [],
   "source": [
    "#Db-interaction\n",
    "#table-data arranged in rows and columns\n",
    "#RDBMS-relational data base management system\n",
    "# sql-structure query language\n"
   ]
  },
  {
   "cell_type": "code",
   "execution_count": 80,
   "id": "869a6e5c-bfe5-49a2-a754-24f362ad13e7",
   "metadata": {},
   "outputs": [],
   "source": [
    "###DDL-data definition language\n",
    "    #create\n",
    "    #drop\n",
    "    #alter\n",
    "    #truncate\n",
    "    #delete\n",
    "\n",
    "### DML- Data manipulation language\n",
    "    #insert\n",
    "    #update\n",
    "    #delete\n",
    "# need commit code"
   ]
  },
  {
   "cell_type": "code",
   "execution_count": 46,
   "id": "c8d81dbd-2af5-40d0-b7a6-70e8c46872ca",
   "metadata": {},
   "outputs": [],
   "source": [
    "import sqlite3"
   ]
  },
  {
   "cell_type": "code",
   "execution_count": 48,
   "id": "430de607-364e-4e79-bc09-f0d41f2ac228",
   "metadata": {},
   "outputs": [],
   "source": [
    "conn=sqlite3.connect('test.db')"
   ]
  },
  {
   "cell_type": "code",
   "execution_count": 60,
   "id": "d1469011-0a17-4935-829e-4d88d229aca4",
   "metadata": {},
   "outputs": [
    {
     "ename": "OperationalError",
     "evalue": "table company already exists",
     "output_type": "error",
     "traceback": [
      "\u001b[1;31m---------------------------------------------------------------------------\u001b[0m",
      "\u001b[1;31mOperationalError\u001b[0m                          Traceback (most recent call last)",
      "Cell \u001b[1;32mIn[60], line 1\u001b[0m\n\u001b[1;32m----> 1\u001b[0m conn\u001b[38;5;241m.\u001b[39mexecute(\u001b[38;5;124m\"\"\"\u001b[39m\n\u001b[0;32m      2\u001b[0m \u001b[38;5;124mcreate table company(ID INT PRIMARY KEY NOT NULL,\u001b[39m\n\u001b[0;32m      3\u001b[0m \u001b[38;5;124mNAME TEXT NOT NULL,\u001b[39m\n\u001b[0;32m      4\u001b[0m \u001b[38;5;124mAGE INT NOT NULL,ADDRESS CHAR(50),\u001b[39m\n\u001b[0;32m      5\u001b[0m \u001b[38;5;124mSALARY INT\u001b[39m\n\u001b[0;32m      6\u001b[0m \u001b[38;5;124m);\u001b[39m\n\u001b[0;32m      7\u001b[0m \u001b[38;5;124m\"\"\"\u001b[39m)\n",
      "\u001b[1;31mOperationalError\u001b[0m: table company already exists"
     ]
    }
   ],
   "source": [
    "conn.execute(\"\"\"\n",
    "create table company(ID INT PRIMARY KEY NOT NULL,\n",
    "NAME TEXT NOT NULL,\n",
    "AGE INT NOT NULL,ADDRESS CHAR(50),\n",
    "SALARY INT\n",
    ");\n",
    "\"\"\")"
   ]
  },
  {
   "cell_type": "code",
   "execution_count": 68,
   "id": "ef3b228a-7eaa-459d-9109-d60467567e93",
   "metadata": {},
   "outputs": [
    {
     "ename": "IntegrityError",
     "evalue": "UNIQUE constraint failed: company.ID",
     "output_type": "error",
     "traceback": [
      "\u001b[1;31m---------------------------------------------------------------------------\u001b[0m",
      "\u001b[1;31mIntegrityError\u001b[0m                            Traceback (most recent call last)",
      "Cell \u001b[1;32mIn[68], line 7\u001b[0m\n\u001b[0;32m      2\u001b[0m      \u001b[38;5;28;01mfor\u001b[39;00m i \u001b[38;5;129;01min\u001b[39;00m conn\u001b[38;5;241m.\u001b[39mexecute(\u001b[38;5;124m\"\"\"\u001b[39m\u001b[38;5;124mselect*from company\u001b[39m\u001b[38;5;124m\"\"\"\u001b[39m):\n\u001b[0;32m      3\u001b[0m          \u001b[38;5;28mprint\u001b[39m(i)\n\u001b[1;32m----> 7\u001b[0m conn\u001b[38;5;241m.\u001b[39mexecute(\u001b[38;5;124m\"\"\"\u001b[39m\u001b[38;5;124minsert into company(ID,NAME,AGE,ADDRESS,SALARY)values(1,\u001b[39m\u001b[38;5;124m'\u001b[39m\u001b[38;5;124mAJAY\u001b[39m\u001b[38;5;124m'\u001b[39m\u001b[38;5;124m,25,\u001b[39m\u001b[38;5;124m'\u001b[39m\u001b[38;5;124mPune\u001b[39m\u001b[38;5;124m'\u001b[39m\u001b[38;5;124m,1000)\u001b[39m\u001b[38;5;124m\"\"\"\u001b[39m)\n",
      "\u001b[1;31mIntegrityError\u001b[0m: UNIQUE constraint failed: company.ID"
     ]
    }
   ],
   "source": [
    "def table_print():\n",
    "     for i in conn.execute(\"\"\"select*from company\"\"\"):\n",
    "         print(i)\n",
    "         \n",
    "    \n",
    "\n",
    "conn.execute(\"\"\"insert into company(ID,NAME,AGE,ADDRESS,SALARY)values(1,'AJAY',25,'Pune',1000)\"\"\")"
   ]
  },
  {
   "cell_type": "code",
   "execution_count": 62,
   "id": "2d96db1b-7132-4fcd-b403-8c8628354570",
   "metadata": {},
   "outputs": [
    {
     "name": "stdout",
     "output_type": "stream",
     "text": [
      "(2, 'AMIT', 26, 'Goa', 2000)\n",
      "(3, 'ARJUN', 27, 'UK', 3000)\n",
      "(1, 'AJAY', 25, 'Pune', 1000)\n"
     ]
    }
   ],
   "source": [
    "conn.commit()\n",
    "table_print()"
   ]
  },
  {
   "cell_type": "code",
   "execution_count": 106,
   "id": "9887f516-9700-4258-8ddd-b5527e1041fe",
   "metadata": {},
   "outputs": [
    {
     "ename": "IntegrityError",
     "evalue": "UNIQUE constraint failed: company.ID",
     "output_type": "error",
     "traceback": [
      "\u001b[1;31m---------------------------------------------------------------------------\u001b[0m",
      "\u001b[1;31mIntegrityError\u001b[0m                            Traceback (most recent call last)",
      "Cell \u001b[1;32mIn[106], line 1\u001b[0m\n\u001b[1;32m----> 1\u001b[0m conn\u001b[38;5;241m.\u001b[39mexecute(\u001b[38;5;124m\"\"\"\u001b[39m\u001b[38;5;124minsert into company(ID,NAME,AGE,ADDRESS,SALARY)values(2,\u001b[39m\u001b[38;5;124m'\u001b[39m\u001b[38;5;124mAMIT\u001b[39m\u001b[38;5;124m'\u001b[39m\u001b[38;5;124m,26,\u001b[39m\u001b[38;5;124m'\u001b[39m\u001b[38;5;124mGoa\u001b[39m\u001b[38;5;124m'\u001b[39m\u001b[38;5;124m,2000)\u001b[39m\u001b[38;5;124m\"\"\"\u001b[39m)\n",
      "\u001b[1;31mIntegrityError\u001b[0m: UNIQUE constraint failed: company.ID"
     ]
    }
   ],
   "source": [
    "conn.execute(\"\"\"insert into company(ID,NAME,AGE,ADDRESS,SALARY)values(2,'AMIT',26,'Goa',2000)\"\"\")"
   ]
  },
  {
   "cell_type": "code",
   "execution_count": 108,
   "id": "5847edb2-05fc-4309-9e5a-60011becb9ff",
   "metadata": {},
   "outputs": [
    {
     "name": "stdout",
     "output_type": "stream",
     "text": [
      "(2, 'AMIT', 26, 'Goa', 2000)\n",
      "(3, 'ARJUN', 27, 'UK', 3000)\n"
     ]
    }
   ],
   "source": [
    "conn.commit()\n",
    "table_print()"
   ]
  },
  {
   "cell_type": "code",
   "execution_count": 102,
   "id": "cf937a26-09d8-4500-98f9-55132a0f1139",
   "metadata": {},
   "outputs": [
    {
     "ename": "IntegrityError",
     "evalue": "UNIQUE constraint failed: company.ID",
     "output_type": "error",
     "traceback": [
      "\u001b[1;31m---------------------------------------------------------------------------\u001b[0m",
      "\u001b[1;31mIntegrityError\u001b[0m                            Traceback (most recent call last)",
      "Cell \u001b[1;32mIn[102], line 1\u001b[0m\n\u001b[1;32m----> 1\u001b[0m conn\u001b[38;5;241m.\u001b[39mexecute(\u001b[38;5;124m\"\"\"\u001b[39m\u001b[38;5;124minsert into company(ID,NAME,AGE,ADDRESS,SALARY)values(3,\u001b[39m\u001b[38;5;124m'\u001b[39m\u001b[38;5;124mARJUN\u001b[39m\u001b[38;5;124m'\u001b[39m\u001b[38;5;124m,27,\u001b[39m\u001b[38;5;124m'\u001b[39m\u001b[38;5;124mMumbai\u001b[39m\u001b[38;5;124m'\u001b[39m\u001b[38;5;124m,3000)\u001b[39m\u001b[38;5;124m\"\"\"\u001b[39m)\n",
      "\u001b[1;31mIntegrityError\u001b[0m: UNIQUE constraint failed: company.ID"
     ]
    }
   ],
   "source": [
    "conn.execute(\"\"\"insert into company(ID,NAME,AGE,ADDRESS,SALARY)values(3,'ARJUN',27,'Mumbai',3000)\"\"\")"
   ]
  },
  {
   "cell_type": "code",
   "execution_count": 74,
   "id": "c34d99cc-b990-4cc1-a3e5-83fe7f5b720b",
   "metadata": {},
   "outputs": [
    {
     "name": "stdout",
     "output_type": "stream",
     "text": [
      "(2, 'AMIT', 26, 'Goa', 2000)\n",
      "(3, 'ARJUN', 27, 'UK', 3000)\n",
      "(1, 'AJAY', 25, 'Pune', 1000)\n"
     ]
    }
   ],
   "source": [
    "conn.commit()\n",
    "table_print()"
   ]
  },
  {
   "cell_type": "code",
   "execution_count": 76,
   "id": "b8e9a7a2-15d9-494d-b920-0e1f1a51bd26",
   "metadata": {},
   "outputs": [
    {
     "data": {
      "text/plain": [
       "<sqlite3.Cursor at 0x1d5c9572140>"
      ]
     },
     "execution_count": 76,
     "metadata": {},
     "output_type": "execute_result"
    }
   ],
   "source": [
    "conn.execute(\"\"\"update company set address='UK' where id=3\"\"\")"
   ]
  },
  {
   "cell_type": "code",
   "execution_count": 78,
   "id": "48fe81c8-16ec-47e3-8567-77c20c476c0a",
   "metadata": {},
   "outputs": [
    {
     "name": "stdout",
     "output_type": "stream",
     "text": [
      "(2, 'AMIT', 26, 'Goa', 2000)\n",
      "(3, 'ARJUN', 27, 'UK', 3000)\n",
      "(1, 'AJAY', 25, 'Pune', 1000)\n"
     ]
    }
   ],
   "source": [
    "conn.commit()\n",
    "table_print()"
   ]
  },
  {
   "cell_type": "code",
   "execution_count": 80,
   "id": "71aeb265-09b5-4a4f-931a-881229ee3927",
   "metadata": {},
   "outputs": [
    {
     "data": {
      "text/plain": [
       "<sqlite3.Cursor at 0x1d5c954e240>"
      ]
     },
     "execution_count": 80,
     "metadata": {},
     "output_type": "execute_result"
    }
   ],
   "source": [
    "conn.execute('delete from company where id=1')"
   ]
  },
  {
   "cell_type": "code",
   "execution_count": 98,
   "id": "cb620f17-7a5f-4808-b03a-2120ee5eaaf7",
   "metadata": {},
   "outputs": [
    {
     "name": "stdout",
     "output_type": "stream",
     "text": [
      "(2, 'AMIT', 26, 'Goa', 2000)\n",
      "(3, 'ARJUN', 27, 'UK', 3000)\n"
     ]
    }
   ],
   "source": [
    "conn.commit()\n",
    "table_print()"
   ]
  },
  {
   "cell_type": "code",
   "execution_count": 82,
   "id": "ec478ccd-6428-4fd1-a2cd-3e94aed51c9c",
   "metadata": {},
   "outputs": [
    {
     "name": "stdout",
     "output_type": "stream",
     "text": [
      "(3, 'ARJUN', 27, 'UK', 3000)\n",
      "(2, 'AMIT', 26, 'Goa', 2000)\n"
     ]
    }
   ],
   "source": [
    "for i in conn.execute(\"\"\"select*from company order by salary desc\"\"\"):\n",
    "    print(i)"
   ]
  },
  {
   "cell_type": "code",
   "execution_count": 84,
   "id": "43ba9b62-2011-4a37-89ee-0256dab4a1f9",
   "metadata": {},
   "outputs": [
    {
     "name": "stdout",
     "output_type": "stream",
     "text": [
      "(2000,)\n"
     ]
    }
   ],
   "source": [
    "for i in conn.execute(\"\"\"select min(salary) from company\"\"\"):\n",
    "    print(i)"
   ]
  },
  {
   "cell_type": "code",
   "execution_count": 86,
   "id": "7a4c3ee3-a1a8-4fde-8b30-fe5198187b45",
   "metadata": {},
   "outputs": [
    {
     "name": "stdout",
     "output_type": "stream",
     "text": [
      "(2500.0,)\n"
     ]
    }
   ],
   "source": [
    "for i in conn.execute(\"\"\"select AVG(salary) from company\"\"\"):\n",
    "    print(i)"
   ]
  },
  {
   "cell_type": "code",
   "execution_count": 90,
   "id": "ed9f79cc-cab0-4ae1-99ca-4eb7985433d0",
   "metadata": {},
   "outputs": [],
   "source": [
    "data=open('data_to_db.csv','r').read()\n",
    "data=data.split('\\n')"
   ]
  },
  {
   "cell_type": "code",
   "execution_count": 92,
   "id": "b62e30ee-78e8-458a-b246-3c501ef8f4b4",
   "metadata": {},
   "outputs": [],
   "source": [
    "data=data[1:]"
   ]
  },
  {
   "cell_type": "code",
   "execution_count": 94,
   "id": "a4420eab-da72-428a-bab4-0be1bb04e7f1",
   "metadata": {},
   "outputs": [],
   "source": [
    "data=[i.split(',') for i in data]"
   ]
  },
  {
   "cell_type": "code",
   "execution_count": 96,
   "id": "53860f0d-ae57-483a-a6ec-0557155f6101",
   "metadata": {},
   "outputs": [
    {
     "data": {
      "text/plain": [
       "<sqlite3.Cursor at 0x1d5c9571d40>"
      ]
     },
     "execution_count": 96,
     "metadata": {},
     "output_type": "execute_result"
    }
   ],
   "source": [
    "conn.execute(\"\"\"\n",
    "create table company2\n",
    "(NAME TEXT NOT NULL,\n",
    "AGE INT NOT NULL,\n",
    "SALARY INT\n",
    ");\n",
    "\"\"\")"
   ]
  },
  {
   "cell_type": "code",
   "execution_count": 112,
   "id": "592dd191-f3f8-46c3-8fcf-de18fd3716e6",
   "metadata": {},
   "outputs": [],
   "source": [
    "for i in conn.execute(\"\"\"select*from company2\"\"\"):\n",
    "    print(i)"
   ]
  },
  {
   "cell_type": "code",
   "execution_count": 114,
   "id": "8fd897ef-8165-440a-9f47-d0e01de45c57",
   "metadata": {},
   "outputs": [
    {
     "data": {
      "text/plain": [
       "[['ajay', '10', '2000'], ['vijay', '15', '3000'], ['rajat', '45', '3000']]"
      ]
     },
     "execution_count": 114,
     "metadata": {},
     "output_type": "execute_result"
    }
   ],
   "source": [
    "data ###list of list | tuple of tuple | tuple of list"
   ]
  },
  {
   "cell_type": "code",
   "execution_count": 118,
   "id": "2a206f23-bbd9-4604-b5ca-86e7cbd3b9df",
   "metadata": {},
   "outputs": [
    {
     "data": {
      "text/plain": [
       "<sqlite3.Cursor at 0x1d5c95cfcc0>"
      ]
     },
     "execution_count": 118,
     "metadata": {},
     "output_type": "execute_result"
    }
   ],
   "source": [
    "conn.executemany(\"\"\"insert into company2 values(?,?,?)\"\"\",data)"
   ]
  },
  {
   "cell_type": "code",
   "execution_count": 120,
   "id": "da45c77e-8cce-47ee-966c-4c409c6c6f57",
   "metadata": {},
   "outputs": [],
   "source": [
    "conn.commit()"
   ]
  },
  {
   "cell_type": "code",
   "execution_count": 122,
   "id": "18031a17-568b-404b-a1a5-b328e2fb9525",
   "metadata": {},
   "outputs": [
    {
     "name": "stdout",
     "output_type": "stream",
     "text": [
      "('ajay', 10, 2000)\n",
      "('vijay', 15, 3000)\n",
      "('rajat', 45, 3000)\n"
     ]
    }
   ],
   "source": [
    "for i in conn.execute(\"\"\"select*from company2\"\"\"):\n",
    "    print(i)"
   ]
  },
  {
   "cell_type": "code",
   "execution_count": null,
   "id": "6a81de4b-5bc8-491a-ad89-5ed8b1646895",
   "metadata": {},
   "outputs": [],
   "source": []
  }
 ],
 "metadata": {
  "kernelspec": {
   "display_name": "Python 3 (ipykernel)",
   "language": "python",
   "name": "python3"
  },
  "language_info": {
   "codemirror_mode": {
    "name": "ipython",
    "version": 3
   },
   "file_extension": ".py",
   "mimetype": "text/x-python",
   "name": "python",
   "nbconvert_exporter": "python",
   "pygments_lexer": "ipython3",
   "version": "3.11.7"
  }
 },
 "nbformat": 4,
 "nbformat_minor": 5
}
