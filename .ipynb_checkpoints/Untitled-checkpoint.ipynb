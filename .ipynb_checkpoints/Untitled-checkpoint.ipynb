{
 "cells": [
  {
   "cell_type": "code",
   "execution_count": 8,
   "id": "3a2007a0-fe1f-46ff-a2fd-16c71aa34e75",
   "metadata": {},
   "outputs": [
    {
     "data": {
      "text/plain": [
       "False"
      ]
     },
     "execution_count": 8,
     "metadata": {},
     "output_type": "execute_result"
    }
   ],
   "source": [
    "#comparsion opertor\n",
    "num1=10\n",
    "num2=20\n",
    "num1<num2\n",
    "\n",
    "num1>num2\n"
   ]
  },
  {
   "cell_type": "markdown",
   "id": "9a80feec-c8d5-48b5-8c96-ede09f444a65",
   "metadata": {},
   "source": [
    "num1<num2"
   ]
  },
  {
   "cell_type": "code",
   "execution_count": 14,
   "id": "ac1dcd7b-1bfe-41be-b8f5-02525e61c44a",
   "metadata": {},
   "outputs": [
    {
     "data": {
      "text/plain": [
       "False"
      ]
     },
     "execution_count": 14,
     "metadata": {},
     "output_type": "execute_result"
    }
   ],
   "source": [
    "a=100\n",
    "b=200\n",
    "a<=b & b<=a\n",
    "a>=b| b>=a"
   ]
  },
  {
   "cell_type": "code",
   "execution_count": null,
   "id": "ec82d4a1-1f3f-47ea-812a-83accd73f55b",
   "metadata": {},
   "outputs": [],
   "source": []
  }
 ],
 "metadata": {
  "kernelspec": {
   "display_name": "Python 3 (ipykernel)",
   "language": "python",
   "name": "python3"
  },
  "language_info": {
   "codemirror_mode": {
    "name": "ipython",
    "version": 3
   },
   "file_extension": ".py",
   "mimetype": "text/x-python",
   "name": "python",
   "nbconvert_exporter": "python",
   "pygments_lexer": "ipython3",
   "version": "3.11.7"
  }
 },
 "nbformat": 4,
 "nbformat_minor": 5
}
