{
 "cells": [
  {
   "cell_type": "code",
   "execution_count": 3,
   "id": "b4a7b1d1-a3bd-4227-b1b7-27a4511d1af7",
   "metadata": {},
   "outputs": [
    {
     "ename": "SyntaxError",
     "evalue": "invalid syntax (3735198982.py, line 3)",
     "output_type": "error",
     "traceback": [
      "\u001b[1;36m  Cell \u001b[1;32mIn[3], line 3\u001b[1;36m\u001b[0m\n\u001b[1;33m    i++\u001b[0m\n\u001b[1;37m       ^\u001b[0m\n\u001b[1;31mSyntaxError\u001b[0m\u001b[1;31m:\u001b[0m invalid syntax\n"
     ]
    }
   ],
   "source": [
    "i=1\n",
    "while(i<=5):\n",
    "    i++\n",
    "    print(\"*\")\n",
    "    "
   ]
  },
  {
   "cell_type": "code",
   "execution_count": null,
   "id": "fd6c221a-9706-4416-a08c-3c69b3ae2ae3",
   "metadata": {},
   "outputs": [],
   "source": []
  },
  {
   "cell_type": "code",
   "execution_count": null,
   "id": "f54f3232-7030-461f-bf62-1f232f492ba4",
   "metadata": {},
   "outputs": [],
   "source": [
    "i=1\n",
    "while i<=5:\n",
    "    print(\"hello\")\n",
    "         i+=1\n",
    "    "
   ]
  },
  {
   "cell_type": "code",
   "execution_count": 1,
   "id": "222c90b0-2c85-42c9-913e-afa5260bead8",
   "metadata": {},
   "outputs": [
    {
     "name": "stdout",
     "output_type": "stream",
     "text": [
      "i am present in home\n"
     ]
    }
   ],
   "source": [
    "i=1\n",
    "if i<=6:\n",
    "    print(\"i am present in home\")\n",
    "else:\n",
    "    print(\"i am not present in home\")"
   ]
  },
  {
   "cell_type": "code",
   "execution_count": 25,
   "id": "934c7fd7-d551-487e-bbe8-e4b2c8e7531d",
   "metadata": {},
   "outputs": [
    {
     "name": "stdout",
     "output_type": "stream",
     "text": [
      "good evening\n",
      "good night\n"
     ]
    }
   ],
   "source": [
    "i=21\n",
    "if i<=12:\n",
    "    print(\"good morning\")\n",
    "else:\n",
    "    if (i>12)&(i<16):\n",
    "        print(\"good afternoon\")\n",
    "    else:\n",
    "        print(\"good evening\")\n",
    "    if (i>=16) &(i<23):\n",
    "        print(\"good night\")\n",
    "        \n"
   ]
  },
  {
   "cell_type": "code",
   "execution_count": 35,
   "id": "69739a08-5a83-42ed-ac84-421c3366a9dc",
   "metadata": {},
   "outputs": [
    {
     "name": "stdout",
     "output_type": "stream",
     "text": [
      "lets go out\n",
      "sleep\n"
     ]
    }
   ],
   "source": [
    "time=13\n",
    "if time<=17:\n",
    "    print(\"lets go out\")\n",
    "print('sleep')   "
   ]
  },
  {
   "cell_type": "code",
   "execution_count": 39,
   "id": "c15c2edb-c258-46d2-a1f4-a3e0e2819bf4",
   "metadata": {},
   "outputs": [
    {
     "name": "stdout",
     "output_type": "stream",
     "text": [
      "present\n"
     ]
    }
   ],
   "source": [
    "time=20\n",
    "if time>=12:\n",
    "    print(\"present\")\n",
    "else:\n",
    "    print(\"absent\")"
   ]
  },
  {
   "cell_type": "code",
   "execution_count": 45,
   "id": "cae8eed6-a1ff-4dc8-b956-a38866f665a3",
   "metadata": {},
   "outputs": [
    {
     "name": "stdout",
     "output_type": "stream",
     "text": [
      "even\n"
     ]
    }
   ],
   "source": [
    "i=34\n",
    "if i%2==0:\n",
    "    print('even')\n",
    "else:\n",
    "    print('odd')"
   ]
  },
  {
   "cell_type": "code",
   "execution_count": 74,
   "id": "db9ccea9-17ac-446a-b978-56674a901c0d",
   "metadata": {},
   "outputs": [
    {
     "name": "stdout",
     "output_type": "stream",
     "text": [
      "good night\n"
     ]
    }
   ],
   "source": [
    "time=21\n",
    "if time<12:\n",
    "    print('good morning')\n",
    "elif ((time>12) & (time<16)):\n",
    "        print(\"good afternoon\")\n",
    "    \n",
    "elif((time>16)&(time<21)):\n",
    "            print('good evening')\n",
    "else:\n",
    "     print('good night')\n",
    "    \n",
    "    "
   ]
  },
  {
   "cell_type": "code",
   "execution_count": 100,
   "id": "11037c1f-66ad-47fa-862d-7f4a227620a3",
   "metadata": {},
   "outputs": [
    {
     "ename": "KeyError",
     "evalue": "'d'",
     "output_type": "error",
     "traceback": [
      "\u001b[1;31m---------------------------------------------------------------------------\u001b[0m",
      "\u001b[1;31mKeyError\u001b[0m                                  Traceback (most recent call last)",
      "Cell \u001b[1;32mIn[100], line 2\u001b[0m\n\u001b[0;32m      1\u001b[0m d\u001b[38;5;241m=\u001b[39m{\u001b[38;5;124m'\u001b[39m\u001b[38;5;124ma\u001b[39m\u001b[38;5;124m'\u001b[39m:\u001b[38;5;241m0\u001b[39m,\u001b[38;5;124m'\u001b[39m\u001b[38;5;124mb\u001b[39m\u001b[38;5;124m'\u001b[39m:\u001b[38;5;241m1\u001b[39m,\u001b[38;5;124m'\u001b[39m\u001b[38;5;124mc\u001b[39m\u001b[38;5;124m'\u001b[39m:\u001b[38;5;241m0\u001b[39m}\n\u001b[1;32m----> 2\u001b[0m \u001b[38;5;28;01mif\u001b[39;00m d[\u001b[38;5;124m'\u001b[39m\u001b[38;5;124md\u001b[39m\u001b[38;5;124m'\u001b[39m] \u001b[38;5;241m>\u001b[39m \u001b[38;5;241m0\u001b[39m:\n\u001b[0;32m      3\u001b[0m     \u001b[38;5;28mprint\u001b[39m(\u001b[38;5;124m'\u001b[39m\u001b[38;5;124mok1\u001b[39m\u001b[38;5;124m'\u001b[39m)\n\u001b[0;32m      4\u001b[0m \u001b[38;5;28;01melif\u001b[39;00m d[\u001b[38;5;124m'\u001b[39m\u001b[38;5;124mb\u001b[39m\u001b[38;5;124m'\u001b[39m] \u001b[38;5;241m>\u001b[39m \u001b[38;5;241m0\u001b[39m:\n",
      "\u001b[1;31mKeyError\u001b[0m: 'd'"
     ]
    }
   ],
   "source": [
    "d={'a':0,'b':1,'c':0}\n",
    "if d['d'] > 0:\n",
    "    print('ok1')\n",
    "elif d['b'] > 0:\n",
    "    print('ok2')\n",
    "elif d['c'] > 0:\n",
    "    print('ok3')\n",
    "elif d['d'] > 0:\n",
    "    print('ok4')\n",
    "else:\n",
    "    print('not ok')"
   ]
  },
  {
   "cell_type": "code",
   "execution_count": 104,
   "id": "d243039d-1d95-424d-a75a-3afe5aa2e766",
   "metadata": {},
   "outputs": [
    {
     "name": "stdout",
     "output_type": "stream",
     "text": [
      "ok2\n"
     ]
    }
   ],
   "source": [
    "d={'a':0,'b':1,'c':0}\n",
    "if d['c'] > 0:\n",
    "    print('ok1')\n",
    "elif d['b'] > 0:\n",
    "    print('ok2')\n",
    "elif d['c'] > 0:\n",
    "    print('ok3')\n",
    "elif d['d'] > 0:\n",
    "    print('ok4')\n",
    "else:\n",
    "    print('not ok')"
   ]
  },
  {
   "cell_type": "code",
   "execution_count": 106,
   "id": "7dd278cf-1065-470a-94d8-cb73e890e35d",
   "metadata": {},
   "outputs": [
    {
     "name": "stdout",
     "output_type": "stream",
     "text": [
      "i is greater than 15\n"
     ]
    }
   ],
   "source": [
    "i=16\n",
    "if(i>10):\n",
    "    if(i<15):\n",
    "        print('i is smaller than 15')\n",
    "    if(i<12):\n",
    "        print('i is smaller than 12 too')\n",
    "    else:\n",
    "        print('i is greater than 15')"
   ]
  },
  {
   "cell_type": "code",
   "execution_count": 117,
   "id": "8bd3e908-ac78-4e83-a7cb-ec36a4592fb7",
   "metadata": {},
   "outputs": [
    {
     "name": "stdout",
     "output_type": "stream",
     "text": [
      "Z\n"
     ]
    }
   ],
   "source": [
    "i=16\n",
    "if(i<15):\n",
    "    print('X')\n",
    "if(i<12):\n",
    "    print('Y')\n",
    "else:\n",
    "    print('Z')"
   ]
  },
  {
   "cell_type": "code",
   "execution_count": 115,
   "id": "5c11ddb0-9a62-4ec1-8d72-9da8ba04b4f1",
   "metadata": {},
   "outputs": [
    {
     "name": "stdout",
     "output_type": "stream",
     "text": [
      "X\n",
      "Y\n",
      "A\n"
     ]
    }
   ],
   "source": [
    "i=16\n",
    "if(i>15):\n",
    "    print(\"X\")\n",
    "if(i>12):\n",
    "    print(\"Y\")\n",
    "if(i>14):\n",
    "    print(\"A\")\n",
    "else:\n",
    "    print('Z')"
   ]
  },
  {
   "cell_type": "code",
   "execution_count": 119,
   "id": "9735bf1d-891a-4a95-8292-6bf43731aa69",
   "metadata": {},
   "outputs": [
    {
     "name": "stdout",
     "output_type": "stream",
     "text": [
      "C\n"
     ]
    }
   ],
   "source": [
    "a=10\n",
    "if a<10:\n",
    "    print('A')\n",
    "if a>11:\n",
    "    print('B')\n",
    "if a>9:\n",
    "    print('C')\n"
   ]
  },
  {
   "cell_type": "code",
   "execution_count": 121,
   "id": "1167cf85-49ec-4267-a86e-6974f81e3b00",
   "metadata": {},
   "outputs": [
    {
     "name": "stdout",
     "output_type": "stream",
     "text": [
      "start\n",
      "nested if\n",
      "end of nested if block\n",
      "stop\n"
     ]
    }
   ],
   "source": [
    "x=10\n",
    "y=20\n",
    "z=30\n",
    "print('start')\n",
    "if x==10:\n",
    "    print('nested if')\n",
    "if y==20:\n",
    "    print('end of nested if block')\n",
    "else:\n",
    "    print('end of nested if_else block')\n",
    "    if y==20:\n",
    "        print('elif block')\n",
    "    else:\n",
    "        print('end of nested if block')\n",
    "print('stop')    "
   ]
  },
  {
   "cell_type": "code",
   "execution_count": 123,
   "id": "b5731326-c973-4053-9df4-8e148cbe583c",
   "metadata": {},
   "outputs": [
    {
     "name": "stdout",
     "output_type": "stream",
     "text": [
      "hello\n",
      "hello\n",
      "hello\n",
      "hello\n",
      "hello\n"
     ]
    }
   ],
   "source": [
    "i=1\n",
    "while(i<=5):\n",
    "    print('hello')\n",
    "    i+=1"
   ]
  },
  {
   "cell_type": "code",
   "execution_count": 7,
   "id": "259349b9-cf94-4330-8cfd-b2d6e5d34cb8",
   "metadata": {},
   "outputs": [
    {
     "name": "stdout",
     "output_type": "stream",
     "text": [
      "even\n",
      "odd\n",
      "odd\n",
      "even\n",
      "even\n",
      "odd\n",
      "odd\n",
      "even\n",
      "even\n",
      "odd\n"
     ]
    }
   ],
   "source": [
    "i=1\n",
    "while(i<=10):\n",
    "    if i&2==0:\n",
    "        print('even')\n",
    "    else:\n",
    "        print('odd')\n",
    "\n",
    "    i+=1\n"
   ]
  },
  {
   "cell_type": "code",
   "execution_count": 20,
   "id": "ab2ce77f-9b20-489c-82df-b7010520c497",
   "metadata": {},
   "outputs": [
    {
     "name": "stdout",
     "output_type": "stream",
     "text": [
      "100\n",
      "90\n",
      "80\n",
      "70\n",
      "60\n",
      "50\n",
      "40\n",
      "30\n",
      "20\n",
      "10\n"
     ]
    }
   ],
   "source": [
    "i=10\n",
    "while(i>=1):\n",
    "    print(10*i)\n",
    "    i-=1"
   ]
  },
  {
   "cell_type": "code",
   "execution_count": 26,
   "id": "c55bded2-21d1-4e9e-8a2c-b63ad7a8da60",
   "metadata": {},
   "outputs": [
    {
     "name": "stdout",
     "output_type": "stream",
     "text": [
      "2\n",
      "4\n",
      "6\n",
      "8\n",
      "10\n",
      "12\n",
      "14\n",
      "16\n",
      "18\n",
      "20\n"
     ]
    }
   ],
   "source": [
    "i=1\n",
    "while(i<=10):\n",
    "    print(2*i)\n",
    "    i+=1"
   ]
  },
  {
   "cell_type": "code",
   "execution_count": 50,
   "id": "8ffacf97-0a37-43a1-a54e-ec205fd361c6",
   "metadata": {},
   "outputs": [
    {
     "name": "stdout",
     "output_type": "stream",
     "text": [
      "5\n",
      "10\n",
      "15\n",
      "20\n",
      "25\n"
     ]
    }
   ],
   "source": [
    "i=1\n",
    "while(i<=5):\n",
    "    print(5*i)\n",
    "    i+=1"
   ]
  },
  {
   "cell_type": "code",
   "execution_count": 52,
   "id": "2a79800f-ce1d-4b17-8b6e-24191317fc51",
   "metadata": {},
   "outputs": [
    {
     "name": "stdout",
     "output_type": "stream",
     "text": [
      "50\n",
      "45\n",
      "40\n",
      "35\n",
      "30\n",
      "25\n",
      "20\n",
      "15\n",
      "10\n",
      "5\n"
     ]
    }
   ],
   "source": [
    "i=10\n",
    "while(i>=1):\n",
    "    print(5*i)\n",
    "    i-=1"
   ]
  },
  {
   "cell_type": "code",
   "execution_count": 58,
   "id": "fa20c4bf-bc46-46ac-83be-88a3a03bd3e5",
   "metadata": {},
   "outputs": [
    {
     "name": "stdout",
     "output_type": "stream",
     "text": [
      "7\n",
      "14\n",
      "21\n",
      "28\n",
      "35\n",
      "42\n",
      "49\n",
      "56\n",
      "63\n",
      "70\n"
     ]
    }
   ],
   "source": [
    "i=1\n",
    "while(i<=10):\n",
    "    print(7*i)\n",
    "    i+=1\n"
   ]
  },
  {
   "cell_type": "code",
   "execution_count": 62,
   "id": "7515e393-0e0e-4357-9deb-b9543f6fd971",
   "metadata": {},
   "outputs": [
    {
     "name": "stdout",
     "output_type": "stream",
     "text": [
      "10\n",
      "20\n",
      "30\n",
      "40\n",
      "50\n",
      "60\n",
      "70\n",
      "80\n",
      "90\n",
      "100\n"
     ]
    }
   ],
   "source": [
    "for i in range(1,11):\n",
    "    print(10*i)"
   ]
  },
  {
   "cell_type": "code",
   "execution_count": 66,
   "id": "ea17caae-43dd-42f9-b85d-e772795e3c30",
   "metadata": {},
   "outputs": [
    {
     "name": "stdout",
     "output_type": "stream",
     "text": [
      "4\n",
      "8\n",
      "12\n",
      "16\n",
      "20\n",
      "24\n",
      "28\n",
      "32\n",
      "36\n",
      "40\n"
     ]
    }
   ],
   "source": [
    "for i in range(1,11):\n",
    "    print(4*i)"
   ]
  },
  {
   "cell_type": "code",
   "execution_count": 68,
   "id": "06d9fd7a-52cd-40bf-b311-4f6702e9cbc9",
   "metadata": {},
   "outputs": [
    {
     "name": "stdout",
     "output_type": "stream",
     "text": [
      "6\n",
      "12\n",
      "18\n",
      "24\n",
      "30\n",
      "36\n",
      "42\n",
      "48\n",
      "54\n",
      "60\n"
     ]
    }
   ],
   "source": [
    "for i in range(1,11):\n",
    "    print(6*i)"
   ]
  },
  {
   "cell_type": "code",
   "execution_count": 3,
   "id": "7a1da1fd-d860-4a42-b252-60d3d02eaffc",
   "metadata": {},
   "outputs": [
    {
     "name": "stdout",
     "output_type": "stream",
     "text": [
      "6\n",
      "12\n",
      "18\n",
      "24\n",
      "30\n",
      "36\n",
      "42\n",
      "48\n",
      "54\n",
      "60\n"
     ]
    }
   ],
   "source": [
    "i=1\n",
    "while(i<=10):\n",
    "    print(6*i)\n",
    "    i+=1\n",
    "    "
   ]
  },
  {
   "cell_type": "code",
   "execution_count": 11,
   "id": "ab8201c5-bd4c-471e-9e85-9a8f84a99ce0",
   "metadata": {},
   "outputs": [
    {
     "name": "stdout",
     "output_type": "stream",
     "text": [
      "9\n",
      "18\n",
      "27\n",
      "36\n",
      "45\n",
      "54\n",
      "63\n",
      "72\n",
      "81\n",
      "90\n"
     ]
    }
   ],
   "source": [
    "n=1\n",
    "while(n<=10):\n",
    "    print(9*n)\n",
    "    n+=1\n",
    "    \n"
   ]
  },
  {
   "cell_type": "code",
   "execution_count": 13,
   "id": "efeca777-c943-4294-95c6-3b45e90784fa",
   "metadata": {},
   "outputs": [
    {
     "name": "stdout",
     "output_type": "stream",
     "text": [
      "40\n",
      "36\n",
      "32\n",
      "28\n",
      "24\n",
      "20\n",
      "16\n",
      "12\n",
      "8\n",
      "4\n"
     ]
    }
   ],
   "source": [
    "i=10\n",
    "while(i>=1):\n",
    "    print(4*i)\n",
    "    i-=1"
   ]
  },
  {
   "cell_type": "code",
   "execution_count": 15,
   "id": "1c128795-1913-4981-958e-c3aa50593d0c",
   "metadata": {},
   "outputs": [
    {
     "name": "stdout",
     "output_type": "stream",
     "text": [
      "2\n",
      "4\n",
      "6\n",
      "8\n",
      "10\n",
      "12\n",
      "14\n",
      "16\n",
      "18\n",
      "20\n"
     ]
    }
   ],
   "source": [
    "a=1\n",
    "while(a<=10):\n",
    "    print(2*a)\n",
    "    a+=1"
   ]
  },
  {
   "cell_type": "code",
   "execution_count": 17,
   "id": "de4ec9e9-7f5a-43ac-b0e0-ded2db5c4cdf",
   "metadata": {},
   "outputs": [
    {
     "name": "stdout",
     "output_type": "stream",
     "text": [
      "20\n",
      "18\n",
      "16\n",
      "14\n",
      "12\n",
      "10\n",
      "8\n",
      "6\n",
      "4\n",
      "2\n"
     ]
    }
   ],
   "source": [
    "a=10\n",
    "while(a>=1):\n",
    "    print(2*a)\n",
    "    a-=1"
   ]
  },
  {
   "cell_type": "code",
   "execution_count": 19,
   "id": "3cbc7c72-e4b1-4f1e-bbd3-a6c8dd2d004d",
   "metadata": {},
   "outputs": [
    {
     "name": "stdout",
     "output_type": "stream",
     "text": [
      "3\n",
      "6\n",
      "9\n",
      "12\n",
      "15\n",
      "18\n",
      "21\n",
      "24\n",
      "27\n",
      "30\n"
     ]
    }
   ],
   "source": [
    "b=1\n",
    "while(b<=10):\n",
    "    print(3*b)\n",
    "    b+=1"
   ]
  },
  {
   "cell_type": "code",
   "execution_count": 21,
   "id": "201d0537-f992-4ca3-a946-6ff8c1914af4",
   "metadata": {},
   "outputs": [
    {
     "name": "stdout",
     "output_type": "stream",
     "text": [
      "30\n",
      "27\n",
      "24\n",
      "21\n",
      "18\n",
      "15\n",
      "12\n",
      "9\n",
      "6\n",
      "3\n"
     ]
    }
   ],
   "source": [
    "b=10\n",
    "while(b>=1):\n",
    "    print(3*b)\n",
    "    b-=1"
   ]
  },
  {
   "cell_type": "code",
   "execution_count": 33,
   "id": "588d0b2b-f74b-4387-b246-2c75a4635367",
   "metadata": {},
   "outputs": [
    {
     "name": "stdout",
     "output_type": "stream",
     "text": [
      "4\n",
      "8\n",
      "12\n",
      "16\n",
      "20\n",
      "24\n",
      "28\n",
      "32\n",
      "36\n",
      "40\n"
     ]
    }
   ],
   "source": [
    "c=1\n",
    "while(c<=10):\n",
    "    print(4*c)\n",
    "    c+=1"
   ]
  },
  {
   "cell_type": "code",
   "execution_count": 25,
   "id": "fa88fad0-6b7a-485d-8bee-c30c3c628f58",
   "metadata": {},
   "outputs": [
    {
     "name": "stdout",
     "output_type": "stream",
     "text": [
      "40\n",
      "36\n",
      "32\n",
      "28\n",
      "24\n",
      "20\n",
      "16\n",
      "12\n",
      "8\n",
      "4\n"
     ]
    }
   ],
   "source": [
    "c=10\n",
    "while(c>=1):\n",
    "    print(4*c)\n",
    "    c-=1"
   ]
  },
  {
   "cell_type": "code",
   "execution_count": 35,
   "id": "c231a4d4-0cbd-4947-8220-404d6003cf95",
   "metadata": {},
   "outputs": [
    {
     "name": "stdout",
     "output_type": "stream",
     "text": [
      "5\n",
      "10\n",
      "15\n",
      "20\n",
      "25\n",
      "30\n",
      "35\n",
      "40\n",
      "45\n",
      "50\n"
     ]
    }
   ],
   "source": [
    "d=1\n",
    "while(d<=10):\n",
    "    print(5*d)\n",
    "    d+=1"
   ]
  },
  {
   "cell_type": "code",
   "execution_count": 37,
   "id": "79e356ff-16e2-4ce2-a186-06e7d4c765ea",
   "metadata": {},
   "outputs": [
    {
     "name": "stdout",
     "output_type": "stream",
     "text": [
      "50\n",
      "45\n",
      "40\n",
      "35\n",
      "30\n",
      "25\n",
      "20\n",
      "15\n",
      "10\n",
      "5\n"
     ]
    }
   ],
   "source": [
    "d=10\n",
    "while(d>=1):\n",
    "    print(5*d)\n",
    "    d-=1"
   ]
  },
  {
   "cell_type": "code",
   "execution_count": 39,
   "id": "6e04bc2e-6244-4779-8db8-31957fd0e9ac",
   "metadata": {},
   "outputs": [
    {
     "name": "stdout",
     "output_type": "stream",
     "text": [
      "6\n",
      "12\n",
      "18\n",
      "24\n",
      "30\n",
      "36\n",
      "42\n",
      "48\n",
      "54\n",
      "60\n"
     ]
    }
   ],
   "source": [
    "e=1\n",
    "while(e<=10):\n",
    "    print(6*e)\n",
    "    e+=1"
   ]
  },
  {
   "cell_type": "code",
   "execution_count": 41,
   "id": "23968024-dfaa-457c-873b-c57f96978d5e",
   "metadata": {},
   "outputs": [
    {
     "name": "stdout",
     "output_type": "stream",
     "text": [
      "60\n",
      "54\n",
      "48\n",
      "42\n",
      "36\n",
      "30\n",
      "24\n",
      "18\n",
      "12\n",
      "6\n"
     ]
    }
   ],
   "source": [
    "e=10\n",
    "while(e>=1):\n",
    "    print(6*e)\n",
    "    e-=1"
   ]
  },
  {
   "cell_type": "code",
   "execution_count": 43,
   "id": "5e540bfa-3608-473a-bd98-1f1a2f68e7cc",
   "metadata": {},
   "outputs": [
    {
     "name": "stdout",
     "output_type": "stream",
     "text": [
      "7\n",
      "14\n",
      "21\n",
      "28\n",
      "35\n",
      "42\n",
      "49\n",
      "56\n",
      "63\n",
      "70\n"
     ]
    }
   ],
   "source": [
    "f=1\n",
    "while(f<=10):\n",
    "    print(7*f)\n",
    "    f+=1"
   ]
  },
  {
   "cell_type": "code",
   "execution_count": 49,
   "id": "419b27a5-4c98-401d-88b5-4b94bb949054",
   "metadata": {},
   "outputs": [
    {
     "name": "stdout",
     "output_type": "stream",
     "text": [
      "70\n",
      "63\n",
      "56\n",
      "49\n",
      "42\n",
      "35\n",
      "28\n",
      "21\n",
      "14\n",
      "7\n"
     ]
    }
   ],
   "source": [
    "f=10\n",
    "while(f>=1):\n",
    "    print(7*f)\n",
    "    f-=1"
   ]
  },
  {
   "cell_type": "code",
   "execution_count": 51,
   "id": "f0111617-3c73-4fd3-a475-ed8c22fbf788",
   "metadata": {},
   "outputs": [
    {
     "name": "stdout",
     "output_type": "stream",
     "text": [
      "8\n",
      "16\n",
      "24\n",
      "32\n",
      "40\n",
      "48\n",
      "56\n",
      "64\n",
      "72\n",
      "80\n"
     ]
    }
   ],
   "source": [
    "g=1\n",
    "while(g<=10):\n",
    "    print(8*g)\n",
    "    g+=1"
   ]
  },
  {
   "cell_type": "code",
   "execution_count": 55,
   "id": "9e031881-113d-4621-9f3c-5714af399ca2",
   "metadata": {},
   "outputs": [
    {
     "name": "stdout",
     "output_type": "stream",
     "text": [
      "80\n",
      "72\n",
      "64\n",
      "56\n",
      "48\n",
      "40\n",
      "32\n",
      "24\n",
      "16\n",
      "8\n"
     ]
    }
   ],
   "source": [
    "g=10\n",
    "while(g>=1):\n",
    "    print(8*g)\n",
    "    g-=1"
   ]
  },
  {
   "cell_type": "code",
   "execution_count": 57,
   "id": "1ee61e58-1751-4f65-b299-4157bf9e0988",
   "metadata": {},
   "outputs": [
    {
     "name": "stdout",
     "output_type": "stream",
     "text": [
      "9\n",
      "18\n",
      "27\n",
      "36\n",
      "45\n",
      "54\n",
      "63\n",
      "72\n",
      "81\n",
      "90\n"
     ]
    }
   ],
   "source": [
    "h=1\n",
    "while(h<=10):\n",
    "    print(9*h)\n",
    "    h+=1"
   ]
  },
  {
   "cell_type": "code",
   "execution_count": 59,
   "id": "e2736521-274d-46df-a265-dc76577de845",
   "metadata": {},
   "outputs": [
    {
     "name": "stdout",
     "output_type": "stream",
     "text": [
      "90\n",
      "81\n",
      "72\n",
      "63\n",
      "54\n",
      "45\n",
      "36\n",
      "27\n",
      "18\n",
      "9\n"
     ]
    }
   ],
   "source": [
    "h=10\n",
    "while(h>=1):\n",
    "    print(9*h)\n",
    "    h-=1"
   ]
  },
  {
   "cell_type": "code",
   "execution_count": 1,
   "id": "b615c99b-671e-4251-b967-86c6453bd80e",
   "metadata": {},
   "outputs": [
    {
     "name": "stdout",
     "output_type": "stream",
     "text": [
      "10\n",
      "20\n",
      "30\n",
      "40\n",
      "50\n",
      "60\n",
      "70\n",
      "80\n",
      "90\n",
      "100\n"
     ]
    }
   ],
   "source": [
    "i=1\n",
    "while(i<=10):\n",
    "    print(10*i)\n",
    "    i+=1"
   ]
  },
  {
   "cell_type": "code",
   "execution_count": 3,
   "id": "02f52788-8945-4165-ab81-61e13eb82c03",
   "metadata": {},
   "outputs": [
    {
     "name": "stdout",
     "output_type": "stream",
     "text": [
      "100\n",
      "90\n",
      "80\n",
      "70\n",
      "60\n",
      "50\n",
      "40\n",
      "30\n",
      "20\n",
      "10\n"
     ]
    }
   ],
   "source": [
    "i=10\n",
    "while(i>=1):\n",
    "    print(10*i)\n",
    "    i-=1"
   ]
  },
  {
   "cell_type": "code",
   "execution_count": 35,
   "id": "b47ac9c7-75a1-482e-aabd-0ea38cf82383",
   "metadata": {},
   "outputs": [
    {
     "name": "stdout",
     "output_type": "stream",
     "text": [
      "11\n",
      "22\n",
      "33\n",
      "44\n",
      "55\n",
      "66\n",
      "77\n",
      "88\n",
      "99\n",
      "110\n"
     ]
    }
   ],
   "source": [
    "for i in range(1,11):\n",
    "    print(11*i)"
   ]
  },
  {
   "cell_type": "code",
   "execution_count": 45,
   "id": "94f2a98b-1b92-40e3-9b57-4f64aa573eb8",
   "metadata": {},
   "outputs": [
    {
     "name": "stdout",
     "output_type": "stream",
     "text": [
      "12\n",
      "24\n",
      "36\n",
      "48\n",
      "60\n",
      "72\n",
      "84\n",
      "96\n",
      "108\n",
      "120\n"
     ]
    }
   ],
   "source": [
    "for i in range(1,11):\n",
    "    print(12*i)"
   ]
  },
  {
   "cell_type": "code",
   "execution_count": 47,
   "id": "42fe152d-283f-48c6-b144-a765c073d7bd",
   "metadata": {},
   "outputs": [
    {
     "name": "stdout",
     "output_type": "stream",
     "text": [
      "13\n",
      "26\n",
      "39\n",
      "52\n",
      "65\n",
      "78\n",
      "91\n",
      "104\n",
      "117\n",
      "130\n"
     ]
    }
   ],
   "source": [
    "for num in range(1,11):\n",
    "    print(13*num)"
   ]
  },
  {
   "cell_type": "code",
   "execution_count": 53,
   "id": "6e0457a9-7e27-460c-b92d-d323136a7a6c",
   "metadata": {},
   "outputs": [
    {
     "name": "stdout",
     "output_type": "stream",
     "text": [
      "1\n",
      "2\n",
      "3\n",
      "4\n",
      "5\n",
      "6\n",
      "7\n",
      "8\n",
      "9\n",
      "10\n"
     ]
    }
   ],
   "source": [
    "for i in range(1,11):\n",
    "    print(i)"
   ]
  },
  {
   "cell_type": "code",
   "execution_count": 55,
   "id": "08ff7a27-4c93-46c4-94f7-4608201b2ea6",
   "metadata": {},
   "outputs": [
    {
     "name": "stdout",
     "output_type": "stream",
     "text": [
      "14\n",
      "28\n",
      "42\n",
      "56\n",
      "70\n",
      "84\n",
      "98\n",
      "112\n",
      "126\n",
      "140\n"
     ]
    }
   ],
   "source": [
    "for i in range(1,11):\n",
    "    print(14*i)"
   ]
  },
  {
   "cell_type": "code",
   "execution_count": 67,
   "id": "4a48d3d8-e490-4ec6-91bc-31702209e186",
   "metadata": {},
   "outputs": [
    {
     "name": "stdout",
     "output_type": "stream",
     "text": [
      "Hello\n",
      "Hello\n",
      "Hello\n",
      "Hello\n",
      "Hello\n",
      "Hello\n",
      "Hello\n",
      "Hello\n",
      "Hello\n",
      "Hello\n",
      "Hello\n"
     ]
    }
   ],
   "source": [
    "\n",
    "for letter in range(11):\n",
    "    print('Hello')"
   ]
  },
  {
   "cell_type": "code",
   "execution_count": null,
   "id": "56b7a5f2-6d0c-4080-9473-4f442d9366a6",
   "metadata": {},
   "outputs": [],
   "source": []
  }
 ],
 "metadata": {
  "kernelspec": {
   "display_name": "Python 3 (ipykernel)",
   "language": "python",
   "name": "python3"
  },
  "language_info": {
   "codemirror_mode": {
    "name": "ipython",
    "version": 3
   },
   "file_extension": ".py",
   "mimetype": "text/x-python",
   "name": "python",
   "nbconvert_exporter": "python",
   "pygments_lexer": "ipython3",
   "version": "3.11.7"
  }
 },
 "nbformat": 4,
 "nbformat_minor": 5
}
