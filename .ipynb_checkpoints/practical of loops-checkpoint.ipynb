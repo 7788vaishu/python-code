{
 "cells": [
  {
   "cell_type": "code",
   "execution_count": 3,
   "id": "15be73bc-c79e-4ba7-8b1c-b9ea786c6aff",
   "metadata": {},
   "outputs": [
    {
     "name": "stdout",
     "output_type": "stream",
     "text": [
      "1\n",
      "2\n",
      "3\n",
      "4\n",
      "5\n",
      "6\n",
      "7\n",
      "8\n",
      "9\n",
      "10\n"
     ]
    }
   ],
   "source": [
    "#print number from 1 to 10 using a for loop\n",
    "for i in range(1,11):\n",
    "    print(i)"
   ]
  },
  {
   "cell_type": "code",
   "execution_count": 27,
   "id": "65a69796-2594-466f-b7db-a468c67dc1d9",
   "metadata": {},
   "outputs": [
    {
     "name": "stdout",
     "output_type": "stream",
     "text": [
      "2\n",
      "5\n",
      "9\n",
      "14\n",
      "20\n",
      "27\n",
      "35\n",
      "44\n",
      "54\n"
     ]
    }
   ],
   "source": [
    "#calculate the sum of numbers from 1 to10 using a or loop\n",
    "sum = 0\n",
    "for i in range(2,11):\n",
    "    sum += i\n",
    "    print(sum)"
   ]
  },
  {
   "cell_type": "code",
   "execution_count": 15,
   "id": "424be3e3-abad-416f-bf37-5a4ce17a9c63",
   "metadata": {},
   "outputs": [
    {
     "name": "stdout",
     "output_type": "stream",
     "text": [
      "1\n",
      "2\n",
      "3\n",
      "4\n",
      "5\n"
     ]
    }
   ],
   "source": [
    "# print the elements of a list using a for loop\n",
    "my_list=[1,2,3,4,5]\n",
    "for element in my_list:\n",
    "    print(element)"
   ]
  },
  {
   "cell_type": "code",
   "execution_count": 19,
   "id": "9f6d1ef8-5214-43bb-81b5-129915b61158",
   "metadata": {},
   "outputs": [
    {
     "name": "stdout",
     "output_type": "stream",
     "text": [
      "1\n",
      "2\n",
      "3\n",
      "4\n",
      "5\n",
      "6\n",
      "7\n",
      "8\n",
      "9\n",
      "10\n"
     ]
    }
   ],
   "source": [
    "#calculate the product of elements in a list  for loop\n",
    "my_list=[1,2,3,4,5]\n",
    "product=1\n",
    "for i in range(1,11):\n",
    "    product*=i\n",
    "    print(i)"
   ]
  },
  {
   "cell_type": "code",
   "execution_count": 23,
   "id": "fd71bfd6-c8d5-4d66-8635-cc68d80cfb78",
   "metadata": {},
   "outputs": [
    {
     "name": "stdout",
     "output_type": "stream",
     "text": [
      "3\n",
      "5\n",
      "7\n",
      "9\n"
     ]
    }
   ],
   "source": [
    "#print even numbers from 1 to 10 using a for loop\n",
    "for num in range(3,11,2):\n",
    "    print(num)"
   ]
  },
  {
   "cell_type": "code",
   "execution_count": 35,
   "id": "b7b14614-ee9b-4098-bfb3-394ba7cd5cbd",
   "metadata": {},
   "outputs": [
    {
     "name": "stdout",
     "output_type": "stream",
     "text": [
      "10\n",
      "9\n",
      "8\n",
      "7\n",
      "6\n",
      "5\n",
      "4\n",
      "3\n",
      "2\n",
      "1\n"
     ]
    }
   ],
   "source": [
    "# print numbers in reverse from 10 to 1 using loop\n",
    "for i in range(10,0,-1):\n",
    "    print(i)"
   ]
  },
  {
   "cell_type": "code",
   "execution_count": 51,
   "id": "7ff2d957-58f6-4479-990e-cb6da4892703",
   "metadata": {},
   "outputs": [
    {
     "name": "stdout",
     "output_type": "stream",
     "text": [
      "h\n",
      "e\n",
      "l\n",
      "l\n",
      "o\n",
      " \n",
      "j\n",
      "o\n",
      "h\n",
      "n\n"
     ]
    }
   ],
   "source": [
    "# print charcters of a string using a for loop\n",
    "letter='hello john'\n",
    "for char in letter:\n",
    "    print(char)"
   ]
  },
  {
   "cell_type": "code",
   "execution_count": 55,
   "id": "ab836878-063f-43e8-95d0-e164fd4b1e79",
   "metadata": {},
   "outputs": [
    {
     "name": "stdout",
     "output_type": "stream",
     "text": [
      "9\n"
     ]
    }
   ],
   "source": [
    "# find the largest number in a list using a for loop\n",
    "my_list=[3,9,1,2,8]\n",
    "largest=my_list[0]\n",
    "for num in my_list:\n",
    "    if num>largest:\n",
    "        largest=num\n",
    "        print(largest)"
   ]
  },
  {
   "cell_type": "code",
   "execution_count": 69,
   "id": "3d24f78b-5ae9-4a09-8709-a187e3f66375",
   "metadata": {},
   "outputs": [
    {
     "name": "stdout",
     "output_type": "stream",
     "text": [
      "1\n"
     ]
    }
   ],
   "source": [
    "# find the smallest number in a list using a for loop\n",
    "my_list=[3,4,2,1,6,7]\n",
    "smallest=my_list[0]\n",
    "for num in my_list:\n",
    "    if num<smallest:\n",
    "        smallest=num\n",
    "print(smallest)"
   ]
  },
  {
   "cell_type": "code",
   "execution_count": 71,
   "id": "a8945a8a-f276-4033-a979-8b3357e6f2e4",
   "metadata": {},
   "outputs": [
    {
     "name": "stdout",
     "output_type": "stream",
     "text": [
      "7.4\n"
     ]
    }
   ],
   "source": [
    "#find the average of number in a list using a for loop\n",
    "my_list=[4,7,9,2,5]\n",
    "tot=10\n",
    "for num in my_list:\n",
    "    tot +=num\n",
    "average=tot/len(my_list)  \n",
    "print(average)"
   ]
  },
  {
   "cell_type": "code",
   "execution_count": 96,
   "id": "3f4bc096-0449-44d5-af65-85ae0be9ba08",
   "metadata": {},
   "outputs": [
    {
     "name": "stdout",
     "output_type": "stream",
     "text": [
      "a\n",
      "p\n",
      "p\n",
      "y\n"
     ]
    }
   ],
   "source": [
    "#print all upper letters in string using a for loop\n",
    "str=(\"Happy HOLI\")\n",
    "for char in str:\n",
    "        if char.islower():\n",
    "            print(char)"
   ]
  },
  {
   "cell_type": "code",
   "execution_count": 125,
   "id": "f2ad59c6-a8ff-434a-bebd-23daf2a4f6ea",
   "metadata": {},
   "outputs": [
    {
     "name": "stdout",
     "output_type": "stream",
     "text": [
      "3\n"
     ]
    }
   ],
   "source": [
    "# Count the number of vowels in a string using a for loop\n",
    "str='wereytruyndfgs'\n",
    "vowels=\"AEIOUaeiou\"\n",
    "count = 0\n",
    "for char in str:\n",
    "    if char in vowels:\n",
    "        count += 1\n",
    "print(count)"
   ]
  },
  {
   "cell_type": "code",
   "execution_count": 149,
   "id": "c96cbd6b-57c5-41c1-9f8f-686d2a82940b",
   "metadata": {},
   "outputs": [
    {
     "name": "stdout",
     "output_type": "stream",
     "text": [
      "*****\n",
      "******\n",
      "*******\n"
     ]
    }
   ],
   "source": [
    "#print a pattern of stars using nested for loops\n",
    "for i in range(1,4):\n",
    "    for j in range(i+4):\n",
    "        print(\"*\",end=\"\")\n",
    "    print()"
   ]
  },
  {
   "cell_type": "code",
   "execution_count": null,
   "id": "b15769b0-9b52-48f6-94d5-eee95b19482e",
   "metadata": {},
   "outputs": [],
   "source": [
    "#calculate factorial of a number using a while loop\n",
    "fact=1\n",
    "num=5\n",
    "while(num>0):\n",
    "    fact*=num\n",
    "    num-=1\n",
    "print(fact)     \n",
    "    "
   ]
  },
  {
   "cell_type": "code",
   "execution_count": 164,
   "id": "fc297264-a649-4647-a5fd-effb2233dc64",
   "metadata": {},
   "outputs": [
    {
     "name": "stdout",
     "output_type": "stream",
     "text": [
      "24\n"
     ]
    }
   ],
   "source": [
    "#0r calculate factorial of a number using a while loop\n",
    "num = 4\n",
    "factorial = 1\n",
    "while num > 0:\n",
    "    factorial *= num\n",
    "    num -= 1\n",
    "print(factorial)   "
   ]
  },
  {
   "cell_type": "code",
   "execution_count": null,
   "id": "2d379560-7022-4130-b84e-3c2e5a39b21f",
   "metadata": {},
   "outputs": [],
   "source": []
  }
 ],
 "metadata": {
  "kernelspec": {
   "display_name": "Python 3 (ipykernel)",
   "language": "python",
   "name": "python3"
  },
  "language_info": {
   "codemirror_mode": {
    "name": "ipython",
    "version": 3
   },
   "file_extension": ".py",
   "mimetype": "text/x-python",
   "name": "python",
   "nbconvert_exporter": "python",
   "pygments_lexer": "ipython3",
   "version": "3.11.7"
  }
 },
 "nbformat": 4,
 "nbformat_minor": 5
}
