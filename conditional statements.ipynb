{
 "cells": [
  {
   "cell_type": "code",
   "execution_count": null,
   "id": "fd9da254-0c52-4cfe-ac30-777955b905c7",
   "metadata": {},
   "outputs": [],
   "source": [
    "###conditional statements\n",
    "#syntax\n",
    "# if condition/test_expression:\n",
    "# the process/code which should run when the condition/test_expression come out to be true\n",
    "# if can exists alone but else cant"
   ]
  },
  {
   "cell_type": "code",
   "execution_count": 1,
   "id": "e83657be-6cd2-46f6-a347-b7f84cf79815",
   "metadata": {},
   "outputs": [
    {
     "ename": "SyntaxError",
     "evalue": "invalid syntax (1018421796.py, line 3)",
     "output_type": "error",
     "traceback": [
      "\u001b[1;36m  Cell \u001b[1;32mIn[1], line 3\u001b[1;36m\u001b[0m\n\u001b[1;33m    code/process will run when test_expr is True\u001b[0m\n\u001b[1;37m                 ^\u001b[0m\n\u001b[1;31mSyntaxError\u001b[0m\u001b[1;31m:\u001b[0m invalid syntax\n"
     ]
    }
   ],
   "source": [
    "#syntax2\n",
    "#if test_expression:\n",
    "    #code/process will run when test_expr is True\n",
    "#else\n",
    "   # code/process will run when test_expr is False"
   ]
  },
  {
   "cell_type": "code",
   "execution_count": 3,
   "id": "82a921e3-00ee-42c8-a14f-bc1643084fc4",
   "metadata": {},
   "outputs": [
    {
     "name": "stdout",
     "output_type": "stream",
     "text": [
      "1\n"
     ]
    }
   ],
   "source": [
    "if True:\n",
    "    print('1')\n",
    "else:\n",
    "    print('2')"
   ]
  },
  {
   "cell_type": "code",
   "execution_count": 5,
   "id": "ca49275b-ed59-4b94-b9ba-a891d99c84de",
   "metadata": {},
   "outputs": [
    {
     "name": "stdout",
     "output_type": "stream",
     "text": [
      "2\n"
     ]
    }
   ],
   "source": [
    "if False:\n",
    "    print('1')\n",
    "else:\n",
    "    print('2')"
   ]
  },
  {
   "cell_type": "code",
   "execution_count": 9,
   "id": "c8b47a62-45f3-47c6-9d83-f880ad0868cd",
   "metadata": {},
   "outputs": [
    {
     "name": "stdout",
     "output_type": "stream",
     "text": [
      "lets go out\n"
     ]
    }
   ],
   "source": [
    "time=17\n",
    "if time<=17:\n",
    "    print('lets go out')\n",
    "else:\n",
    "    print('order at home')"
   ]
  },
  {
   "cell_type": "code",
   "execution_count": 13,
   "id": "74f15756-e0bd-4cd5-ac1a-e9ef7e0fc709",
   "metadata": {},
   "outputs": [
    {
     "name": "stdout",
     "output_type": "stream",
     "text": [
      "order at home\n"
     ]
    }
   ],
   "source": [
    "time=18\n",
    "if time<=17:\n",
    "    print('lets go out')\n",
    "else:\n",
    "    print('order at home')"
   ]
  },
  {
   "cell_type": "code",
   "execution_count": 19,
   "id": "43258ccc-4acd-4211-8519-780ed5fa38b1",
   "metadata": {},
   "outputs": [
    {
     "name": "stdout",
     "output_type": "stream",
     "text": [
      "order\n"
     ]
    }
   ],
   "source": [
    "time=19\n",
    "if time<=17:\n",
    "    print('lets go out')\n",
    "\n",
    "else:\n",
    "    print('order')"
   ]
  },
  {
   "cell_type": "code",
   "execution_count": 31,
   "id": "e7eebe22-98db-47c7-96ab-d1db79fd94de",
   "metadata": {},
   "outputs": [
    {
     "name": "stdout",
     "output_type": "stream",
     "text": [
      "good night\n"
     ]
    }
   ],
   "source": [
    "time=23\n",
    "if time<12:\n",
    "    print('good morning')\n",
    "else:\n",
    "    if ((time>=12) & (time<16)):\n",
    "        print('good afternoon')\n",
    "    else:\n",
    "        if((time>=16) & (time<21)):\n",
    "            print('good evening')\n",
    "        else:\n",
    "            print('good night')"
   ]
  },
  {
   "cell_type": "code",
   "execution_count": 33,
   "id": "9006a091-afcc-406c-b6cc-3f80878d06f1",
   "metadata": {},
   "outputs": [
    {
     "name": "stdout",
     "output_type": "stream",
     "text": [
      "hello\n",
      "hello\n",
      "hello\n",
      "hello\n",
      "hello\n",
      "hello\n",
      "hello\n",
      "hello\n"
     ]
    }
   ],
   "source": [
    "for i in range(8):\n",
    "    print('hello')"
   ]
  },
  {
   "cell_type": "code",
   "execution_count": 3,
   "id": "ebebde15-7f63-4fd6-a726-b7d6bb9c443f",
   "metadata": {},
   "outputs": [
    {
     "name": "stdout",
     "output_type": "stream",
     "text": [
      "0\n",
      "1\n",
      "2\n",
      "3\n",
      "4\n",
      "5\n"
     ]
    }
   ],
   "source": [
    "i=0\n",
    "while(i<=5):\n",
    "    print(i)\n",
    "    i+=1"
   ]
  },
  {
   "cell_type": "code",
   "execution_count": 8,
   "id": "eabd2157-852c-47c3-8ccf-201539981699",
   "metadata": {},
   "outputs": [
    {
     "name": "stdout",
     "output_type": "stream",
     "text": [
      "even\n",
      "odd\n",
      "even\n",
      "odd\n",
      "even\n",
      "odd\n",
      "even\n"
     ]
    }
   ],
   "source": [
    "i=0\n",
    "while i<=6:\n",
    "    if i%2==0:\n",
    "        print('even')\n",
    "    else:\n",
    "        print('odd')\n",
    "    i+=1"
   ]
  },
  {
   "cell_type": "code",
   "execution_count": null,
   "id": "a73e36b4-b113-43d5-852a-f090d98aacbc",
   "metadata": {},
   "outputs": [],
   "source": []
  },
  {
   "cell_type": "code",
   "execution_count": null,
   "id": "07c95e44-6dab-4a87-bb1d-66f416fc451e",
   "metadata": {},
   "outputs": [],
   "source": [
    "i=2\n",
    "while i"
   ]
  },
  {
   "cell_type": "code",
   "execution_count": 20,
   "id": "67326571-ddd2-4b60-84a1-696b3c1925a4",
   "metadata": {},
   "outputs": [
    {
     "name": "stdout",
     "output_type": "stream",
     "text": [
      "5\n",
      "10\n",
      "15\n",
      "20\n",
      "25\n",
      "30\n",
      "35\n",
      "40\n",
      "45\n",
      "50\n"
     ]
    }
   ],
   "source": [
    "for i in range(1,11):\n",
    "    print(5*i)"
   ]
  },
  {
   "cell_type": "code",
   "execution_count": null,
   "id": "26f3cc02-171e-407b-bb4c-f81231c98655",
   "metadata": {},
   "outputs": [],
   "source": [
    "i=0\n",
    "while i<10:\n",
    "    print(5*(i+1))"
   ]
  },
  {
   "cell_type": "code",
   "execution_count": 1,
   "id": "36aa5bc5-6a39-483f-af9b-5460f8d26b38",
   "metadata": {},
   "outputs": [],
   "source": [
    "#continue\n",
    "# break\n",
    "# else"
   ]
  },
  {
   "cell_type": "code",
   "execution_count": 9,
   "id": "bf14b024-a9bf-4d42-a506-535e228c7326",
   "metadata": {},
   "outputs": [
    {
     "name": "stdout",
     "output_type": "stream",
     "text": [
      "0\n",
      "1\n",
      "2\n",
      "3\n",
      "4\n",
      "5\n",
      "code ends\n"
     ]
    }
   ],
   "source": [
    "i=0\n",
    "while i<=5:\n",
    "    print(i)\n",
    "    i+=1\n",
    "else:\n",
    "    print('code ends')"
   ]
  },
  {
   "cell_type": "code",
   "execution_count": 11,
   "id": "2d8a4148-cd42-4379-9e2c-98fed55d55e6",
   "metadata": {},
   "outputs": [
    {
     "name": "stdout",
     "output_type": "stream",
     "text": [
      "hello\n",
      "hello\n",
      "hello\n",
      "hello\n",
      "hello\n",
      "hello\n"
     ]
    }
   ],
   "source": [
    "#while\n",
    "#counter_initialise\n",
    "#while test_expr:\n",
    "#  code to run while test_expr is true\n",
    "# inc/dec\n",
    "# loop will run till test_expr is true\n",
    "# loop will end when test_expr become false\n",
    "i=0\n",
    "while i<=5:\n",
    "    print('hello')\n",
    "    i+=1"
   ]
  },
  {
   "cell_type": "code",
   "execution_count": 15,
   "id": "eb071a9f-da37-4580-8b75-e2ba9e3a27fd",
   "metadata": {},
   "outputs": [
    {
     "name": "stdout",
     "output_type": "stream",
     "text": [
      "0\n",
      "1\n",
      "2\n",
      "3\n",
      "4\n",
      "5\n"
     ]
    }
   ],
   "source": [
    "i=0\n",
    "while i<=5:\n",
    "    print(i)\n",
    "    i+=1"
   ]
  },
  {
   "cell_type": "code",
   "execution_count": 19,
   "id": "baf792e1-ffeb-47fb-93cf-75f2f171f814",
   "metadata": {},
   "outputs": [
    {
     "name": "stdout",
     "output_type": "stream",
     "text": [
      "Even- 0\n",
      "odd- 1\n",
      "Even- 2\n",
      "odd- 3\n",
      "Even- 4\n",
      "odd- 5\n"
     ]
    }
   ],
   "source": [
    "i=0\n",
    "while i<=5:\n",
    "    if i%2==0:\n",
    "        print('Even-',i)\n",
    "    else:\n",
    "        print('odd-',i)\n",
    "    i+=1"
   ]
  },
  {
   "cell_type": "code",
   "execution_count": 25,
   "id": "cdeffcb6-f543-4134-9301-072543fddee4",
   "metadata": {},
   "outputs": [
    {
     "name": "stdout",
     "output_type": "stream",
     "text": [
      "i before inc- 0\n",
      "i after inc- 1\n",
      "1\n",
      "i before inc- 1\n",
      "i after inc- 2\n",
      "2\n",
      "i before inc- 2\n",
      "i after inc- 3\n",
      "3\n",
      "i before inc- 3\n",
      "i after inc- 4\n",
      "4\n",
      "i before inc- 4\n",
      "i after inc- 5\n",
      "5\n",
      "i before inc- 5\n",
      "i after inc- 6\n",
      "6\n"
     ]
    }
   ],
   "source": [
    "i=0\n",
    "while i<=5:\n",
    "    print('i before inc-',i)\n",
    "    i+=1\n",
    "    print('i after inc-',i)\n",
    "    print(i)\n"
   ]
  },
  {
   "cell_type": "code",
   "execution_count": 33,
   "id": "57f580e0-64a7-48a5-b0bc-0cc16c40c352",
   "metadata": {},
   "outputs": [
    {
     "name": "stdout",
     "output_type": "stream",
     "text": [
      "5\n",
      "10\n",
      "15\n",
      "20\n",
      "25\n",
      "30\n",
      "35\n",
      "40\n",
      "45\n",
      "50\n"
     ]
    }
   ],
   "source": [
    "i=0\n",
    "while(i<10):\n",
    "    print(5*(i+1))\n",
    "    i+=1"
   ]
  },
  {
   "cell_type": "code",
   "execution_count": 35,
   "id": "e95143a7-51dd-41e4-aa9c-cc973e3d4d7d",
   "metadata": {},
   "outputs": [],
   "source": [
    "#continue\n",
    "#break\n",
    "#else"
   ]
  },
  {
   "cell_type": "code",
   "execution_count": 37,
   "id": "0a798841-5ecb-463e-86eb-4246ae9e3a6b",
   "metadata": {},
   "outputs": [
    {
     "name": "stdout",
     "output_type": "stream",
     "text": [
      "Hello\n",
      "Hello\n",
      "Hello\n",
      "Hello\n",
      "Hello\n",
      "Hello\n",
      "code is end\n"
     ]
    }
   ],
   "source": [
    "i=0\n",
    "while(i<=5):\n",
    "    print('Hello')\n",
    "    i+=1\n",
    "else:\n",
    "    print('code  ends')"
   ]
  },
  {
   "cell_type": "code",
   "execution_count": 39,
   "id": "00f82d98-2539-4ab2-b452-e46deabb4695",
   "metadata": {},
   "outputs": [
    {
     "name": "stdout",
     "output_type": "stream",
     "text": [
      "0\n"
     ]
    }
   ],
   "source": [
    "# break stops the code immaturly --> test_expr will never be false --> else will not run\n",
    "i=0\n",
    "while(i<=5):\n",
    "    print(i)\n",
    "    i+=1\n",
    "    break\n",
    "else:\n",
    "    print()"
   ]
  },
  {
   "cell_type": "code",
   "execution_count": 43,
   "id": "8e4dec9b-f458-418a-b8b7-cead9f688221",
   "metadata": {},
   "outputs": [
    {
     "name": "stdout",
     "output_type": "stream",
     "text": [
      "0\n",
      "1\n",
      "2\n",
      "3\n",
      "4\n",
      "6\n",
      "7\n",
      "8\n",
      "9\n",
      "10\n",
      "code ends!!!\n"
     ]
    }
   ],
   "source": [
    "i=0\n",
    "while(i<=10):\n",
    "    if i==5:\n",
    "        pass\n",
    "    else:\n",
    "        print(i)\n",
    "    i+=1\n",
    "else:\n",
    "    print('code ends!!!')"
   ]
  },
  {
   "cell_type": "code",
   "execution_count": 57,
   "id": "1f974f1b-5b2d-4e05-8b0f-fcb6f1cdc0bb",
   "metadata": {},
   "outputs": [
    {
     "name": "stdout",
     "output_type": "stream",
     "text": [
      "1\n",
      "2\n",
      "4\n",
      "5\n",
      "6\n",
      "7\n",
      "8\n",
      "9\n",
      "10\n",
      "11\n",
      "codes ends\n"
     ]
    }
   ],
   "source": [
    "#continue\n",
    "## when ever continue keyword is there, the rest of code in the loop is skipped\n",
    "i=0\n",
    "while i<=10:\n",
    "    i+=1\n",
    "    if i==3:\n",
    "        pass\n",
    "    else:\n",
    "        print(i)\n",
    "        \n",
    "else:\n",
    "    print('codes ends')"
   ]
  },
  {
   "cell_type": "code",
   "execution_count": 63,
   "id": "054a0a99-e5fe-418d-a354-f0b802afdf93",
   "metadata": {},
   "outputs": [
    {
     "name": "stdout",
     "output_type": "stream",
     "text": [
      "50\n",
      "45\n",
      "40\n",
      "35\n",
      "30\n",
      "25\n",
      "20\n",
      "15\n",
      "10\n",
      "5\n"
     ]
    }
   ],
   "source": [
    "i=10\n",
    "while(i>=1):\n",
    "    print(5*i)\n",
    "    i-=1\n",
    "    "
   ]
  },
  {
   "cell_type": "code",
   "execution_count": 69,
   "id": "663635e8-c492-4085-a4c1-57fd299a2d68",
   "metadata": {},
   "outputs": [
    {
     "name": "stdout",
     "output_type": "stream",
     "text": [
      "hello\n",
      "hello\n",
      "hey\n"
     ]
    }
   ],
   "source": [
    "# for loop\n",
    "#syntax\n",
    "#for element_in_the_iterable in iterable(list/tuple/dict/set/string):\n",
    "   # code to run till the iterable length\n",
    "\n",
    "\n",
    "for i in range(2):\n",
    "    print('hello')\n",
    "print('hey')    "
   ]
  },
  {
   "cell_type": "code",
   "execution_count": 79,
   "id": "13433282-0715-4524-b572-50735b164450",
   "metadata": {},
   "outputs": [
    {
     "name": "stdout",
     "output_type": "stream",
     "text": [
      "1\n",
      "2\n",
      "3\n",
      "4\n"
     ]
    }
   ],
   "source": [
    "for i in [1,2,3,4]:\n",
    "    print(i)"
   ]
  },
  {
   "cell_type": "code",
   "execution_count": 81,
   "id": "dd49e9d9-ba68-40e8-b527-96ec7bf590df",
   "metadata": {},
   "outputs": [
    {
     "name": "stdout",
     "output_type": "stream",
     "text": [
      "4\n",
      "67\n",
      "4\n",
      "56\n",
      "7\n",
      "8\n"
     ]
    }
   ],
   "source": [
    "for i in [4,67,4,56,7,8]:\n",
    "    print(i)"
   ]
  },
  {
   "cell_type": "code",
   "execution_count": 89,
   "id": "20998d24-f134-477e-ba51-035d94b298bf",
   "metadata": {},
   "outputs": [
    {
     "name": "stdout",
     "output_type": "stream",
     "text": [
      "5\n",
      "10\n",
      "15\n",
      "20\n",
      "25\n",
      "30\n",
      "35\n",
      "40\n",
      "45\n",
      "50\n"
     ]
    }
   ],
   "source": [
    "for i in range(1,11):\n",
    "    print(5*i)"
   ]
  },
  {
   "cell_type": "code",
   "execution_count": 91,
   "id": "99668509-2efc-4a41-afeb-7cab8248a08b",
   "metadata": {},
   "outputs": [
    {
     "data": {
      "text/plain": [
       "[0, 1, 2, 3, 4, 5, 6, 7, 8, 9, 10]"
      ]
     },
     "execution_count": 91,
     "metadata": {},
     "output_type": "execute_result"
    }
   ],
   "source": [
    "list(range(11))"
   ]
  },
  {
   "cell_type": "code",
   "execution_count": 99,
   "id": "4a41292f-141a-4432-9624-8bc4f6a04d9c",
   "metadata": {},
   "outputs": [
    {
     "name": "stdout",
     "output_type": "stream",
     "text": [
      "even\n",
      "odd\n",
      "even\n",
      "odd\n",
      "even\n",
      "odd\n",
      "even\n",
      "odd\n",
      "even\n",
      "odd\n"
     ]
    }
   ],
   "source": [
    "for i in range(10):\n",
    "    if i%2==0:\n",
    "        print('even')\n",
    "    else:\n",
    "        print('odd')"
   ]
  },
  {
   "cell_type": "code",
   "execution_count": 101,
   "id": "d10c09fa-5b27-4831-9c25-ffe951c8cf4d",
   "metadata": {},
   "outputs": [
    {
     "name": "stdout",
     "output_type": "stream",
     "text": [
      "h\n",
      "e\n",
      "l\n",
      "l\n",
      "o\n"
     ]
    }
   ],
   "source": [
    "for letter in 'hello':\n",
    "    print(letter)"
   ]
  },
  {
   "cell_type": "code",
   "execution_count": 195,
   "id": "3ba6a5bb-d19a-4e3c-8b41-1d2e1a31bf3f",
   "metadata": {},
   "outputs": [
    {
     "name": "stdout",
     "output_type": "stream",
     "text": [
      "current letter- w\n",
      "current letter- e\n",
      "VOWEL FOUND\n",
      "current letter- r\n",
      "current letter- i\n",
      "VOWEL FOUND\n",
      "current letter- w\n",
      "current letter- e\n",
      "VOWEL FOUND\n",
      "current letter- j\n",
      "current letter- f\n",
      "current letter- i\n",
      "VOWEL FOUND\n",
      "current letter- d\n",
      "current letter- n\n",
      "current letter- v\n",
      "current letter- c\n",
      "current letter- v\n",
      "current letter- n\n",
      "current letter- c\n",
      "current letter- b\n",
      "current letter- v\n",
      "current letter- b\n",
      "current letter- o\n",
      "VOWEL FOUND\n",
      "current letter- w\n",
      "current letter- r\n",
      "current letter- r\n",
      "current letter- q\n",
      "current letter- p\n",
      "current letter- w\n",
      "current letter- o\n",
      "VOWEL FOUND\n",
      "current letter- i\n",
      "VOWEL FOUND\n",
      "current letter- e\n",
      "VOWEL FOUND\n",
      "current letter- u\n",
      "VOWEL FOUND\n",
      "current letter- i\n",
      "VOWEL FOUND\n",
      "current letter- f\n",
      "current letter- j\n",
      "current letter- d\n",
      "current letter- k\n",
      "current letter- l\n",
      "current letter- h\n",
      "current letter- h\n",
      "current letter- s\n",
      "current letter- v\n",
      "current letter- b\n",
      "current letter- c\n",
      "current letter- b\n",
      "current letter- v\n",
      "current letter- h\n",
      "current letter- v\n",
      "current letter- b\n",
      "current letter- q\n",
      "current letter- i\n",
      "VOWEL FOUND\n",
      "current letter- w\n",
      "current letter- u\n",
      "VOWEL FOUND\n",
      "current letter- u\n",
      "VOWEL FOUND\n",
      "current letter- r\n",
      "current letter- g\n",
      "current letter- h\n",
      "current letter- f\n",
      "current letter- f\n",
      "current letter- h\n",
      "current letter- h\n",
      "current letter- f\n",
      "current letter- h\n",
      "current letter- i\n",
      "VOWEL FOUND\n",
      "current letter- u\n",
      "VOWEL FOUND\n",
      "current letter- e\n",
      "VOWEL FOUND\n",
      "current letter- h\n",
      "current letter- r\n",
      "current letter- f\n"
     ]
    }
   ],
   "source": [
    "text='weriwejfidnvcvncbvbowrrqpwoieuifjdklhhsvbcbvhvbqiwuurghffhhfhiuehrf'\n",
    "vowels=['a','e','i','o','u']\n",
    "tot = 0\n",
    "for letter in text:\n",
    "    print('current letter-',letter)\n",
    "    if letter in vowels:\n",
    "        print('vowel found'.upper())\n",
    "        tot+=1\n",
    "\n",
    "             "
   ]
  },
  {
   "cell_type": "code",
   "execution_count": 197,
   "id": "0e60dd53-820d-4a15-b1e5-8edcd3d66b77",
   "metadata": {},
   "outputs": [
    {
     "data": {
      "text/plain": [
       "0"
      ]
     },
     "execution_count": 197,
     "metadata": {},
     "output_type": "execute_result"
    }
   ],
   "source": [
    "tot\n"
   ]
  },
  {
   "cell_type": "code",
   "execution_count": 199,
   "id": "cf6cf85b-6607-49e5-93b0-2e3a5d9ebc64",
   "metadata": {},
   "outputs": [
    {
     "name": "stdout",
     "output_type": "stream",
     "text": [
      "0\n",
      "1\n",
      "2\n",
      "4\n",
      "5\n",
      "6\n",
      "7\n",
      "8\n",
      "9\n"
     ]
    }
   ],
   "source": [
    "for i in range(10):\n",
    "    if i==3:\n",
    "        continue\n",
    "    else:\n",
    "        print(i)\n",
    "    "
   ]
  },
  {
   "cell_type": "code",
   "execution_count": null,
   "id": "3612c250-dd60-4b15-b4ab-22c910b479ff",
   "metadata": {},
   "outputs": [],
   "source": [
    "i=1\n",
    "while i<=10:\n",
    "    print(19*i)\n",
    "    i+=1"
   ]
  },
  {
   "cell_type": "code",
   "execution_count": null,
   "id": "c3df653b-d5eb-40ce-a452-f4a8d426ef46",
   "metadata": {},
   "outputs": [],
   "source": []
  },
  {
   "cell_type": "code",
   "execution_count": null,
   "id": "306fa433-201c-4b38-898e-39ab30a2c8b2",
   "metadata": {},
   "outputs": [],
   "source": [
    "  i = 1\n",
    "while i<=10:\n",
    "    print(i)\n",
    "    i += 1"
   ]
  },
  {
   "cell_type": "code",
   "execution_count": null,
   "id": "89caf52e-0d63-4c57-838a-d6b2c6f84100",
   "metadata": {},
   "outputs": [],
   "source": []
  },
  {
   "cell_type": "code",
   "execution_count": null,
   "id": "2ea07afe-275e-4c74-b91f-3f3c6ee8a8b3",
   "metadata": {},
   "outputs": [],
   "source": []
  },
  {
   "cell_type": "code",
   "execution_count": null,
   "id": "abc8e6fc-3d44-48bd-a28a-51f23a00a36a",
   "metadata": {},
   "outputs": [],
   "source": []
  },
  {
   "cell_type": "code",
   "execution_count": null,
   "id": "ce2b636e-63ea-4493-94fd-c343b180c105",
   "metadata": {},
   "outputs": [],
   "source": []
  },
  {
   "cell_type": "code",
   "execution_count": null,
   "id": "49230680-4642-4eb8-8723-c68315aa45ba",
   "metadata": {},
   "outputs": [],
   "source": []
  }
 ],
 "metadata": {
  "kernelspec": {
   "display_name": "Python 3 (ipykernel)",
   "language": "python",
   "name": "python3"
  },
  "language_info": {
   "codemirror_mode": {
    "name": "ipython",
    "version": 3
   },
   "file_extension": ".py",
   "mimetype": "text/x-python",
   "name": "python",
   "nbconvert_exporter": "python",
   "pygments_lexer": "ipython3",
   "version": "3.11.7"
  }
 },
 "nbformat": 4,
 "nbformat_minor": 5
}
