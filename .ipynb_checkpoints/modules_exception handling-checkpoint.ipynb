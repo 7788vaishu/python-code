{
 "cells": [
  {
   "cell_type": "code",
   "execution_count": 6,
   "id": "5bb5420a-2257-4ba9-b760-b08c61903dc4",
   "metadata": {},
   "outputs": [],
   "source": [
    "# modules-a .py file with python code in it\n",
    "# user defined packages and modules\n",
    "#types of modules\n",
    "    # =>UDM\n",
    "    # =>Inbuilt\n",
    "    # =>3rd party\n",
    "\n",
    "import myMod\n",
    "\n"
   ]
  },
  {
   "cell_type": "code",
   "execution_count": 18,
   "id": "03bda558-800f-4155-852b-6b21736a994f",
   "metadata": {},
   "outputs": [
    {
     "name": "stdout",
     "output_type": "stream",
     "text": [
      "hello\n"
     ]
    }
   ],
   "source": [
    "print('hello')"
   ]
  },
  {
   "cell_type": "code",
   "execution_count": 27,
   "id": "2771a275-cb8d-4927-9ac7-6f44656a7d6a",
   "metadata": {},
   "outputs": [],
   "source": [
    "import myMod"
   ]
  },
  {
   "cell_type": "code",
   "execution_count": 35,
   "id": "2fca3261-bead-4cf5-9607-594cb055fdfa",
   "metadata": {},
   "outputs": [],
   "source": [
    "import myMod"
   ]
  },
  {
   "cell_type": "code",
   "execution_count": 45,
   "id": "9c2688ee-6d5b-408b-ac25-1a78b46c9136",
   "metadata": {},
   "outputs": [],
   "source": [
    "import myMod"
   ]
  },
  {
   "cell_type": "code",
   "execution_count": 51,
   "id": "d924ff8e-8b2e-42c3-9bfc-dffcdbc4b465",
   "metadata": {},
   "outputs": [
    {
     "name": "stdout",
     "output_type": "stream",
     "text": [
      "good morning\n"
     ]
    }
   ],
   "source": [
    "import myMod1"
   ]
  },
  {
   "cell_type": "code",
   "execution_count": 2,
   "id": "835369d8-fe88-4c73-8b32-5974e0054d33",
   "metadata": {},
   "outputs": [
    {
     "name": "stdout",
     "output_type": "stream",
     "text": [
      "hey\n"
     ]
    }
   ],
   "source": [
    "import myMod1"
   ]
  },
  {
   "cell_type": "code",
   "execution_count": 4,
   "id": "bfd42ac1-afc3-4c6d-9817-324975902b58",
   "metadata": {},
   "outputs": [],
   "source": [
    "import myMod1"
   ]
  },
  {
   "cell_type": "code",
   "execution_count": 6,
   "id": "6580f83f-8aab-446c-afcc-96e754183f51",
   "metadata": {},
   "outputs": [
    {
     "name": "stdout",
     "output_type": "stream",
     "text": [
      "good day\n"
     ]
    }
   ],
   "source": [
    "myMod1.my_func()"
   ]
  },
  {
   "cell_type": "code",
   "execution_count": 9,
   "id": "2746bd93-3c87-49e3-ae2a-1870b56c3402",
   "metadata": {},
   "outputs": [
    {
     "name": "stdout",
     "output_type": "stream",
     "text": [
      "good day\n"
     ]
    }
   ],
   "source": [
    "myMod1.my_func()"
   ]
  },
  {
   "cell_type": "code",
   "execution_count": 11,
   "id": "f579da8b-52f1-4b4b-a987-43429e3faf90",
   "metadata": {},
   "outputs": [
    {
     "name": "stdout",
     "output_type": "stream",
     "text": [
      "good day\n"
     ]
    }
   ],
   "source": [
    "myMod1.my_func()"
   ]
  },
  {
   "cell_type": "code",
   "execution_count": 14,
   "id": "f151cc78-e0b7-4b20-8b21-f9487ea92990",
   "metadata": {},
   "outputs": [
    {
     "name": "stdout",
     "output_type": "stream",
     "text": [
      "good day\n"
     ]
    }
   ],
   "source": [
    "myMod1.my_func()"
   ]
  },
  {
   "cell_type": "code",
   "execution_count": 18,
   "id": "9ec9c16c-b2c7-4eca-b4a3-ee82e45adf27",
   "metadata": {},
   "outputs": [
    {
     "name": "stdout",
     "output_type": "stream",
     "text": [
      "good day\n"
     ]
    }
   ],
   "source": [
    "import myMod1\n",
    "myMod1.my_func()"
   ]
  },
  {
   "cell_type": "code",
   "execution_count": 2,
   "id": "3ba93cca-53e9-4add-8a74-aa7b038660bb",
   "metadata": {},
   "outputs": [
    {
     "name": "stdout",
     "output_type": "stream",
     "text": [
      "nice day\n"
     ]
    }
   ],
   "source": [
    "import myMod1\n",
    "myMod1.my_func()"
   ]
  },
  {
   "cell_type": "code",
   "execution_count": 5,
   "id": "48b07de5-48c9-471e-b120-26ea81e8fead",
   "metadata": {},
   "outputs": [
    {
     "name": "stdout",
     "output_type": "stream",
     "text": [
      "nice day\n"
     ]
    }
   ],
   "source": [
    "import importlib\n",
    "import myMod1\n",
    "myMod1.my_func()"
   ]
  },
  {
   "cell_type": "code",
   "execution_count": 7,
   "id": "5e753348-f450-40af-b5d2-bc7a555f8986",
   "metadata": {},
   "outputs": [
    {
     "data": {
      "text/plain": [
       "<module 'myMod1' from 'C:\\\\Users\\\\vaishnavi muskawad\\\\OneDrive\\\\Desktop\\\\data structure\\\\myMod1.py'>"
      ]
     },
     "execution_count": 7,
     "metadata": {},
     "output_type": "execute_result"
    }
   ],
   "source": [
    "importlib.reload(myMod1)"
   ]
  },
  {
   "cell_type": "code",
   "execution_count": 9,
   "id": "64cea023-d222-4505-aaa0-b915ce972e05",
   "metadata": {},
   "outputs": [
    {
     "name": "stdout",
     "output_type": "stream",
     "text": [
      "nice\n"
     ]
    }
   ],
   "source": [
    "myMod1.my_func()"
   ]
  },
  {
   "cell_type": "code",
   "execution_count": 6,
   "id": "96cc5ba4-8b1f-404f-b407-3f71c5292422",
   "metadata": {},
   "outputs": [
    {
     "data": {
      "text/plain": [
       "10"
      ]
     },
     "execution_count": 6,
     "metadata": {},
     "output_type": "execute_result"
    }
   ],
   "source": [
    "from myMod1 import age\n",
    "age"
   ]
  },
  {
   "cell_type": "code",
   "execution_count": 2,
   "id": "50df3ea8-54e0-4ac4-abae-70bb83f4904f",
   "metadata": {},
   "outputs": [
    {
     "ename": "NameError",
     "evalue": "name 'myMod1' is not defined",
     "output_type": "error",
     "traceback": [
      "\u001b[1;31m---------------------------------------------------------------------------\u001b[0m",
      "\u001b[1;31mNameError\u001b[0m                                 Traceback (most recent call last)",
      "Cell \u001b[1;32mIn[2], line 1\u001b[0m\n\u001b[1;32m----> 1\u001b[0m myMod1\u001b[38;5;241m.\u001b[39mmy_func()\n",
      "\u001b[1;31mNameError\u001b[0m: name 'myMod1' is not defined"
     ]
    }
   ],
   "source": [
    "myMod1.my_func()"
   ]
  },
  {
   "cell_type": "code",
   "execution_count": 4,
   "id": "1e6bd2c3-7d0a-49b7-90ab-9a47f2400473",
   "metadata": {},
   "outputs": [
    {
     "data": {
      "text/plain": [
       "'Raj'"
      ]
     },
     "execution_count": 4,
     "metadata": {},
     "output_type": "execute_result"
    }
   ],
   "source": [
    "from myMod1 import name\n",
    "name"
   ]
  },
  {
   "cell_type": "code",
   "execution_count": 6,
   "id": "349b90ff-0559-4637-86b9-4cb0769393e8",
   "metadata": {},
   "outputs": [
    {
     "ename": "NameError",
     "evalue": "name 'myMod1' is not defined",
     "output_type": "error",
     "traceback": [
      "\u001b[1;31m---------------------------------------------------------------------------\u001b[0m",
      "\u001b[1;31mNameError\u001b[0m                                 Traceback (most recent call last)",
      "Cell \u001b[1;32mIn[6], line 1\u001b[0m\n\u001b[1;32m----> 1\u001b[0m myMod1\u001b[38;5;241m.\u001b[39mmy_func()\n",
      "\u001b[1;31mNameError\u001b[0m: name 'myMod1' is not defined"
     ]
    }
   ],
   "source": [
    "myMod1.my_func()"
   ]
  },
  {
   "cell_type": "code",
   "execution_count": 8,
   "id": "5b104362-e2d2-4580-a170-38a2725f5b29",
   "metadata": {},
   "outputs": [
    {
     "name": "stdout",
     "output_type": "stream",
     "text": [
      "nice\n"
     ]
    }
   ],
   "source": [
    "import myMod1\n",
    "myMod1.my_func()"
   ]
  },
  {
   "cell_type": "code",
   "execution_count": 10,
   "id": "371182a1-b742-4283-bcae-5f83cc6222e8",
   "metadata": {},
   "outputs": [
    {
     "data": {
      "text/plain": [
       "10"
      ]
     },
     "execution_count": 10,
     "metadata": {},
     "output_type": "execute_result"
    }
   ],
   "source": [
    "myMod1.age"
   ]
  },
  {
   "cell_type": "code",
   "execution_count": 5,
   "id": "afc7bc30-ddb3-43d7-8bc8-3f0aae17d42a",
   "metadata": {},
   "outputs": [
    {
     "data": {
      "text/plain": [
       "10"
      ]
     },
     "execution_count": 5,
     "metadata": {},
     "output_type": "execute_result"
    }
   ],
   "source": [
    "from myMod1 import age\n",
    "age"
   ]
  },
  {
   "cell_type": "code",
   "execution_count": 7,
   "id": "437b2f0f-c293-4761-a1eb-fc5eae15141e",
   "metadata": {},
   "outputs": [
    {
     "data": {
      "text/plain": [
       "'Raj'"
      ]
     },
     "execution_count": 7,
     "metadata": {},
     "output_type": "execute_result"
    }
   ],
   "source": [
    "name='vijay'\n",
    "from myMod1 import name\n",
    "name"
   ]
  },
  {
   "cell_type": "code",
   "execution_count": 9,
   "id": "7cd63147-34fc-4b41-af2b-ea6e1eb0b09d",
   "metadata": {},
   "outputs": [
    {
     "data": {
      "text/plain": [
       "'Raj'"
      ]
     },
     "execution_count": 9,
     "metadata": {},
     "output_type": "execute_result"
    }
   ],
   "source": [
    "from myMod1 import *\n",
    "name"
   ]
  },
  {
   "cell_type": "code",
   "execution_count": 11,
   "id": "a00ff02a-0254-4527-83b4-bf44d88808e0",
   "metadata": {},
   "outputs": [
    {
     "data": {
      "text/plain": [
       "10"
      ]
     },
     "execution_count": 11,
     "metadata": {},
     "output_type": "execute_result"
    }
   ],
   "source": [
    "age"
   ]
  },
  {
   "cell_type": "code",
   "execution_count": 13,
   "id": "7f32b414-3562-45d3-b875-f334c6b187a1",
   "metadata": {},
   "outputs": [
    {
     "data": {
      "text/plain": [
       "[1, 2, 3, 4, 5]"
      ]
     },
     "execution_count": 13,
     "metadata": {},
     "output_type": "execute_result"
    }
   ],
   "source": [
    "data"
   ]
  },
  {
   "cell_type": "code",
   "execution_count": 15,
   "id": "19ab2243-0a94-4b5b-863c-569ac05e85e9",
   "metadata": {},
   "outputs": [
    {
     "name": "stdout",
     "output_type": "stream",
     "text": [
      "nice\n"
     ]
    }
   ],
   "source": [
    "my_func()"
   ]
  },
  {
   "cell_type": "code",
   "execution_count": 18,
   "id": "0e4dc916-7510-4f68-b8dc-373153199811",
   "metadata": {},
   "outputs": [
    {
     "ename": "ModuleNotFoundError",
     "evalue": "No module named 'myModDesk'",
     "output_type": "error",
     "traceback": [
      "\u001b[1;31m---------------------------------------------------------------------------\u001b[0m",
      "\u001b[1;31mModuleNotFoundError\u001b[0m                       Traceback (most recent call last)",
      "Cell \u001b[1;32mIn[18], line 1\u001b[0m\n\u001b[1;32m----> 1\u001b[0m \u001b[38;5;28;01mimport\u001b[39;00m \u001b[38;5;21;01mmyModDesk\u001b[39;00m\n",
      "\u001b[1;31mModuleNotFoundError\u001b[0m: No module named 'myModDesk'"
     ]
    }
   ],
   "source": [
    "import myModDesk\n"
   ]
  },
  {
   "cell_type": "code",
   "execution_count": 22,
   "id": "63fe08bf-2927-4192-8fbc-76ac4024d647",
   "metadata": {},
   "outputs": [
    {
     "data": {
      "text/plain": [
       "['C:\\\\Users\\\\vaishnavi muskawad\\\\OneDrive\\\\Desktop\\\\data structure',\n",
       " 'D:\\\\Anaconda\\\\python311.zip',\n",
       " 'D:\\\\Anaconda\\\\DLLs',\n",
       " 'D:\\\\Anaconda\\\\Lib',\n",
       " 'D:\\\\Anaconda',\n",
       " '',\n",
       " 'D:\\\\Anaconda\\\\Lib\\\\site-packages',\n",
       " 'D:\\\\Anaconda\\\\Lib\\\\site-packages\\\\win32',\n",
       " 'D:\\\\Anaconda\\\\Lib\\\\site-packages\\\\win32\\\\lib',\n",
       " 'D:\\\\Anaconda\\\\Lib\\\\site-packages\\\\Pythonwin']"
      ]
     },
     "execution_count": 22,
     "metadata": {},
     "output_type": "execute_result"
    }
   ],
   "source": [
    "import sys\n",
    "sys.path\n"
   ]
  },
  {
   "cell_type": "code",
   "execution_count": 30,
   "id": "8e6b1cf0-9022-4a30-8965-623baadfba3d",
   "metadata": {},
   "outputs": [
    {
     "data": {
      "text/plain": [
       "['C:\\\\Users\\\\vaishnavi muskawad\\\\OneDrive\\\\Desktop\\\\data structure',\n",
       " 'D:\\\\Anaconda\\\\python311.zip',\n",
       " 'D:\\\\Anaconda\\\\DLLs',\n",
       " 'D:\\\\Anaconda\\\\Lib',\n",
       " 'D:\\\\Anaconda',\n",
       " '',\n",
       " 'D:\\\\Anaconda\\\\Lib\\\\site-packages',\n",
       " 'D:\\\\Anaconda\\\\Lib\\\\site-packages\\\\win32',\n",
       " 'D:\\\\Anaconda\\\\Lib\\\\site-packages\\\\win32\\\\lib',\n",
       " 'D:\\\\Anaconda\\\\Lib\\\\site-packages\\\\Pythonwin',\n",
       " 'users\\x0baishnavi muskawad\\\\Desktop',\n",
       " 'users\\x0baishnavi muskawad\\\\Desktop']"
      ]
     },
     "execution_count": 30,
     "metadata": {},
     "output_type": "execute_result"
    }
   ],
   "source": [
    "sys.path.append('users\\vaishnavi muskawad\\Desktop')\n",
    "sys.path\n"
   ]
  },
  {
   "cell_type": "code",
   "execution_count": 2,
   "id": "7f374baf-7a92-41d0-8869-6472ea2d59c4",
   "metadata": {},
   "outputs": [
    {
     "ename": "ModuleNotFoundError",
     "evalue": "No module named 'myModDesk'",
     "output_type": "error",
     "traceback": [
      "\u001b[1;31m---------------------------------------------------------------------------\u001b[0m",
      "\u001b[1;31mModuleNotFoundError\u001b[0m                       Traceback (most recent call last)",
      "Cell \u001b[1;32mIn[2], line 1\u001b[0m\n\u001b[1;32m----> 1\u001b[0m \u001b[38;5;28;01mimport\u001b[39;00m \u001b[38;5;21;01mmyModDesk\u001b[39;00m\n\u001b[0;32m      2\u001b[0m myModDesk\u001b[38;5;241m.\u001b[39mfunc_from_desktop()\n",
      "\u001b[1;31mModuleNotFoundError\u001b[0m: No module named 'myModDesk'"
     ]
    }
   ],
   "source": [
    "import myModDesk\n",
    "myModDesk.func_from_desktop()"
   ]
  },
  {
   "cell_type": "code",
   "execution_count": 4,
   "id": "19ff26dc-bdad-48b9-ad38-21853f6c184a",
   "metadata": {},
   "outputs": [
    {
     "ename": "ModuleNotFoundError",
     "evalue": "No module named 'myModDesk'",
     "output_type": "error",
     "traceback": [
      "\u001b[1;31m---------------------------------------------------------------------------\u001b[0m",
      "\u001b[1;31mModuleNotFoundError\u001b[0m                       Traceback (most recent call last)",
      "Cell \u001b[1;32mIn[4], line 1\u001b[0m\n\u001b[1;32m----> 1\u001b[0m \u001b[38;5;28;01mimport\u001b[39;00m \u001b[38;5;21;01mmyModDesk\u001b[39;00m\n",
      "\u001b[1;31mModuleNotFoundError\u001b[0m: No module named 'myModDesk'"
     ]
    }
   ],
   "source": [
    "import myModDesk"
   ]
  },
  {
   "cell_type": "code",
   "execution_count": 6,
   "id": "ca7f7d5a-1ed5-432a-95f8-0a3b4f13a4c3",
   "metadata": {},
   "outputs": [],
   "source": [
    "import sys"
   ]
  },
  {
   "cell_type": "code",
   "execution_count": 8,
   "id": "49536bdd-1a84-4193-858b-e516bde8f4ce",
   "metadata": {},
   "outputs": [
    {
     "data": {
      "text/plain": [
       "['C:\\\\Users\\\\vaishnavi muskawad\\\\OneDrive\\\\Desktop\\\\data structure',\n",
       " 'D:\\\\Anaconda\\\\python311.zip',\n",
       " 'D:\\\\Anaconda\\\\DLLs',\n",
       " 'D:\\\\Anaconda\\\\Lib',\n",
       " 'D:\\\\Anaconda',\n",
       " '',\n",
       " 'D:\\\\Anaconda\\\\Lib\\\\site-packages',\n",
       " 'D:\\\\Anaconda\\\\Lib\\\\site-packages\\\\win32',\n",
       " 'D:\\\\Anaconda\\\\Lib\\\\site-packages\\\\win32\\\\lib',\n",
       " 'D:\\\\Anaconda\\\\Lib\\\\site-packages\\\\Pythonwin']"
      ]
     },
     "execution_count": 8,
     "metadata": {},
     "output_type": "execute_result"
    }
   ],
   "source": [
    "sys.path"
   ]
  },
  {
   "cell_type": "code",
   "execution_count": 1,
   "id": "d0cddd40-bea7-4dae-9df1-0828d2763cf7",
   "metadata": {},
   "outputs": [
    {
     "ename": "NameError",
     "evalue": "name 'sys' is not defined",
     "output_type": "error",
     "traceback": [
      "\u001b[1;31m---------------------------------------------------------------------------\u001b[0m",
      "\u001b[1;31mNameError\u001b[0m                                 Traceback (most recent call last)",
      "Cell \u001b[1;32mIn[1], line 1\u001b[0m\n\u001b[1;32m----> 1\u001b[0m sys\u001b[38;5;241m.\u001b[39mpath\u001b[38;5;241m.\u001b[39mappend(\u001b[38;5;124m'\u001b[39m\u001b[38;5;124mC:Users\u001b[39m\u001b[38;5;130;01m\\v\u001b[39;00m\u001b[38;5;124maishnavi muskawad\u001b[39m\u001b[38;5;124m\\\u001b[39m\u001b[38;5;124mDesktop\u001b[39m\u001b[38;5;124m'\u001b[39m)\n\u001b[0;32m      2\u001b[0m sys\u001b[38;5;241m.\u001b[39mpath\n",
      "\u001b[1;31mNameError\u001b[0m: name 'sys' is not defined"
     ]
    }
   ],
   "source": [
    "sys.path.append('C:Users\\vaishnavi muskawad\\Desktop')\n",
    "sys.path"
   ]
  },
  {
   "cell_type": "code",
   "execution_count": 3,
   "id": "315a0578-c320-4313-b5d0-6f486c1af967",
   "metadata": {},
   "outputs": [
    {
     "ename": "ModuleNotFoundError",
     "evalue": "No module named 'myModDesk'",
     "output_type": "error",
     "traceback": [
      "\u001b[1;31m---------------------------------------------------------------------------\u001b[0m",
      "\u001b[1;31mModuleNotFoundError\u001b[0m                       Traceback (most recent call last)",
      "Cell \u001b[1;32mIn[3], line 1\u001b[0m\n\u001b[1;32m----> 1\u001b[0m \u001b[38;5;28;01mimport\u001b[39;00m \u001b[38;5;21;01mmyModDesk\u001b[39;00m\n\u001b[0;32m      2\u001b[0m myModDesk\u001b[38;5;241m.\u001b[39mfunc_from_desktop()\n",
      "\u001b[1;31mModuleNotFoundError\u001b[0m: No module named 'myModDesk'"
     ]
    }
   ],
   "source": [
    "import myModDesk\n",
    "myModDesk.func_from_desktop()"
   ]
  },
  {
   "cell_type": "code",
   "execution_count": 5,
   "id": "f9b87142-5cff-4f20-af29-f62f2d434791",
   "metadata": {},
   "outputs": [
    {
     "ename": "ModuleNotFoundError",
     "evalue": "No module named 'myModDesk'",
     "output_type": "error",
     "traceback": [
      "\u001b[1;31m---------------------------------------------------------------------------\u001b[0m",
      "\u001b[1;31mModuleNotFoundError\u001b[0m                       Traceback (most recent call last)",
      "Cell \u001b[1;32mIn[5], line 1\u001b[0m\n\u001b[1;32m----> 1\u001b[0m \u001b[38;5;28;01mimport\u001b[39;00m \u001b[38;5;21;01mmyModDesk\u001b[39;00m\n\u001b[0;32m      2\u001b[0m myModDesk\u001b[38;5;241m.\u001b[39mfunc_from_desktop()\n",
      "\u001b[1;31mModuleNotFoundError\u001b[0m: No module named 'myModDesk'"
     ]
    }
   ],
   "source": [
    "import myModDesk\n",
    "myModDesk.func_from_desktop()"
   ]
  },
  {
   "cell_type": "code",
   "execution_count": 3,
   "id": "cecacdbf-a824-4d39-ab7c-fe3e96b535c1",
   "metadata": {},
   "outputs": [
    {
     "name": "stdout",
     "output_type": "stream",
     "text": [
      "output from mymode2\n"
     ]
    }
   ],
   "source": [
    "from Mypack import myMod2\n",
    "myMod2.func_from_myMOd2()"
   ]
  },
  {
   "cell_type": "code",
   "execution_count": 3,
   "id": "0e0e736a-1945-49ed-91af-1294ed6025d6",
   "metadata": {},
   "outputs": [
    {
     "name": "stdout",
     "output_type": "stream",
     "text": [
      "output from sports func inside student package\n"
     ]
    }
   ],
   "source": [
    "from Student import sports\n",
    "sports.sports_func()"
   ]
  },
  {
   "cell_type": "code",
   "execution_count": 5,
   "id": "8527c232-1f7c-4986-9332-602ee0b2208c",
   "metadata": {},
   "outputs": [
    {
     "data": {
      "text/plain": [
       "<module 'Student.sports' from 'C:\\\\Users\\\\vaishnavi muskawad\\\\OneDrive\\\\Desktop\\\\Student\\\\sports.py'>"
      ]
     },
     "execution_count": 5,
     "metadata": {},
     "output_type": "execute_result"
    }
   ],
   "source": [
    "import importlib\n",
    "importlib.reload(sports)"
   ]
  },
  {
   "cell_type": "code",
   "execution_count": 7,
   "id": "733eb5b8-3dc3-480b-b8d6-c6de83a4b8b6",
   "metadata": {},
   "outputs": [
    {
     "name": "stdout",
     "output_type": "stream",
     "text": [
      "output from sports  inside student package\n"
     ]
    }
   ],
   "source": [
    "sports.sports_func()"
   ]
  },
  {
   "cell_type": "code",
   "execution_count": 9,
   "id": "9659f40e-b9aa-46ae-a2f9-dc3ee494c8e3",
   "metadata": {},
   "outputs": [],
   "source": [
    "## inbulit modules/packages\n",
    "#datetime\n"
   ]
  },
  {
   "cell_type": "code",
   "execution_count": 19,
   "id": "0a5a7bd4-21bd-405b-8192-9c5228f811ac",
   "metadata": {},
   "outputs": [
    {
     "data": {
      "text/plain": [
       "datetime.datetime"
      ]
     },
     "execution_count": 19,
     "metadata": {},
     "output_type": "execute_result"
    }
   ],
   "source": [
    "import datetime\n",
    "dt='25-12-2020'\n",
    "today=datetime.datetime.now()\n",
    "type(today)"
   ]
  },
  {
   "cell_type": "code",
   "execution_count": 21,
   "id": "b63cd770-fbe7-483c-a3da-e1b1bb05cbcc",
   "metadata": {},
   "outputs": [
    {
     "data": {
      "text/plain": [
       "6"
      ]
     },
     "execution_count": 21,
     "metadata": {},
     "output_type": "execute_result"
    }
   ],
   "source": [
    "today.month"
   ]
  },
  {
   "cell_type": "code",
   "execution_count": 23,
   "id": "37c3766c-6f64-4751-bd94-615d238f8adc",
   "metadata": {},
   "outputs": [
    {
     "data": {
      "text/plain": [
       "26"
      ]
     },
     "execution_count": 23,
     "metadata": {},
     "output_type": "execute_result"
    }
   ],
   "source": [
    "today.day"
   ]
  },
  {
   "cell_type": "code",
   "execution_count": 25,
   "id": "d370a78c-3dd6-449a-82f1-34304a0078e4",
   "metadata": {},
   "outputs": [
    {
     "data": {
      "text/plain": [
       "<function datetime.now(tz=None)>"
      ]
     },
     "execution_count": 25,
     "metadata": {},
     "output_type": "execute_result"
    }
   ],
   "source": [
    "today.now"
   ]
  },
  {
   "cell_type": "code",
   "execution_count": 27,
   "id": "97b30425-6d5c-4b87-be06-80a0eddc5fa4",
   "metadata": {},
   "outputs": [
    {
     "data": {
      "text/plain": [
       "2024"
      ]
     },
     "execution_count": 27,
     "metadata": {},
     "output_type": "execute_result"
    }
   ],
   "source": [
    "today.year"
   ]
  },
  {
   "cell_type": "code",
   "execution_count": 35,
   "id": "c8ae77d4-5515-4970-b5da-8004595aecac",
   "metadata": {},
   "outputs": [],
   "source": [
    "dt=datetime.datetime(2024,6,26)"
   ]
  },
  {
   "cell_type": "code",
   "execution_count": 37,
   "id": "353378b9-9a32-46e9-8ceb-ed49579ec25c",
   "metadata": {},
   "outputs": [
    {
     "data": {
      "text/plain": [
       "datetime.datetime(2024, 6, 26, 0, 0)"
      ]
     },
     "execution_count": 37,
     "metadata": {},
     "output_type": "execute_result"
    }
   ],
   "source": [
    "dt"
   ]
  },
  {
   "cell_type": "code",
   "execution_count": 39,
   "id": "2af9e6fb-2eee-4bb1-94a4-a3cd033ef1b6",
   "metadata": {},
   "outputs": [],
   "source": [
    "#a period/gap of time>> timedelta"
   ]
  },
  {
   "cell_type": "code",
   "execution_count": 41,
   "id": "137267ce-7bd8-4c31-b13d-b0be379cc4f4",
   "metadata": {},
   "outputs": [],
   "source": [
    "gap10=datetime.timedelta(days=100)"
   ]
  },
  {
   "cell_type": "code",
   "execution_count": 43,
   "id": "01a5d3f0-4723-45c7-af14-a1de5de27180",
   "metadata": {},
   "outputs": [
    {
     "data": {
      "text/plain": [
       "datetime.datetime(2024, 10, 4, 0, 0)"
      ]
     },
     "execution_count": 43,
     "metadata": {},
     "output_type": "execute_result"
    }
   ],
   "source": [
    "dt+gap10"
   ]
  },
  {
   "cell_type": "code",
   "execution_count": 45,
   "id": "dffa3115-9a81-44e1-b03f-d4c1a3b05a74",
   "metadata": {},
   "outputs": [
    {
     "data": {
      "text/plain": [
       "datetime.datetime(2024, 3, 18, 0, 0)"
      ]
     },
     "execution_count": 45,
     "metadata": {},
     "output_type": "execute_result"
    }
   ],
   "source": [
    "dt-gap10"
   ]
  },
  {
   "cell_type": "code",
   "execution_count": 30,
   "id": "b2278a92-c920-41e9-b658-93e8bbaf7550",
   "metadata": {},
   "outputs": [],
   "source": [
    "dt ='25-12-2020'"
   ]
  },
  {
   "cell_type": "code",
   "execution_count": 39,
   "id": "7926fb6f-ff47-4cae-8683-61fad836b1f8",
   "metadata": {},
   "outputs": [
    {
     "ename": "NameError",
     "evalue": "name 'datetime' is not defined",
     "output_type": "error",
     "traceback": [
      "\u001b[1;31m---------------------------------------------------------------------------\u001b[0m",
      "\u001b[1;31mNameError\u001b[0m                                 Traceback (most recent call last)",
      "Cell \u001b[1;32mIn[39], line 1\u001b[0m\n\u001b[1;32m----> 1\u001b[0m datetime\u001b[38;5;241m.\u001b[39mdatetime\u001b[38;5;241m.\u001b[39mstrptime(dt,\u001b[38;5;124m'\u001b[39m\u001b[38;5;132;01m%d\u001b[39;00m\u001b[38;5;124m-\u001b[39m\u001b[38;5;124m%\u001b[39m\u001b[38;5;124mm-\u001b[39m\u001b[38;5;124m%\u001b[39m\u001b[38;5;124mY\u001b[39m\u001b[38;5;124m'\u001b[39m)\n",
      "\u001b[1;31mNameError\u001b[0m: name 'datetime' is not defined"
     ]
    }
   ],
   "source": [
    "datetime.datetime.strptime(dt,'%d-%m-%Y')"
   ]
  },
  {
   "cell_type": "code",
   "execution_count": 57,
   "id": "744e642b-04d4-43b2-9475-4975b21b379d",
   "metadata": {},
   "outputs": [
    {
     "ename": "NameError",
     "evalue": "name 'datetime' is not defined",
     "output_type": "error",
     "traceback": [
      "\u001b[1;31m---------------------------------------------------------------------------\u001b[0m",
      "\u001b[1;31mNameError\u001b[0m                                 Traceback (most recent call last)",
      "Cell \u001b[1;32mIn[57], line 2\u001b[0m\n\u001b[0;32m      1\u001b[0m dt\u001b[38;5;241m=\u001b[39m\u001b[38;5;124m'\u001b[39m\u001b[38;5;124m25-12-2020\u001b[39m\u001b[38;5;124m'\u001b[39m\n\u001b[1;32m----> 2\u001b[0m datetime\u001b[38;5;241m.\u001b[39mdatetime\u001b[38;5;241m.\u001b[39mstrptime(dt, \u001b[38;5;124m'\u001b[39m\u001b[38;5;132;01m%d\u001b[39;00m\u001b[38;5;124m-\u001b[39m\u001b[38;5;124m%\u001b[39m\u001b[38;5;124mm-\u001b[39m\u001b[38;5;124m%\u001b[39m\u001b[38;5;124mY\u001b[39m\u001b[38;5;124m'\u001b[39m)\n",
      "\u001b[1;31mNameError\u001b[0m: name 'datetime' is not defined"
     ]
    }
   ],
   "source": [
    "dt='25-12-2020'\n",
    "datetime.datetime.strptime(dt, '%d-%m-%Y')"
   ]
  },
  {
   "cell_type": "code",
   "execution_count": null,
   "id": "4e5a642a-b63b-4f0f-9d29-6fdfaac37739",
   "metadata": {},
   "outputs": [],
   "source": [
    "# strptime >> str to date\n",
    "# strftime >> dtae to str"
   ]
  },
  {
   "cell_type": "code",
   "execution_count": null,
   "id": "40693ec9-70d7-4037-be48-2b06fbb1ca5b",
   "metadata": {},
   "outputs": [],
   "source": [
    "# 3rd party modules\n"
   ]
  }
 ],
 "metadata": {
  "kernelspec": {
   "display_name": "Python 3 (ipykernel)",
   "language": "python",
   "name": "python3"
  },
  "language_info": {
   "codemirror_mode": {
    "name": "ipython",
    "version": 3
   },
   "file_extension": ".py",
   "mimetype": "text/x-python",
   "name": "python",
   "nbconvert_exporter": "python",
   "pygments_lexer": "ipython3",
   "version": "3.11.7"
  }
 },
 "nbformat": 4,
 "nbformat_minor": 5
}
