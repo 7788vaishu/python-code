{
 "cells": [
  {
   "cell_type": "code",
   "execution_count": 6,
   "id": "5bb5420a-2257-4ba9-b760-b08c61903dc4",
   "metadata": {},
   "outputs": [],
   "source": [
    "# modules-a .py file with python code in it\n",
    "import myMod\n",
    "\n"
   ]
  },
  {
   "cell_type": "code",
   "execution_count": 18,
   "id": "03bda558-800f-4155-852b-6b21736a994f",
   "metadata": {},
   "outputs": [
    {
     "name": "stdout",
     "output_type": "stream",
     "text": [
      "hello\n"
     ]
    }
   ],
   "source": [
    "print('hello')"
   ]
  },
  {
   "cell_type": "code",
   "execution_count": 27,
   "id": "2771a275-cb8d-4927-9ac7-6f44656a7d6a",
   "metadata": {},
   "outputs": [],
   "source": [
    "import myMod"
   ]
  },
  {
   "cell_type": "code",
   "execution_count": 35,
   "id": "2fca3261-bead-4cf5-9607-594cb055fdfa",
   "metadata": {},
   "outputs": [],
   "source": [
    "import myMod"
   ]
  },
  {
   "cell_type": "code",
   "execution_count": 43,
   "id": "9c2688ee-6d5b-408b-ac25-1a78b46c9136",
   "metadata": {},
   "outputs": [],
   "source": [
    "import myMod"
   ]
  },
  {
   "cell_type": "code",
   "execution_count": null,
   "id": "d924ff8e-8b2e-42c3-9bfc-dffcdbc4b465",
   "metadata": {},
   "outputs": [],
   "source": []
  },
  {
   "cell_type": "code",
   "execution_count": null,
   "id": "835369d8-fe88-4c73-8b32-5974e0054d33",
   "metadata": {},
   "outputs": [],
   "source": []
  },
  {
   "cell_type": "code",
   "execution_count": null,
   "id": "bfd42ac1-afc3-4c6d-9817-324975902b58",
   "metadata": {},
   "outputs": [],
   "source": []
  },
  {
   "cell_type": "code",
   "execution_count": null,
   "id": "6580f83f-8aab-446c-afcc-96e754183f51",
   "metadata": {},
   "outputs": [],
   "source": []
  },
  {
   "cell_type": "code",
   "execution_count": null,
   "id": "2746bd93-3c87-49e3-ae2a-1870b56c3402",
   "metadata": {},
   "outputs": [],
   "source": []
  }
 ],
 "metadata": {
  "kernelspec": {
   "display_name": "Python 3 (ipykernel)",
   "language": "python",
   "name": "python3"
  },
  "language_info": {
   "codemirror_mode": {
    "name": "ipython",
    "version": 3
   },
   "file_extension": ".py",
   "mimetype": "text/x-python",
   "name": "python",
   "nbconvert_exporter": "python",
   "pygments_lexer": "ipython3",
   "version": "3.11.7"
  }
 },
 "nbformat": 4,
 "nbformat_minor": 5
}
