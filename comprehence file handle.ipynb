{
 "cells": [
  {
   "cell_type": "code",
   "execution_count": 1,
   "id": "ad17147a-abdc-4b0c-afd5-1cd2e5602d07",
   "metadata": {},
   "outputs": [
    {
     "name": "stdout",
     "output_type": "stream",
     "text": [
      "0\n",
      "1\n",
      "4\n",
      "9\n",
      "16\n"
     ]
    }
   ],
   "source": [
    "# list comprehension(single line for loop)\n",
    "for i in range(5):\n",
    "    print(i**2)"
   ]
  },
  {
   "cell_type": "code",
   "execution_count": 3,
   "id": "0ca06bd7-ed0b-4c6e-80e0-29572ebcd609",
   "metadata": {},
   "outputs": [
    {
     "data": {
      "text/plain": [
       "[0, 1, 4, 9, 16]"
      ]
     },
     "execution_count": 3,
     "metadata": {},
     "output_type": "execute_result"
    }
   ],
   "source": [
    "#comprehension \n",
    "[i**2 for i in range(5)]"
   ]
  },
  {
   "cell_type": "code",
   "execution_count": 7,
   "id": "4e9ded73-307a-4942-a5f3-c0b0c7d9d872",
   "metadata": {},
   "outputs": [
    {
     "name": "stdout",
     "output_type": "stream",
     "text": [
      "-2\n",
      "-1\n",
      "0\n",
      "1\n",
      "2\n"
     ]
    }
   ],
   "source": [
    "for i in range(5):\n",
    "    print(i-2)"
   ]
  },
  {
   "cell_type": "code",
   "execution_count": 9,
   "id": "d35a03e4-46d8-4910-9ce3-d714f947faec",
   "metadata": {},
   "outputs": [
    {
     "data": {
      "text/plain": [
       "[-2, -1, 0, 1, 2]"
      ]
     },
     "execution_count": 9,
     "metadata": {},
     "output_type": "execute_result"
    }
   ],
   "source": [
    "[i-2 for i in range(5)]"
   ]
  },
  {
   "cell_type": "code",
   "execution_count": 11,
   "id": "495ecb42-2734-4ce3-aa23-824bf27b00d7",
   "metadata": {},
   "outputs": [
    {
     "name": "stdout",
     "output_type": "stream",
     "text": [
      "0\n",
      "2\n",
      "4\n",
      "6\n",
      "8\n"
     ]
    }
   ],
   "source": [
    "for i in range(10):\n",
    "    if i%2==0:\n",
    "        print(i)"
   ]
  },
  {
   "cell_type": "code",
   "execution_count": 13,
   "id": "497ee848-b8b5-47e7-91a1-cacdb1115529",
   "metadata": {},
   "outputs": [
    {
     "data": {
      "text/plain": [
       "[0, 2, 4, 6, 8]"
      ]
     },
     "execution_count": 13,
     "metadata": {},
     "output_type": "execute_result"
    }
   ],
   "source": [
    "[i for i in range(10) if i%2==0]"
   ]
  },
  {
   "cell_type": "code",
   "execution_count": 17,
   "id": "6efb2b3b-691b-4097-a321-33d39e91468a",
   "metadata": {},
   "outputs": [
    {
     "data": {
      "text/plain": [
       "{0: 0, 1: 1, 2: 0, 3: 1, 4: 0, 5: 1, 6: 0, 7: 1, 8: 0, 9: 1}"
      ]
     },
     "execution_count": 17,
     "metadata": {},
     "output_type": "execute_result"
    }
   ],
   "source": [
    "# dict comprehension\n",
    "{i: i%2 for i in range(10)}"
   ]
  },
  {
   "cell_type": "code",
   "execution_count": 19,
   "id": "85d13473-2614-470f-8c6f-00787626e0e4",
   "metadata": {},
   "outputs": [
    {
     "data": {
      "text/plain": [
       "17"
      ]
     },
     "execution_count": 19,
     "metadata": {},
     "output_type": "execute_result"
    }
   ],
   "source": [
    "var='qwpoieuriiuydhjdv'\n",
    "len(var)"
   ]
  },
  {
   "cell_type": "code",
   "execution_count": 21,
   "id": "9e4293f2-c5af-4ac6-ba53-7de6fb3c5b13",
   "metadata": {},
   "outputs": [],
   "source": [
    "count=0\n",
    "for i in var:\n",
    "    count+=1"
   ]
  },
  {
   "cell_type": "code",
   "execution_count": 23,
   "id": "31e590ef-e21f-430c-8307-1098c51730f9",
   "metadata": {},
   "outputs": [
    {
     "data": {
      "text/plain": [
       "17"
      ]
     },
     "execution_count": 23,
     "metadata": {},
     "output_type": "execute_result"
    }
   ],
   "source": [
    "count"
   ]
  },
  {
   "cell_type": "code",
   "execution_count": 27,
   "id": "e85b3bfb-cbf4-47fb-9e0f-84588a5c2f8b",
   "metadata": {},
   "outputs": [
    {
     "data": {
      "text/plain": [
       "9"
      ]
     },
     "execution_count": 27,
     "metadata": {},
     "output_type": "execute_result"
    }
   ],
   "source": [
    "int_var=123465656\n",
    "len(str(int_var))"
   ]
  },
  {
   "cell_type": "code",
   "execution_count": 49,
   "id": "e47c3fbe-9dec-4385-94cb-efeb81f6cb3f",
   "metadata": {},
   "outputs": [],
   "source": [
    "# when ever you want save the value you can use return\n",
    "#and when ever you want print the value you can use print\n",
    "def many_num(*args):\n",
    "    return(args)"
   ]
  },
  {
   "cell_type": "code",
   "execution_count": 51,
   "id": "fbac7b1f-a153-4b57-a95a-de44a464acb3",
   "metadata": {},
   "outputs": [
    {
     "data": {
      "text/plain": [
       "(1, 2, 3, 4, 5, 6)"
      ]
     },
     "execution_count": 51,
     "metadata": {},
     "output_type": "execute_result"
    }
   ],
   "source": [
    "many_num(1,2,3,4,5,6)"
   ]
  },
  {
   "cell_type": "code",
   "execution_count": 9,
   "id": "a23a26e6-4907-464b-ae5d-bd8c86cbfd36",
   "metadata": {},
   "outputs": [
    {
     "data": {
      "text/plain": [
       "\"['o', 'u', 'i']\""
      ]
     },
     "execution_count": 9,
     "metadata": {},
     "output_type": "execute_result"
    }
   ],
   "source": [
    "text ='qouwjdisn'\n",
    "vowels=['a','e','i','o','u']\n",
    "str([i for i in text if i in vowels])"
   ]
  },
  {
   "cell_type": "code",
   "execution_count": 11,
   "id": "117af4df-9d42-4a2f-bade-b683a14f2e9b",
   "metadata": {},
   "outputs": [
    {
     "data": {
      "text/plain": [
       "3"
      ]
     },
     "execution_count": 11,
     "metadata": {},
     "output_type": "execute_result"
    }
   ],
   "source": [
    "len([i for i in text if i in vowels])"
   ]
  },
  {
   "cell_type": "code",
   "execution_count": 13,
   "id": "4c0e788b-a6ac-4d4f-89cc-059725078f70",
   "metadata": {},
   "outputs": [
    {
     "name": "stdout",
     "output_type": "stream",
     "text": [
      "0\n",
      "1\n",
      "4\n",
      "9\n",
      "16\n"
     ]
    }
   ],
   "source": [
    "## list comprehension sinle line for loop\n",
    "for i in range(5):\n",
    "    print(i**2)"
   ]
  },
  {
   "cell_type": "code",
   "execution_count": 21,
   "id": "16256072-057f-4f76-9196-2852b6f687dd",
   "metadata": {},
   "outputs": [
    {
     "data": {
      "text/plain": [
       "[0, 1, 4, 9, 16]"
      ]
     },
     "execution_count": 21,
     "metadata": {},
     "output_type": "execute_result"
    }
   ],
   "source": [
    "[i**2 for i in range(5)]"
   ]
  },
  {
   "cell_type": "code",
   "execution_count": 25,
   "id": "4d034782-816a-4449-a203-520b0dfce7a4",
   "metadata": {},
   "outputs": [
    {
     "name": "stdout",
     "output_type": "stream",
     "text": [
      "0\n",
      "2\n",
      "4\n",
      "6\n",
      "8\n"
     ]
    }
   ],
   "source": [
    "for i in range(10):\n",
    "    if i%2==0:\n",
    "        print(i)\n"
   ]
  },
  {
   "cell_type": "code",
   "execution_count": 29,
   "id": "e317a008-b29e-4171-b96f-b620fbf9fe3e",
   "metadata": {},
   "outputs": [
    {
     "data": {
      "text/plain": [
       "[0, 2, 4, 6, 8]"
      ]
     },
     "execution_count": 29,
     "metadata": {},
     "output_type": "execute_result"
    }
   ],
   "source": [
    "l1=[i for i in range(10) if i%2==0]\n",
    "l1"
   ]
  },
  {
   "cell_type": "code",
   "execution_count": 33,
   "id": "8abbfc04-b733-4fb3-8ce9-2459bf897de3",
   "metadata": {},
   "outputs": [
    {
     "data": {
      "text/plain": [
       "{0: 0, 1: 1, 2: 0, 3: 1, 4: 0, 5: 1, 6: 0, 7: 1, 8: 0, 9: 1}"
      ]
     },
     "execution_count": 33,
     "metadata": {},
     "output_type": "execute_result"
    }
   ],
   "source": [
    "# dict comprehension\n",
    "{i: i%2 for i in range(10)}"
   ]
  },
  {
   "cell_type": "code",
   "execution_count": 35,
   "id": "42157053-da11-4bab-bb41-3215af35e585",
   "metadata": {},
   "outputs": [
    {
     "data": {
      "text/plain": [
       "10"
      ]
     },
     "execution_count": 35,
     "metadata": {},
     "output_type": "execute_result"
    }
   ],
   "source": [
    "# function\n",
    "# a set a related instruction bounded together to achieve a common purpose\n",
    "#builtin function\n",
    "# make the reuseability\n",
    "# make the readable\n",
    "\n",
    "len(range(10))"
   ]
  },
  {
   "cell_type": "code",
   "execution_count": 37,
   "id": "90fb62a6-e7b3-4de4-904c-5993a8e0807a",
   "metadata": {},
   "outputs": [
    {
     "data": {
      "text/plain": [
       "8"
      ]
     },
     "execution_count": 37,
     "metadata": {},
     "output_type": "execute_result"
    }
   ],
   "source": [
    "len('qwoeijfi')"
   ]
  },
  {
   "cell_type": "code",
   "execution_count": 39,
   "id": "246fddbd-f656-4b56-a0ab-bc2aa12c6aaa",
   "metadata": {},
   "outputs": [],
   "source": [
    "count=0\n",
    "text='qpowierou'\n",
    "for char in text:\n",
    "    count+=1"
   ]
  },
  {
   "cell_type": "code",
   "execution_count": 41,
   "id": "a0ce2151-7f14-468b-ae6c-bc14c6d61e01",
   "metadata": {},
   "outputs": [
    {
     "data": {
      "text/plain": [
       "9"
      ]
     },
     "execution_count": 41,
     "metadata": {},
     "output_type": "execute_result"
    }
   ],
   "source": [
    "count"
   ]
  },
  {
   "cell_type": "code",
   "execution_count": 43,
   "id": "e5956dcf-90f6-4e36-af64-081bebe438fc",
   "metadata": {},
   "outputs": [
    {
     "data": {
      "text/plain": [
       "8"
      ]
     },
     "execution_count": 43,
     "metadata": {},
     "output_type": "execute_result"
    }
   ],
   "source": [
    "int_var=12233456\n",
    "len(str(int_var))"
   ]
  },
  {
   "cell_type": "code",
   "execution_count": 51,
   "id": "43b248b7-673f-4cf7-a091-8216db56922b",
   "metadata": {},
   "outputs": [],
   "source": [
    "# user define fuction\n",
    "def int_length_calc(num):\n",
    "    count=0\n",
    "    for i in str(num):\n",
    "      count+=1\n",
    "    return count    \n"
   ]
  },
  {
   "cell_type": "code",
   "execution_count": 53,
   "id": "400ff7a2-9217-4e91-9c21-3f34d4909351",
   "metadata": {},
   "outputs": [
    {
     "data": {
      "text/plain": [
       "11"
      ]
     },
     "execution_count": 53,
     "metadata": {},
     "output_type": "execute_result"
    }
   ],
   "source": [
    "int_length_calc(23435454656)"
   ]
  },
  {
   "cell_type": "code",
   "execution_count": 55,
   "id": "ed0515e4-185e-4188-8836-cdfade085f50",
   "metadata": {},
   "outputs": [],
   "source": [
    "# syntax\n",
    "# def function_name(params[option]):\n",
    "#code\n",
    "#code\n",
    "#code"
   ]
  },
  {
   "cell_type": "code",
   "execution_count": 62,
   "id": "c6e2d10b-e7f8-40b0-bd38-c9c2206bad7d",
   "metadata": {},
   "outputs": [
    {
     "name": "stdout",
     "output_type": "stream",
     "text": [
      "this function prints hello!!!!\n"
     ]
    }
   ],
   "source": [
    "def print_hello():\n",
    "    print('this function prints hello!!!!')\n",
    "print_hello()"
   ]
  },
  {
   "cell_type": "code",
   "execution_count": 64,
   "id": "51b44ac0-7f11-47c8-90e0-8a7d8e451bca",
   "metadata": {},
   "outputs": [
    {
     "name": "stdout",
     "output_type": "stream",
     "text": [
      "this function prints hello!!!!\n"
     ]
    }
   ],
   "source": [
    "print_hello()"
   ]
  },
  {
   "cell_type": "code",
   "execution_count": 68,
   "id": "d25eb586-d4b5-4c6d-96b8-d5953ed1d323",
   "metadata": {},
   "outputs": [
    {
     "name": "stdout",
     "output_type": "stream",
     "text": [
      "w\n",
      "0\n",
      "d\n",
      "1\n",
      "e\n",
      "2\n",
      "f\n",
      "3\n",
      "d\n",
      "1\n",
      "f\n",
      "3\n",
      "d\n",
      "1\n",
      "f\n",
      "3\n",
      "g\n",
      "8\n",
      "f\n",
      "3\n",
      "h\n",
      "10\n",
      "j\n",
      "11\n",
      "h\n",
      "10\n"
     ]
    }
   ],
   "source": [
    "def vowels_locator()\n",
    "vowels=['a','e','i','o','u']\n",
    "var='wdefdfdfgfhjh'\n",
    "for i in var:\n",
    "    print(i)\n",
    "    print(var.index(i))\n"
   ]
  },
  {
   "cell_type": "code",
   "execution_count": 85,
   "id": "8709c294-1c50-4c02-b6e5-631c4102f500",
   "metadata": {},
   "outputs": [
    {
     "data": {
      "text/plain": [
       "'arjun.kumar@xyz.com'"
      ]
     },
     "execution_count": 85,
     "metadata": {},
     "output_type": "execute_result"
    }
   ],
   "source": [
    "\n",
    "def email_maker(fname,lname,company_name):\n",
    "    email=fname+'.'+lname+'@'+company_name+'.com'\n",
    "    return email\n",
    "email_maker(fname='arjun',lname='kumar',company_name='xyz')    "
   ]
  },
  {
   "cell_type": "code",
   "execution_count": 89,
   "id": "82da2b28-9957-4b92-9d3c-2778e0e616ae",
   "metadata": {},
   "outputs": [
    {
     "data": {
      "text/plain": [
       "'aru.sighn@ABC.com'"
      ]
     },
     "execution_count": 89,
     "metadata": {},
     "output_type": "execute_result"
    }
   ],
   "source": [
    "email_maker(fname='aru',lname='sighn',company_name='ABC')"
   ]
  },
  {
   "cell_type": "code",
   "execution_count": 7,
   "id": "6f37c269-a256-4417-bbb8-2117ec71e56e",
   "metadata": {},
   "outputs": [
    {
     "name": "stdout",
     "output_type": "stream",
     "text": [
      "odd\n"
     ]
    }
   ],
   "source": [
    "def odd_even(num):\n",
    "    if num%2==0:\n",
    "        print('even')\n",
    "    else:\n",
    "        print('odd')\n",
    "odd_even(num=3)"
   ]
  },
  {
   "cell_type": "code",
   "execution_count": 11,
   "id": "ded45190-bd7f-4cbd-b679-25f9c6c72c80",
   "metadata": {},
   "outputs": [
    {
     "name": "stdout",
     "output_type": "stream",
     "text": [
      "even\n"
     ]
    }
   ],
   "source": [
    "odd_even(num=4)"
   ]
  },
  {
   "cell_type": "code",
   "execution_count": 15,
   "id": "2d123b0a-a103-4efa-8d9d-6a0ec4841d8e",
   "metadata": {},
   "outputs": [
    {
     "data": {
      "text/plain": [
       "'rhoan.deshmukh@XYZ.com'"
      ]
     },
     "execution_count": 15,
     "metadata": {},
     "output_type": "execute_result"
    }
   ],
   "source": [
    "def email_maker2(fname,lname):\n",
    "    email=fname+'.'+lname+'@'+'XYZ'+'.com'\n",
    "    return email\n",
    "email_maker2('rhoan','deshmukh')    "
   ]
  },
  {
   "cell_type": "code",
   "execution_count": 21,
   "id": "c7eb2efc-b682-424b-b4a5-696e29774ab6",
   "metadata": {},
   "outputs": [
    {
     "name": "stdout",
     "output_type": "stream",
     "text": [
      "even\n"
     ]
    }
   ],
   "source": [
    "odd_even(num=2)"
   ]
  },
  {
   "cell_type": "code",
   "execution_count": 25,
   "id": "6bfd6d4a-1e48-4e46-ae4f-6b0e3277bcd7",
   "metadata": {},
   "outputs": [
    {
     "name": "stdout",
     "output_type": "stream",
     "text": [
      "odd\n"
     ]
    }
   ],
   "source": [
    "odd_even(num=7)\n"
   ]
  },
  {
   "cell_type": "code",
   "execution_count": 27,
   "id": "bd5664ab-b58f-4532-a48d-8da64c2c15e8",
   "metadata": {},
   "outputs": [
    {
     "data": {
      "text/plain": [
       "'odd'"
      ]
     },
     "execution_count": 27,
     "metadata": {},
     "output_type": "execute_result"
    }
   ],
   "source": [
    "def odd_even(num):\n",
    "    if num%2==0:\n",
    "       return('even')\n",
    "    else:\n",
    "       return('odd')\n",
    "odd_even(num=3)"
   ]
  },
  {
   "cell_type": "code",
   "execution_count": 29,
   "id": "5c401385-74c4-49a1-b005-f56148ba70af",
   "metadata": {},
   "outputs": [
    {
     "data": {
      "text/plain": [
       "'even'"
      ]
     },
     "execution_count": 29,
     "metadata": {},
     "output_type": "execute_result"
    }
   ],
   "source": [
    "odd_even(num=2)"
   ]
  },
  {
   "cell_type": "code",
   "execution_count": 34,
   "id": "f891343b-7aef-4a6b-81a4-d735a450485c",
   "metadata": {},
   "outputs": [
    {
     "name": "stdout",
     "output_type": "stream",
     "text": [
      "1\n"
     ]
    }
   ],
   "source": [
    "def print_check():\n",
    "    print(1)\n",
    "print_check()   "
   ]
  },
  {
   "cell_type": "code",
   "execution_count": 36,
   "id": "ebecf9f1-14bf-4872-8748-ce42cbd1e5e4",
   "metadata": {},
   "outputs": [
    {
     "data": {
      "text/plain": [
       "1"
      ]
     },
     "execution_count": 36,
     "metadata": {},
     "output_type": "execute_result"
    }
   ],
   "source": [
    "def return_check():\n",
    "    return(1)\n",
    "return_check()"
   ]
  },
  {
   "cell_type": "code",
   "execution_count": 44,
   "id": "cb9b32d4-9cda-4f51-aa8c-b732ab08eac9",
   "metadata": {},
   "outputs": [
    {
     "ename": "NameError",
     "evalue": "name 'print_check' is not defined",
     "output_type": "error",
     "traceback": [
      "\u001b[1;31m---------------------------------------------------------------------------\u001b[0m",
      "\u001b[1;31mNameError\u001b[0m                                 Traceback (most recent call last)",
      "Cell \u001b[1;32mIn[44], line 1\u001b[0m\n\u001b[1;32m----> 1\u001b[0m res_print \u001b[38;5;241m=\u001b[39m print_check()\n",
      "\u001b[1;31mNameError\u001b[0m: name 'print_check' is not defined"
     ]
    }
   ],
   "source": [
    "#res_print -> doesnt have the printed value inside it\n",
    "#res_return -> saves the output from the return keyword\n",
    "# use print if just the printing is needed keyword\n",
    "#if we want to save the output for future use, then use return "
   ]
  },
  {
   "cell_type": "code",
   "execution_count": 46,
   "id": "4a8afc93-aab9-4e3b-a8fd-813f13d001ce",
   "metadata": {},
   "outputs": [
    {
     "name": "stdout",
     "output_type": "stream",
     "text": [
      "1\n"
     ]
    }
   ],
   "source": [
    "a=print(1)"
   ]
  },
  {
   "cell_type": "code",
   "execution_count": 50,
   "id": "c8d096c9-3e4d-4d3f-a2e5-d15b5709919a",
   "metadata": {},
   "outputs": [
    {
     "data": {
      "text/plain": [
       "NoneType"
      ]
     },
     "execution_count": 50,
     "metadata": {},
     "output_type": "execute_result"
    }
   ],
   "source": [
    "type(a)"
   ]
  },
  {
   "cell_type": "code",
   "execution_count": 52,
   "id": "38845bd2-9e77-4619-a6ee-d8e14b560dd9",
   "metadata": {},
   "outputs": [],
   "source": [
    "###"
   ]
  },
  {
   "cell_type": "code",
   "execution_count": 54,
   "id": "2cee0245-755b-4421-b8a3-0c70628b3bf5",
   "metadata": {},
   "outputs": [],
   "source": [
    "def add(num1,num2):\n",
    "    return(num1+num2)"
   ]
  },
  {
   "cell_type": "code",
   "execution_count": 56,
   "id": "34696452-57e9-444a-8be6-f82678b39cf6",
   "metadata": {},
   "outputs": [],
   "source": [
    "a=1\n",
    "b=2"
   ]
  },
  {
   "cell_type": "code",
   "execution_count": 60,
   "id": "7f09c840-12c1-4b66-b465-6ead90efb886",
   "metadata": {},
   "outputs": [
    {
     "data": {
      "text/plain": [
       "3"
      ]
     },
     "execution_count": 60,
     "metadata": {},
     "output_type": "execute_result"
    }
   ],
   "source": [
    "add(num1=a,num2=b) ## keyword parameters"
   ]
  },
  {
   "cell_type": "code",
   "execution_count": 64,
   "id": "5e25c9a6-5378-4473-8ebe-09579d96d761",
   "metadata": {},
   "outputs": [
    {
     "data": {
      "text/plain": [
       "3"
      ]
     },
     "execution_count": 64,
     "metadata": {},
     "output_type": "execute_result"
    }
   ],
   "source": [
    "add(a,b)  ## positional parameters # params will be passed according to their position of occurence"
   ]
  },
  {
   "cell_type": "code",
   "execution_count": 66,
   "id": "34a18be6-b313-4541-b892-ac666c648373",
   "metadata": {},
   "outputs": [
    {
     "name": "stdout",
     "output_type": "stream",
     "text": [
      "2\n"
     ]
    }
   ],
   "source": [
    "def differ(n1,n2):\n",
    "    print(n1-n2)\n",
    "differ(10,8)    "
   ]
  },
  {
   "cell_type": "code",
   "execution_count": 68,
   "id": "f9276872-dfa0-45ab-b042-a120bff902f7",
   "metadata": {},
   "outputs": [
    {
     "name": "stdout",
     "output_type": "stream",
     "text": [
      "-2\n"
     ]
    }
   ],
   "source": [
    "differ(8,10)  "
   ]
  },
  {
   "cell_type": "code",
   "execution_count": 70,
   "id": "bf2798cf-0ba9-4bf6-aad1-804277441a57",
   "metadata": {},
   "outputs": [
    {
     "data": {
      "text/plain": [
       "6"
      ]
     },
     "execution_count": 70,
     "metadata": {},
     "output_type": "execute_result"
    }
   ],
   "source": [
    "def adder(a,b,c):\n",
    "    return(a+b+c)\n",
    "adder(a=1,b=2,c=3)    \n",
    "    "
   ]
  },
  {
   "cell_type": "code",
   "execution_count": 72,
   "id": "bec0165b-bf5c-4c67-a001-216ec9a7a767",
   "metadata": {},
   "outputs": [
    {
     "data": {
      "text/plain": [
       "6"
      ]
     },
     "execution_count": 72,
     "metadata": {},
     "output_type": "execute_result"
    }
   ],
   "source": [
    "adder(1,b=2,c=3) "
   ]
  },
  {
   "cell_type": "code",
   "execution_count": 76,
   "id": "ce3c3f7c-02f6-4028-aa84-4111878de2a3",
   "metadata": {},
   "outputs": [
    {
     "data": {
      "text/plain": [
       "6"
      ]
     },
     "execution_count": 76,
     "metadata": {},
     "output_type": "execute_result"
    }
   ],
   "source": [
    "adder(1,2,c=3) "
   ]
  },
  {
   "cell_type": "code",
   "execution_count": 78,
   "id": "6b7d356f-8c3d-453a-8eb9-33238ca41f88",
   "metadata": {},
   "outputs": [
    {
     "ename": "SyntaxError",
     "evalue": "positional argument follows keyword argument (693740180.py, line 1)",
     "output_type": "error",
     "traceback": [
      "\u001b[1;36m  Cell \u001b[1;32mIn[78], line 1\u001b[1;36m\u001b[0m\n\u001b[1;33m    adder(a=1,2,3)\u001b[0m\n\u001b[1;37m                 ^\u001b[0m\n\u001b[1;31mSyntaxError\u001b[0m\u001b[1;31m:\u001b[0m positional argument follows keyword argument\n"
     ]
    }
   ],
   "source": [
    "adder(a=1,2,3) "
   ]
  },
  {
   "cell_type": "code",
   "execution_count": 80,
   "id": "bd2e43a5-a9f2-47d8-86cc-745b8b59815d",
   "metadata": {},
   "outputs": [],
   "source": [
    "# once '=' is places in any param\n",
    "# all params after that should have'='"
   ]
  },
  {
   "cell_type": "code",
   "execution_count": 96,
   "id": "0f50d7a8-d489-43c0-be86-88727b51c3f0",
   "metadata": {},
   "outputs": [],
   "source": [
    "def adder(a=0,b=0,c=0,d=0):\n",
    "    return(a+b+c+d)"
   ]
  },
  {
   "cell_type": "code",
   "execution_count": 98,
   "id": "060dc7e6-165e-4ca2-ba0a-d3b20ca2ae8c",
   "metadata": {},
   "outputs": [
    {
     "data": {
      "text/plain": [
       "10"
      ]
     },
     "execution_count": 98,
     "metadata": {},
     "output_type": "execute_result"
    }
   ],
   "source": [
    "adder(1,2,3,4)"
   ]
  },
  {
   "cell_type": "code",
   "execution_count": 90,
   "id": "86b324ad-bec7-40f1-bc20-79766d9847e7",
   "metadata": {},
   "outputs": [
    {
     "data": {
      "text/plain": [
       "10"
      ]
     },
     "execution_count": 90,
     "metadata": {},
     "output_type": "execute_result"
    }
   ],
   "source": [
    "adder(d=1,c=2,a=3,b=4)"
   ]
  },
  {
   "cell_type": "code",
   "execution_count": 102,
   "id": "3b3bffae-3097-487f-af16-97ea954a0486",
   "metadata": {},
   "outputs": [
    {
     "data": {
      "text/plain": [
       "3"
      ]
     },
     "execution_count": 102,
     "metadata": {},
     "output_type": "execute_result"
    }
   ],
   "source": [
    "adder(1,2)"
   ]
  },
  {
   "cell_type": "code",
   "execution_count": 104,
   "id": "7d95d361-affa-4596-a07d-b8e674d00a1d",
   "metadata": {},
   "outputs": [
    {
     "data": {
      "text/plain": [
       "13"
      ]
     },
     "execution_count": 104,
     "metadata": {},
     "output_type": "execute_result"
    }
   ],
   "source": [
    "adder(1,4,5,3)"
   ]
  },
  {
   "cell_type": "code",
   "execution_count": 106,
   "id": "08968f32-b0f9-4da3-9665-c16044d12671",
   "metadata": {},
   "outputs": [
    {
     "data": {
      "text/plain": [
       "6"
      ]
     },
     "execution_count": 106,
     "metadata": {},
     "output_type": "execute_result"
    }
   ],
   "source": [
    "adder(2,3,1)"
   ]
  },
  {
   "cell_type": "code",
   "execution_count": 108,
   "id": "485b3064-3752-4d2b-8942-907075c1127a",
   "metadata": {},
   "outputs": [
    {
     "data": {
      "text/plain": [
       "3"
      ]
     },
     "execution_count": 108,
     "metadata": {},
     "output_type": "execute_result"
    }
   ],
   "source": [
    "def calc_sum(a,b):\n",
    "    return(a+b)\n",
    "calc_sum(1,2)    \n",
    "    "
   ]
  },
  {
   "cell_type": "code",
   "execution_count": 114,
   "id": "abb0ac35-7f39-46f1-9129-baf18978ff1c",
   "metadata": {},
   "outputs": [
    {
     "name": "stdout",
     "output_type": "stream",
     "text": [
      "(1, 2, 3, 4)\n"
     ]
    },
    {
     "data": {
      "text/plain": [
       "10"
      ]
     },
     "execution_count": 114,
     "metadata": {},
     "output_type": "execute_result"
    }
   ],
   "source": [
    "# n unnamed arguments arguments/parameters\n",
    "def calc_n_sum(*args):\n",
    "    print(args)\n",
    "    return(sum(args))\n",
    "calc_n_sum(1,2,3,4)    "
   ]
  },
  {
   "cell_type": "code",
   "execution_count": 116,
   "id": "fa5d6f57-74d6-4923-8f7e-2aeff2ed4da3",
   "metadata": {},
   "outputs": [
    {
     "name": "stdout",
     "output_type": "stream",
     "text": [
      "(1, 2, 3, 4, 5, 6, 7, 8, 4, 56)\n"
     ]
    },
    {
     "data": {
      "text/plain": [
       "96"
      ]
     },
     "execution_count": 116,
     "metadata": {},
     "output_type": "execute_result"
    }
   ],
   "source": [
    "calc_n_sum(1,2,3,4,5,6,7,8,4,56)"
   ]
  },
  {
   "cell_type": "code",
   "execution_count": 133,
   "id": "ee487d56-267d-48c4-80e3-f3026f9cc237",
   "metadata": {},
   "outputs": [],
   "source": [
    "def upper_maker(*args):\n",
    "    \n",
    "    return(tuple([i.upper() for i in args]))"
   ]
  },
  {
   "cell_type": "code",
   "execution_count": 135,
   "id": "b6e9ab0f-2cbc-4411-9648-02694147870a",
   "metadata": {},
   "outputs": [
    {
     "data": {
      "text/plain": [
       "('ASFDGFDGFB', 'WEREGRGF')"
      ]
     },
     "execution_count": 135,
     "metadata": {},
     "output_type": "execute_result"
    }
   ],
   "source": [
    "upper_maker('asfdgfdgfb','weregrgf')"
   ]
  },
  {
   "cell_type": "code",
   "execution_count": 153,
   "id": "e2b66922-05c9-4db6-bfdc-b5c28503202f",
   "metadata": {},
   "outputs": [
    {
     "name": "stdout",
     "output_type": "stream",
     "text": [
      "hno - 30\n",
      "street - 18th lane\n",
      "city - BLR\n",
      "state - KA\n",
      "PIN - 20000\n"
     ]
    }
   ],
   "source": [
    "# n named arguments\n",
    "def address_print(hno,street,city,state,PIN):\n",
    "    print('hno -',hno)\n",
    "    print('street -',street)\n",
    "    print('city -',city)\n",
    "    print('state -',state)\n",
    "    print('PIN -',PIN)\n",
    "address_print(hno=30,street='18th lane',city='BLR',state='KA',PIN=20000)    "
   ]
  },
  {
   "cell_type": "code",
   "execution_count": 151,
   "id": "37fd124b-c8bd-499d-a4db-272ff148c72a",
   "metadata": {},
   "outputs": [
    {
     "name": "stdout",
     "output_type": "stream",
     "text": [
      "hno - 30\n",
      "street - 18th lane\n",
      "city - BLR\n",
      "state - KA\n",
      "PIN - 20000\n"
     ]
    }
   ],
   "source": [
    "address_print(hno=30,street='18th lane',city='BLR',state='KA',PIN=20000)    "
   ]
  },
  {
   "cell_type": "code",
   "execution_count": 155,
   "id": "c8e28bc4-0fb9-43bf-870f-f2e67ce5ef35",
   "metadata": {},
   "outputs": [
    {
     "name": "stdout",
     "output_type": "stream",
     "text": [
      "{'hno': 30, 'street': '18th lane', 'city': 'BLR', 'state': 'KA', 'PIN': 20000}\n"
     ]
    }
   ],
   "source": [
    "def address_print(**kwargs):\n",
    "    print(kwargs)\n",
    "address_print(hno=30,street='18th lane',city='BLR',state='KA',PIN=20000)        "
   ]
  },
  {
   "cell_type": "code",
   "execution_count": 157,
   "id": "94f7da77-67d1-4247-a1b8-759ec2bd0771",
   "metadata": {},
   "outputs": [
    {
     "name": "stdout",
     "output_type": "stream",
     "text": [
      "{'hno': 30, 'street': '18th lane', 'city': 'BLR', 'state': 'KA', 'PIN': 20000, 'landmark': 'behind IT park'}\n"
     ]
    }
   ],
   "source": [
    "address_print(hno=30,street='18th lane',city='BLR',state='KA',PIN=20000,landmark='behind IT park')    "
   ]
  },
  {
   "cell_type": "code",
   "execution_count": 179,
   "id": "8a9635bc-6598-47fc-b977-f401a786aa74",
   "metadata": {},
   "outputs": [],
   "source": [
    "def address_print3(**kwargs):\n",
    "    for k,v in kwargs.items():\n",
    "        print(k,'-',v)"
   ]
  },
  {
   "cell_type": "code",
   "execution_count": 181,
   "id": "4cebef00-48a1-4c54-a84e-0a035f73444b",
   "metadata": {},
   "outputs": [
    {
     "name": "stdout",
     "output_type": "stream",
     "text": [
      "hno - 30\n",
      "street - 18th lane\n",
      "city - BLR\n",
      "state - KA\n",
      "PIN - 20000\n"
     ]
    }
   ],
   "source": [
    "address_print3(hno=30,street='18th lane',city='BLR',state='KA',PIN=20000)"
   ]
  },
  {
   "cell_type": "code",
   "execution_count": 169,
   "id": "4f2b7425-438c-43a2-b209-6ca2d803df0b",
   "metadata": {},
   "outputs": [
    {
     "data": {
      "text/plain": [
       "dict_items([('hno', 30), ('street', '18th lane'), ('city', 'BLR'), ('state', 'KA'), ('PIN', 20000), ('landmark', 'behind IT park')])"
      ]
     },
     "execution_count": 169,
     "metadata": {},
     "output_type": "execute_result"
    }
   ],
   "source": [
    "{'hno': 30, 'street': '18th lane', 'city': 'BLR', 'state': 'KA', 'PIN': 20000, 'landmark': 'behind IT park'}.items()"
   ]
  },
  {
   "cell_type": "code",
   "execution_count": 183,
   "id": "ff180a16-e6fa-4026-9337-f5828dd06ec5",
   "metadata": {},
   "outputs": [],
   "source": [
    "#  Text file handling\n",
    "## read,write,appending(add more data/info)\n",
    "#the basic syntax to read a file\n",
    "## which file-file\n",
    "# read\n",
    "# print=> string"
   ]
  },
  {
   "cell_type": "code",
   "execution_count": 223,
   "id": "d63ee72d-f276-46b0-9a6f-03af0a7f193a",
   "metadata": {},
   "outputs": [
    {
     "data": {
      "text/plain": [
       "'hey there!\\nhow are you?\\nwelcome to Ethans'"
      ]
     },
     "execution_count": 223,
     "metadata": {},
     "output_type": "execute_result"
    }
   ],
   "source": [
    "fr=open('test1.txt','r')\n",
    "fr.read()\n"
   ]
  },
  {
   "cell_type": "code",
   "execution_count": 227,
   "id": "39591a27-aacc-4826-b8c6-ed3c7d515c66",
   "metadata": {},
   "outputs": [],
   "source": [
    "fr.close()"
   ]
  },
  {
   "cell_type": "code",
   "execution_count": 229,
   "id": "0d87cc32-0dcd-4d2d-a507-f555c23e1338",
   "metadata": {},
   "outputs": [
    {
     "data": {
      "text/plain": [
       "'hey there!\\n'"
      ]
     },
     "execution_count": 229,
     "metadata": {},
     "output_type": "execute_result"
    }
   ],
   "source": [
    "fr=open('test1.txt','r')\n",
    "fr.readline()"
   ]
  },
  {
   "cell_type": "code",
   "execution_count": 231,
   "id": "a98808b8-1940-4138-8255-07e83581fe64",
   "metadata": {},
   "outputs": [
    {
     "data": {
      "text/plain": [
       "'how are you?\\n'"
      ]
     },
     "execution_count": 231,
     "metadata": {},
     "output_type": "execute_result"
    }
   ],
   "source": [
    "fr.readline()"
   ]
  },
  {
   "cell_type": "code",
   "execution_count": 233,
   "id": "2506921c-1b25-40e3-9450-2223c2b95d29",
   "metadata": {},
   "outputs": [
    {
     "data": {
      "text/plain": [
       "'welcome to Ethans'"
      ]
     },
     "execution_count": 233,
     "metadata": {},
     "output_type": "execute_result"
    }
   ],
   "source": [
    "fr.readline()"
   ]
  },
  {
   "cell_type": "code",
   "execution_count": 235,
   "id": "fe5da456-c831-41b3-bb93-f3eaf9edb554",
   "metadata": {},
   "outputs": [
    {
     "data": {
      "text/plain": [
       "''"
      ]
     },
     "execution_count": 235,
     "metadata": {},
     "output_type": "execute_result"
    }
   ],
   "source": [
    "fr.readline()"
   ]
  },
  {
   "cell_type": "code",
   "execution_count": 239,
   "id": "07baf537-1c45-422d-9297-a8157771f07b",
   "metadata": {},
   "outputs": [
    {
     "data": {
      "text/plain": [
       "['hey there!\\n', 'how are you?\\n', 'welcome to Ethans']"
      ]
     },
     "execution_count": 239,
     "metadata": {},
     "output_type": "execute_result"
    }
   ],
   "source": [
    "fr=open('test1.txt','r')\n",
    "fr.readlines()  ##each line as list of string"
   ]
  },
  {
   "cell_type": "code",
   "execution_count": 241,
   "id": "58411dd6-3c6b-4b6b-bf34-32c4db2a0507",
   "metadata": {},
   "outputs": [],
   "source": [
    "fr.close()"
   ]
  },
  {
   "cell_type": "code",
   "execution_count": 243,
   "id": "2a19b8e7-771f-4dd6-bbce-e579166e8dcb",
   "metadata": {},
   "outputs": [],
   "source": [
    "fr=open('test1.txt','r')"
   ]
  },
  {
   "cell_type": "code",
   "execution_count": 247,
   "id": "8db7e9dd-b4b6-4750-b42c-c4952df5feb1",
   "metadata": {},
   "outputs": [
    {
     "data": {
      "text/plain": [
       "False"
      ]
     },
     "execution_count": 247,
     "metadata": {},
     "output_type": "execute_result"
    }
   ],
   "source": [
    "fr.closed"
   ]
  },
  {
   "cell_type": "code",
   "execution_count": 249,
   "id": "417f56ba-2f5b-4fc7-a24a-65febab5c079",
   "metadata": {},
   "outputs": [
    {
     "data": {
      "text/plain": [
       "0"
      ]
     },
     "execution_count": 249,
     "metadata": {},
     "output_type": "execute_result"
    }
   ],
   "source": [
    "fr.tell()"
   ]
  },
  {
   "cell_type": "code",
   "execution_count": 251,
   "id": "6743abfc-3130-4595-9ea0-9e8aa94065f5",
   "metadata": {},
   "outputs": [
    {
     "data": {
      "text/plain": [
       "'hey there!\\n'"
      ]
     },
     "execution_count": 251,
     "metadata": {},
     "output_type": "execute_result"
    }
   ],
   "source": [
    "fr.readline()"
   ]
  },
  {
   "cell_type": "code",
   "execution_count": 253,
   "id": "4d7d657f-c05b-496b-8c54-e33eca9dfa42",
   "metadata": {},
   "outputs": [
    {
     "data": {
      "text/plain": [
       "11"
      ]
     },
     "execution_count": 253,
     "metadata": {},
     "output_type": "execute_result"
    }
   ],
   "source": [
    "fr.tell()"
   ]
  },
  {
   "cell_type": "code",
   "execution_count": 255,
   "id": "04eb3344-56cb-4845-bc56-b6134ec5543c",
   "metadata": {},
   "outputs": [
    {
     "data": {
      "text/plain": [
       "['how are you?\\n', 'welcome to Ethans']"
      ]
     },
     "execution_count": 255,
     "metadata": {},
     "output_type": "execute_result"
    }
   ],
   "source": [
    "fr.readlines()"
   ]
  },
  {
   "cell_type": "code",
   "execution_count": 257,
   "id": "47e55cd5-87e7-407f-a0f7-87721610ffd9",
   "metadata": {},
   "outputs": [
    {
     "data": {
      "text/plain": [
       "41"
      ]
     },
     "execution_count": 257,
     "metadata": {},
     "output_type": "execute_result"
    }
   ],
   "source": [
    "fr.tell()"
   ]
  },
  {
   "cell_type": "code",
   "execution_count": 259,
   "id": "5e1c94e1-192f-49ce-80ff-c1a462a17ac3",
   "metadata": {},
   "outputs": [
    {
     "data": {
      "text/plain": [
       "0"
      ]
     },
     "execution_count": 259,
     "metadata": {},
     "output_type": "execute_result"
    }
   ],
   "source": [
    "fr.seek(0)"
   ]
  },
  {
   "cell_type": "code",
   "execution_count": 261,
   "id": "4eda7965-0d4d-4663-8278-48a21758de97",
   "metadata": {},
   "outputs": [
    {
     "data": {
      "text/plain": [
       "0"
      ]
     },
     "execution_count": 261,
     "metadata": {},
     "output_type": "execute_result"
    }
   ],
   "source": [
    "fr.tell()"
   ]
  },
  {
   "cell_type": "code",
   "execution_count": 263,
   "id": "be41cc9b-24d5-4bc6-b9ae-82474bd94d69",
   "metadata": {},
   "outputs": [
    {
     "data": {
      "text/plain": [
       "'hey there!\\n'"
      ]
     },
     "execution_count": 263,
     "metadata": {},
     "output_type": "execute_result"
    }
   ],
   "source": [
    "fr.readline()"
   ]
  },
  {
   "cell_type": "code",
   "execution_count": 265,
   "id": "45a95aa0-8a97-482a-a54d-48ae4dc5e7ba",
   "metadata": {},
   "outputs": [
    {
     "data": {
      "text/plain": [
       "False"
      ]
     },
     "execution_count": 265,
     "metadata": {},
     "output_type": "execute_result"
    }
   ],
   "source": [
    "fr.closed"
   ]
  },
  {
   "cell_type": "code",
   "execution_count": 267,
   "id": "289a71e0-f96b-43af-8899-ff342ae41c18",
   "metadata": {},
   "outputs": [],
   "source": [
    "fr.close()"
   ]
  },
  {
   "cell_type": "code",
   "execution_count": 269,
   "id": "2d6b03f3-6ff3-4a70-abe2-cbbe6e2cc8e4",
   "metadata": {},
   "outputs": [
    {
     "data": {
      "text/plain": [
       "True"
      ]
     },
     "execution_count": 269,
     "metadata": {},
     "output_type": "execute_result"
    }
   ],
   "source": [
    "fr.closed"
   ]
  },
  {
   "cell_type": "code",
   "execution_count": 272,
   "id": "3c618f60-ea10-4c27-ba39-7748ae081ea8",
   "metadata": {},
   "outputs": [],
   "source": [
    "### write"
   ]
  },
  {
   "cell_type": "code",
   "execution_count": 274,
   "id": "0e3e117e-7a95-4543-9a35-58527811231c",
   "metadata": {},
   "outputs": [],
   "source": [
    "#which file-file name\n",
    "#write\n",
    "# file"
   ]
  },
  {
   "cell_type": "code",
   "execution_count": 276,
   "id": "3b263a3e-abd7-4d18-a768-afefdddf040f",
   "metadata": {},
   "outputs": [],
   "source": [
    "fw=open('test2.txt','w') "
   ]
  },
  {
   "cell_type": "code",
   "execution_count": 280,
   "id": "d0363a16-9558-4035-bf7c-253920169241",
   "metadata": {},
   "outputs": [
    {
     "data": {
      "text/plain": [
       "14"
      ]
     },
     "execution_count": 280,
     "metadata": {},
     "output_type": "execute_result"
    }
   ],
   "source": [
    "fw.write('a new string!!')  #analogous to read()"
   ]
  },
  {
   "cell_type": "code",
   "execution_count": 282,
   "id": "db026f94-43f6-4ba7-9576-ef535d1152a8",
   "metadata": {},
   "outputs": [],
   "source": [
    "fw.close()"
   ]
  },
  {
   "cell_type": "code",
   "execution_count": 295,
   "id": "bee7843d-6a0b-484b-bb1a-e4a7e7e7ee8f",
   "metadata": {},
   "outputs": [],
   "source": [
    "fw=open('test2.txt','w')  ##if fi"
   ]
  },
  {
   "cell_type": "code",
   "execution_count": 300,
   "id": "dc60e6ab-bb7d-42fa-b665-4b6462e6b233",
   "metadata": {},
   "outputs": [],
   "source": [
    "fw.writelines(\n",
    "    ['first line\\n',\n",
    "    'second line\\n',\n",
    "    'third line']\n",
    ")"
   ]
  },
  {
   "cell_type": "code",
   "execution_count": 307,
   "id": "3e4fa095-90e3-4c4b-af10-eb6fa802f91b",
   "metadata": {},
   "outputs": [],
   "source": [
    "fw.close()"
   ]
  },
  {
   "cell_type": "code",
   "execution_count": 309,
   "id": "f8ca4c5c-b9ea-41fd-91b7-206ccf56f425",
   "metadata": {},
   "outputs": [],
   "source": [
    "fa=open('test2.txt','a')"
   ]
  },
  {
   "cell_type": "code",
   "execution_count": 311,
   "id": "02cb50b7-3d3e-4048-9be0-876584586c22",
   "metadata": {},
   "outputs": [
    {
     "data": {
      "text/plain": [
       "36"
      ]
     },
     "execution_count": 311,
     "metadata": {},
     "output_type": "execute_result"
    }
   ],
   "source": [
    "fa.write('\\nadded a new line to demo. appending')"
   ]
  },
  {
   "cell_type": "code",
   "execution_count": 313,
   "id": "e47d3041-290a-4744-8edc-3a8abdf1dc81",
   "metadata": {},
   "outputs": [],
   "source": [
    "fa.close()"
   ]
  },
  {
   "cell_type": "code",
   "execution_count": 315,
   "id": "3e9ca02c-a411-46d2-beb2-e674cb91cee7",
   "metadata": {},
   "outputs": [],
   "source": [
    "#POC\n",
    "#a file in write mode\n",
    "#two files in read mode"
   ]
  },
  {
   "cell_type": "code",
   "execution_count": 331,
   "id": "64c5aef3-959a-45bd-aa0c-4448d15218be",
   "metadata": {},
   "outputs": [],
   "source": [
    "f1=open('test1.txt','r').read()\n",
    "f2=open('test2.txt','r').read()\n"
   ]
  },
  {
   "cell_type": "code",
   "execution_count": 333,
   "id": "4e21910f-ac27-4940-be5e-3e6aaa67bd0a",
   "metadata": {},
   "outputs": [
    {
     "data": {
      "text/plain": [
       "'hey there!\\nhow are you?\\nwelcome to Ethans'"
      ]
     },
     "execution_count": 333,
     "metadata": {},
     "output_type": "execute_result"
    }
   ],
   "source": [
    "f1"
   ]
  },
  {
   "cell_type": "code",
   "execution_count": 335,
   "id": "8ae60022-00cd-4645-b95b-72ab86845986",
   "metadata": {},
   "outputs": [
    {
     "data": {
      "text/plain": [
       "''"
      ]
     },
     "execution_count": 335,
     "metadata": {},
     "output_type": "execute_result"
    }
   ],
   "source": [
    "f2"
   ]
  },
  {
   "cell_type": "code",
   "execution_count": 339,
   "id": "2102243b-f970-4685-aabc-d3efef1e457e",
   "metadata": {},
   "outputs": [
    {
     "name": "stdout",
     "output_type": "stream",
     "text": [
      "before reading- False\n",
      "hey there!\n",
      "how are you?\n",
      "welcome to Ethans\n",
      "after reading- False\n",
      "True\n"
     ]
    }
   ],
   "source": [
    "#Context manager\n",
    "with open('test1.txt','r')as fr:\n",
    "    print('before reading-',fr.closed)\n",
    "    print(fr.read())\n",
    "    print('after reading-',fr.closed)\n",
    "print(fr.closed)    "
   ]
  },
  {
   "cell_type": "code",
   "execution_count": null,
   "id": "a04b81b0-9010-4ba6-b5ed-d90de0e02ad1",
   "metadata": {},
   "outputs": [],
   "source": []
  }
 ],
 "metadata": {
  "kernelspec": {
   "display_name": "Python 3 (ipykernel)",
   "language": "python",
   "name": "python3"
  },
  "language_info": {
   "codemirror_mode": {
    "name": "ipython",
    "version": 3
   },
   "file_extension": ".py",
   "mimetype": "text/x-python",
   "name": "python",
   "nbconvert_exporter": "python",
   "pygments_lexer": "ipython3",
   "version": "3.11.7"
  }
 },
 "nbformat": 4,
 "nbformat_minor": 5
}
