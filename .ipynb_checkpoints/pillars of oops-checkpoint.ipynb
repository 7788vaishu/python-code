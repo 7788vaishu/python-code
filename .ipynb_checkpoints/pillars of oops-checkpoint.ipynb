{
 "cells": [
  {
   "cell_type": "code",
   "execution_count": 1,
   "id": "174f9612-10b3-44fa-b1cb-4afc2ba60423",
   "metadata": {},
   "outputs": [],
   "source": [
    "## Pillars of OOPs\n",
    "    # Encapsulation\n",
    "    # Abstraction\n",
    "    # Polymorphism\n",
    "    # Inheritance"
   ]
  },
  {
   "cell_type": "code",
   "execution_count": 3,
   "id": "5b4496a4-79cd-435f-9859-49044a5f7d6b",
   "metadata": {},
   "outputs": [],
   "source": [
    "# inheritance\n",
    "    # features/characterstics being carried over to any child class"
   ]
  },
  {
   "cell_type": "code",
   "execution_count": 5,
   "id": "490094f5-9c7e-4449-9606-1d9170f7c196",
   "metadata": {},
   "outputs": [
    {
     "name": "stdout",
     "output_type": "stream",
     "text": [
      "marks\n",
      "ram marks\n"
     ]
    }
   ],
   "source": [
    "class student():\n",
    "    def marks(self):\n",
    "        print('marks')\n",
    "class ram(student):\n",
    "    def r_marks(self):\n",
    "        print('ram marks')\n",
    "obj=ram()\n",
    "obj.marks()\n",
    "obj.r_marks()"
   ]
  },
  {
   "cell_type": "code",
   "execution_count": 7,
   "id": "dce13d3e-8f12-4057-b544-bd076239a895",
   "metadata": {},
   "outputs": [
    {
     "data": {
      "text/plain": [
       "True"
      ]
     },
     "execution_count": 7,
     "metadata": {},
     "output_type": "execute_result"
    }
   ],
   "source": [
    "class car():\n",
    "    tyres=4\n",
    "    steering=1\n",
    "    wheels=4\n",
    "    def braking(self):\n",
    "        print('i can brak')\n",
    "    def  accelerate(self):\n",
    "        print('i can accelerate')\n",
    "class sports_car(car):\n",
    "    aerodynmics=True\n",
    "    heigher_speed=True\n",
    "    GC='low'\n",
    "    \n",
    "mclaren=sports_car()\n",
    "mclaren.aerodynmics"
   ]
  },
  {
   "cell_type": "code",
   "execution_count": null,
   "id": "a9a42e15-012d-4502-8e19-bbf68088972d",
   "metadata": {},
   "outputs": [],
   "source": [
    "# Types of inheritance\n",
    "#Single\n",
    "#Multiple\n",
    "#Multilevel\n",
    "#Hybrid"
   ]
  },
  {
   "cell_type": "code",
   "execution_count": null,
   "id": "84cce964-374f-4232-8ec1-85cd26457480",
   "metadata": {},
   "outputs": [],
   "source": [
    "class A():\n",
    "    var_A='a'\n",
    "class B():\n",
    "    var_B='b'\n",
    "class C():\n",
    "    var_C='c'\n",
    "class D():\n",
    "    var_D='d'"
   ]
  },
  {
   "cell_type": "code",
   "execution_count": 47,
   "id": "c05afe17-9f61-431c-8b0c-00d01afc4e2e",
   "metadata": {},
   "outputs": [],
   "source": [
    "# Single\n",
    "class A():\n",
    "    var_A='a'\n",
    "class B(A):\n",
    "    var_B='b'"
   ]
  },
  {
   "cell_type": "code",
   "execution_count": 57,
   "id": "897cfeb4-04aa-4829-ad44-12898552cca3",
   "metadata": {},
   "outputs": [
    {
     "data": {
      "text/plain": [
       "'b'"
      ]
     },
     "execution_count": 57,
     "metadata": {},
     "output_type": "execute_result"
    }
   ],
   "source": [
    "obj=B()\n",
    "obj.var_A\n",
    "obj.var_B\n"
   ]
  },
  {
   "cell_type": "code",
   "execution_count": 81,
   "id": "3876294e-3861-4ccb-8e71-c66533938837",
   "metadata": {},
   "outputs": [],
   "source": [
    "# Multiple\n",
    "class A():\n",
    "    var_A='a'\n",
    "class B():\n",
    "    var_B='b'\n",
    "class C(A,B):\n",
    "    var_C='c'\n"
   ]
  },
  {
   "cell_type": "code",
   "execution_count": 83,
   "id": "52175ebb-9bd1-4820-82a8-314149a68c37",
   "metadata": {},
   "outputs": [
    {
     "data": {
      "text/plain": [
       "'c'"
      ]
     },
     "execution_count": 83,
     "metadata": {},
     "output_type": "execute_result"
    }
   ],
   "source": [
    "obj1 = C()\n",
    "obj1.var_C"
   ]
  },
  {
   "cell_type": "code",
   "execution_count": 85,
   "id": "50b8134f-74e2-48ab-ba6e-60afdcc12d33",
   "metadata": {},
   "outputs": [
    {
     "data": {
      "text/plain": [
       "'a'"
      ]
     },
     "execution_count": 85,
     "metadata": {},
     "output_type": "execute_result"
    }
   ],
   "source": [
    "obj1.var_A"
   ]
  },
  {
   "cell_type": "code",
   "execution_count": 87,
   "id": "d24ba779-67f7-456a-aed3-058e32b5c030",
   "metadata": {},
   "outputs": [
    {
     "data": {
      "text/plain": [
       "'b'"
      ]
     },
     "execution_count": 87,
     "metadata": {},
     "output_type": "execute_result"
    }
   ],
   "source": [
    "obj.var_B"
   ]
  },
  {
   "cell_type": "code",
   "execution_count": 89,
   "id": "d212e473-c32e-403d-89b4-e698296cf9b0",
   "metadata": {},
   "outputs": [],
   "source": [
    "# Multilevel\n",
    "class A():\n",
    "    var_A='a'\n",
    "class B(A):\n",
    "    var_B='b'\n",
    "class C(B):\n",
    "    var_C='c'\n"
   ]
  },
  {
   "cell_type": "code",
   "execution_count": 95,
   "id": "ebedcd3e-c7d6-4f4a-b28b-d4c5f5447a63",
   "metadata": {},
   "outputs": [
    {
     "data": {
      "text/plain": [
       "'c'"
      ]
     },
     "execution_count": 95,
     "metadata": {},
     "output_type": "execute_result"
    }
   ],
   "source": [
    "obj2=C()\n",
    "obj2.var_C"
   ]
  },
  {
   "cell_type": "code",
   "execution_count": 99,
   "id": "ca9e5e2e-931d-4e01-be5d-6c96ee1c8fb8",
   "metadata": {},
   "outputs": [],
   "source": [
    "# Hybride\n",
    "class A():\n",
    "    var_A='a'\n",
    "class B(A):\n",
    "    var_B='b'\n",
    "class C(A):\n",
    "    var_C='c'\n",
    "class D(B,C):\n",
    "    var_D='d'"
   ]
  },
  {
   "cell_type": "code",
   "execution_count": 101,
   "id": "23657e5a-577d-4446-9302-f909cdf39bc9",
   "metadata": {},
   "outputs": [
    {
     "data": {
      "text/plain": [
       "'a'"
      ]
     },
     "execution_count": 101,
     "metadata": {},
     "output_type": "execute_result"
    }
   ],
   "source": [
    "obj_d=D()\n",
    "obj_d.var_A"
   ]
  },
  {
   "cell_type": "code",
   "execution_count": 103,
   "id": "f8a729f0-54dd-4a47-add8-0088af7bce0a",
   "metadata": {},
   "outputs": [
    {
     "data": {
      "text/plain": [
       "[__main__.D, __main__.B, __main__.C, __main__.A, object]"
      ]
     },
     "execution_count": 103,
     "metadata": {},
     "output_type": "execute_result"
    }
   ],
   "source": [
    "# mro - method resolution order\n",
    "D.mro()"
   ]
  },
  {
   "cell_type": "code",
   "execution_count": 105,
   "id": "0a7c4266-dd04-47ca-8a29-1e5ea448bbf4",
   "metadata": {},
   "outputs": [],
   "source": [
    "# Encapsulation\n",
    "    ## Binding the features and function together,generally used to avoid accidental data changes\n"
   ]
  },
  {
   "cell_type": "code",
   "execution_count": 109,
   "id": "262c88ad-b136-45eb-a1a6-9791f604221e",
   "metadata": {},
   "outputs": [
    {
     "data": {
      "text/plain": [
       "1000"
      ]
     },
     "execution_count": 109,
     "metadata": {},
     "output_type": "execute_result"
    }
   ],
   "source": [
    "class computer():\n",
    "    price=1000\n",
    "dell=computer()\n",
    "dell.price"
   ]
  },
  {
   "cell_type": "code",
   "execution_count": 111,
   "id": "dd18b56e-e1bd-4e1f-bce0-3d22fa136d4d",
   "metadata": {},
   "outputs": [],
   "source": [
    "# getter and setter to avoid accidental changes"
   ]
  },
  {
   "cell_type": "code",
   "execution_count": 121,
   "id": "036ef665-ad74-45a8-be7a-fac53e940018",
   "metadata": {},
   "outputs": [
    {
     "name": "stdout",
     "output_type": "stream",
     "text": [
      " price of computer- 1000\n"
     ]
    }
   ],
   "source": [
    "class computer():\n",
    "    price=1000\n",
    "    def get_price(self):\n",
    "      print(' price of computer-', self.price)\n",
    "dell2=computer()\n",
    "dell2.get_price()"
   ]
  },
  {
   "cell_type": "code",
   "execution_count": 125,
   "id": "0fa03cbf-66cf-488f-8493-179b223c8489",
   "metadata": {},
   "outputs": [
    {
     "name": "stdout",
     "output_type": "stream",
     "text": [
      "balance- 1000\n"
     ]
    }
   ],
   "source": [
    "class bank():\n",
    "    balance=1000\n",
    "    def get_bal(self):\n",
    "        print('balance-',self.balance)\n",
    "account=bank()\n",
    "account.get_bal()"
   ]
  },
  {
   "cell_type": "code",
   "execution_count": 145,
   "id": "0d52492f-8521-41f9-928b-43688060f4af",
   "metadata": {},
   "outputs": [],
   "source": [
    "class bank2():\n",
    "    balance=1000\n",
    "    def get_bal(self):\n",
    "        print('balance-',self.balance)\n",
    "    def modify_bal(self,new_balance_value):\n",
    "        if new_balance_value<self.balance:\n",
    "            self.balance=new_balance_value:\n",
    "            print('balance updated')\n",
    "        else:\n",
    "            print('cant change the balance to a heighter value!!')"
   ]
  },
  {
   "cell_type": "code",
   "execution_count": 147,
   "id": "3610ede6-f6f2-42fe-839b-3908007a0df8",
   "metadata": {},
   "outputs": [
    {
     "name": "stdout",
     "output_type": "stream",
     "text": [
      "balance- 1000\n"
     ]
    }
   ],
   "source": [
    "account2=bank2()\n",
    "account2.get_bal()"
   ]
  },
  {
   "cell_type": "code",
   "execution_count": 149,
   "id": "e751379e-571c-4f18-898e-fc330dc0daa2",
   "metadata": {},
   "outputs": [
    {
     "name": "stdout",
     "output_type": "stream",
     "text": [
      "cant change the balance to a heighter value!!\n"
     ]
    }
   ],
   "source": [
    "account2.modify_bal(1100)"
   ]
  },
  {
   "cell_type": "code",
   "execution_count": 153,
   "id": "353d226e-de60-44da-b9a9-2017f7ff605c",
   "metadata": {},
   "outputs": [
    {
     "name": "stdout",
     "output_type": "stream",
     "text": [
      "balance updated\n"
     ]
    }
   ],
   "source": [
    "account2.modify_bal(900)"
   ]
  },
  {
   "cell_type": "code",
   "execution_count": 157,
   "id": "755c081a-ac67-4bcc-b6a0-242d7cc89b4b",
   "metadata": {},
   "outputs": [
    {
     "data": {
      "text/plain": [
       "1000"
      ]
     },
     "execution_count": 157,
     "metadata": {},
     "output_type": "execute_result"
    }
   ],
   "source": [
    "account2.balance"
   ]
  },
  {
   "cell_type": "code",
   "execution_count": null,
   "id": "6cba9ae6-848f-4f70-ab92-cf0963b9d867",
   "metadata": {},
   "outputs": [],
   "source": []
  }
 ],
 "metadata": {
  "kernelspec": {
   "display_name": "Python 3 (ipykernel)",
   "language": "python",
   "name": "python3"
  },
  "language_info": {
   "codemirror_mode": {
    "name": "ipython",
    "version": 3
   },
   "file_extension": ".py",
   "mimetype": "text/x-python",
   "name": "python",
   "nbconvert_exporter": "python",
   "pygments_lexer": "ipython3",
   "version": "3.11.7"
  }
 },
 "nbformat": 4,
 "nbformat_minor": 5
}
