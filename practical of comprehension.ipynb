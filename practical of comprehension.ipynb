{
 "cells": [
  {
   "cell_type": "code",
   "execution_count": 3,
   "id": "bb34ea64-ae89-4ec5-83ab-e4fece0f5612",
   "metadata": {},
   "outputs": [
    {
     "data": {
      "text/plain": [
       "[1, 4, 9, 16, 25, 36, 49, 64, 81, 100]"
      ]
     },
     "execution_count": 3,
     "metadata": {},
     "output_type": "execute_result"
    }
   ],
   "source": [
    "#create list of square of number from1 to 10\n",
    "\n",
    "[ i**2 for i in range(1,11)]"
   ]
  },
  {
   "cell_type": "code",
   "execution_count": 13,
   "id": "f6ffd64d-2b27-4f8b-97ab-3b992895a03d",
   "metadata": {},
   "outputs": [
    {
     "data": {
      "text/plain": [
       "[2, 4, 6, 8, 10, 12, 14, 16, 18, 20]"
      ]
     },
     "execution_count": 13,
     "metadata": {},
     "output_type": "execute_result"
    }
   ],
   "source": [
    "#create a list of square of number from 1 to 20 \n",
    "[i for i in range(1,21) if i%2==0 ]"
   ]
  },
  {
   "cell_type": "code",
   "execution_count": 35,
   "id": "e063b35a-7620-42a0-9d18-39908fee9701",
   "metadata": {},
   "outputs": [
    {
     "name": "stdout",
     "output_type": "stream",
     "text": [
      "['H', 'e', 'l', 'l', 'o', 'W', 'o', 'r', 'l', 'd']\n"
     ]
    }
   ],
   "source": [
    "#genarte a list of characters from a string \n",
    "string=\"Hello World\"\n",
    "chars=[char for char in string if char.isalpha() ]\n",
    "print(chars)\n"
   ]
  },
  {
   "cell_type": "code",
   "execution_count": 37,
   "id": "b320b199-4576-4215-8e1a-8fba25eb1ec2",
   "metadata": {},
   "outputs": [
    {
     "name": "stdout",
     "output_type": "stream",
     "text": [
      "['H', 'e', 'l', 'l', 'o', 'w', 'o', 'r', 'l', 'd']\n"
     ]
    }
   ],
   "source": [
    "\n",
    "string = \"Hello, world!\"\n",
    "chars = [char for char in string if char.isalpha()]\n",
    "print(chars)"
   ]
  },
  {
   "cell_type": "code",
   "execution_count": 39,
   "id": "842ccc11-b906-4d1a-95ba-8a94e6fc178c",
   "metadata": {},
   "outputs": [
    {
     "data": {
      "text/plain": [
       "[1, 2, 3, 4, 5, 6, 7, 8, 9]"
      ]
     },
     "execution_count": 39,
     "metadata": {},
     "output_type": "execute_result"
    }
   ],
   "source": [
    "[ i for i in range(1,10)]"
   ]
  },
  {
   "cell_type": "code",
   "execution_count": 47,
   "id": "8efbb57e-d989-4270-bfd5-43ad6cc2fece",
   "metadata": {},
   "outputs": [
    {
     "name": "stdout",
     "output_type": "stream",
     "text": [
      "This is a sample sentence.\n",
      "[4, 2, 1, 6, 9]\n"
     ]
    }
   ],
   "source": [
    "# create a list of lengths of words in a sentence\n",
    "sentence = \"This is a sample sentence.\"\n",
    "word_lengths = [len(word) for word in sentence.split()]\n",
    "print(sentence)\n",
    "print(word_lengths)\n"
   ]
  },
  {
   "cell_type": "code",
   "execution_count": 51,
   "id": "1f5b0e36-fa2f-476d-934e-dc18449a8f68",
   "metadata": {},
   "outputs": [
    {
     "name": "stdout",
     "output_type": "stream",
     "text": [
      "[(1, 1), (2, 4), (3, 9), (4, 16), (5, 25)]\n"
     ]
    }
   ],
   "source": [
    "#genrate a list of tuple containing a numbeer and its square\n",
    "num_square=[(x ,x**2) for x in range(1,6)]\n",
    "print(num_square)"
   ]
  },
  {
   "cell_type": "code",
   "execution_count": 54,
   "id": "a2b2ffef-bb46-43ff-96aa-f68c69cb5559",
   "metadata": {},
   "outputs": [
    {
     "name": "stdout",
     "output_type": "stream",
     "text": [
      "['a', 'b', 'c', 'd', 'e', 'f', 'g', 'h', 'i', 'j', 'k', 'l', 'm', 'n', 'o', 'p', 'q', 'r', 's', 't', 'u', 'v', 'w', 'x', 'y', 'z']\n"
     ]
    }
   ],
   "source": [
    "#create a list lowercase letters \n",
    "lower_letter=[chr(x) for x in range(ord('a'), ord('z')+1) ]\n",
    "print(lower_letter)"
   ]
  },
  {
   "cell_type": "code",
   "execution_count": 56,
   "id": "d4e2ca2d-5c78-4433-9af4-250c37d2a1f9",
   "metadata": {},
   "outputs": [
    {
     "name": "stdout",
     "output_type": "stream",
     "text": [
      "['A', 'B', 'C', 'D', 'E', 'F', 'G', 'H', 'I', 'J', 'K', 'L', 'M', 'N', 'O', 'P', 'Q', 'R', 'S', 'T', 'U', 'V', 'W', 'X', 'Y', 'Z']\n"
     ]
    }
   ],
   "source": [
    " # genrate a list of uppercase letters \n",
    "upper_letter=[chr(x) for x in range(ord('A'), ord('Z')+1)]\n",
    "print(upper_letter)"
   ]
  },
  {
   "cell_type": "code",
   "execution_count": 15,
   "id": "a73d2964-703d-4a2e-8e8b-56bf27bb22cd",
   "metadata": {},
   "outputs": [
    {
     "name": "stdout",
     "output_type": "stream",
     "text": [
      "[1, 4, 27, 16, 125, 36, 343, 64, 729, 100]\n"
     ]
    }
   ],
   "source": [
    "# create a list of even numbers squared and odd numbers cubed from 1 to 10\n",
    "result=[i**2  if i%2==0 else i**3 for i in range(1,11) ]\n",
    "print(result)"
   ]
  },
  {
   "cell_type": "code",
   "execution_count": 19,
   "id": "e1313b76-cebe-4b54-b646-4949e06f8a7c",
   "metadata": {},
   "outputs": [
    {
     "name": "stdout",
     "output_type": "stream",
     "text": [
      "[15, 30, 45, 60, 75, 90]\n"
     ]
    }
   ],
   "source": [
    "# genrate a list of common multiples of 3 ans 5 up to 100\n",
    "common_multiples=[x for x in range(1,101) if x%3==0 and x%5==0]\n",
    "print(common_multiples)"
   ]
  },
  {
   "cell_type": "code",
   "execution_count": 23,
   "id": "919e25b0-d08e-43ed-8b57-fadeae97447d",
   "metadata": {},
   "outputs": [
    {
     "name": "stdout",
     "output_type": "stream",
     "text": [
      "[-125, 16, -27, 4, -1, 0, 1, 4, 27, 16, 125]\n"
     ]
    }
   ],
   "source": [
    "# create a list of squares of even numbers and cubes of odd numbers from -5 to 5\n",
    "result=[x**2 if x%2==0 else x**3 for x in range(-5,6)]\n",
    "print(result)"
   ]
  },
  {
   "cell_type": "code",
   "execution_count": null,
   "id": "8fe2e96e-b3d9-4e6d-88a7-1f1380f22a69",
   "metadata": {},
   "outputs": [],
   "source": [
    "#"
   ]
  }
 ],
 "metadata": {
  "kernelspec": {
   "display_name": "Python 3 (ipykernel)",
   "language": "python",
   "name": "python3"
  },
  "language_info": {
   "codemirror_mode": {
    "name": "ipython",
    "version": 3
   },
   "file_extension": ".py",
   "mimetype": "text/x-python",
   "name": "python",
   "nbconvert_exporter": "python",
   "pygments_lexer": "ipython3",
   "version": "3.11.7"
  }
 },
 "nbformat": 4,
 "nbformat_minor": 5
}
