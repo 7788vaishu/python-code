{
 "cells": [
  {
   "cell_type": "code",
   "execution_count": 8,
   "id": "3a2007a0-fe1f-46ff-a2fd-16c71aa34e75",
   "metadata": {},
   "outputs": [
    {
     "data": {
      "text/plain": [
       "False"
      ]
     },
     "execution_count": 8,
     "metadata": {},
     "output_type": "execute_result"
    }
   ],
   "source": [
    "#comparsion opertor\n",
    "num1=10\n",
    "num2=20\n",
    "num1<num2\n",
    "\n",
    "num1>num2\n"
   ]
  },
  {
   "cell_type": "markdown",
   "id": "9a80feec-c8d5-48b5-8c96-ede09f444a65",
   "metadata": {},
   "source": [
    "num1<num2"
   ]
  },
  {
   "cell_type": "code",
   "execution_count": 21,
   "id": "ac1dcd7b-1bfe-41be-b8f5-02525e61c44a",
   "metadata": {},
   "outputs": [
    {
     "data": {
      "text/plain": [
       "False"
      ]
     },
     "execution_count": 21,
     "metadata": {},
     "output_type": "execute_result"
    }
   ],
   "source": [
    "#logical opertor\n",
    "a=100\n",
    "b=200\n",
    "a<=b and b<=a\n",
    "a>=b or b>=a"
   ]
  },
  {
   "cell_type": "code",
   "execution_count": 49,
   "id": "ec82d4a1-1f3f-47ea-812a-83accd73f55b",
   "metadata": {},
   "outputs": [
    {
     "data": {
      "text/plain": [
       "False"
      ]
     },
     "execution_count": 49,
     "metadata": {},
     "output_type": "execute_result"
    }
   ],
   "source": [
    "#bitwise opertor\n",
    "num1=2\n",
    "num2=4\n",
    "(num1>=num2) | (num2<=num1)"
   ]
  },
  {
   "cell_type": "code",
   "execution_count": 37,
   "id": "52a34b8e-ed8c-4270-bc56-6cf58d10d829",
   "metadata": {},
   "outputs": [
    {
     "data": {
      "text/plain": [
       "False"
      ]
     },
     "execution_count": 37,
     "metadata": {},
     "output_type": "execute_result"
    }
   ],
   "source": [
    "hb=True\n",
    "price_lt_100=False\n",
    "hb and price_lt_100"
   ]
  },
  {
   "cell_type": "code",
   "execution_count": 45,
   "id": "bbf1ef10-3344-45b8-b614-903c139f6b80",
   "metadata": {},
   "outputs": [
    {
     "data": {
      "text/plain": [
       "True"
      ]
     },
     "execution_count": 45,
     "metadata": {},
     "output_type": "execute_result"
    }
   ],
   "source": [
    "cost=195\n",
    "cost>100 and cost<=200\n",
    "\n",
    "cost>100\n",
    "cost<=200"
   ]
  },
  {
   "cell_type": "code",
   "execution_count": 51,
   "id": "ab4241d0-64ff-4bd2-9113-719d6a2ffeec",
   "metadata": {},
   "outputs": [
    {
     "name": "stdout",
     "output_type": "stream",
     "text": [
      "hellojohn\n"
     ]
    }
   ],
   "source": [
    "str1=\"hello\"\n",
    "str2=\"john\"\n",
    "print(str1+str2)"
   ]
  },
  {
   "cell_type": "code",
   "execution_count": 61,
   "id": "64efe1d0-9ea6-4e01-ad9a-71cbe64c1697",
   "metadata": {},
   "outputs": [
    {
     "name": "stdout",
     "output_type": "stream",
     "text": [
      "hello\n"
     ]
    }
   ],
   "source": [
    "def myFunction():\n",
    " print(\"hello\")\n",
    "myFunction()\n"
   ]
  },
  {
   "cell_type": "code",
   "execution_count": 67,
   "id": "cab4d3b6-5e1d-4f41-9678-cd65f1e418c7",
   "metadata": {},
   "outputs": [
    {
     "data": {
      "text/plain": [
       "(True, 'how are you')"
      ]
     },
     "execution_count": 67,
     "metadata": {},
     "output_type": "execute_result"
    }
   ],
   "source": [
    "#membership opertor\n",
    "'hi' in 'hi','how are you'"
   ]
  },
  {
   "cell_type": "code",
   "execution_count": 75,
   "id": "7733ac4e-8fca-4f65-a5dd-9b57f0c7ca25",
   "metadata": {},
   "outputs": [
    {
     "data": {
      "text/plain": [
       "True"
      ]
     },
     "execution_count": 75,
     "metadata": {},
     "output_type": "execute_result"
    }
   ],
   "source": [
    "'Hey' not in 'hey there' "
   ]
  },
  {
   "cell_type": "code",
   "execution_count": 89,
   "id": "ce6858d4-2219-4f6f-8bcf-4de1d65bc5d1",
   "metadata": {},
   "outputs": [
    {
     "name": "stdout",
     "output_type": "stream",
     "text": [
      "28\n"
     ]
    },
    {
     "data": {
      "text/plain": [
       "28"
      ]
     },
     "execution_count": 89,
     "metadata": {},
     "output_type": "execute_result"
    }
   ],
   "source": [
    "#String\n",
    "str1='hey there!welcome to home!!!'\n",
    "print(len(str1))\n",
    "type(str1)\n",
    "new_str=str1.strip()\n",
    "len(new_str)"
   ]
  },
  {
   "cell_type": "code",
   "execution_count": 93,
   "id": "47030954-0456-4774-ad7d-3c64d184fa23",
   "metadata": {},
   "outputs": [
    {
     "data": {
      "text/plain": [
       "'hey there!welcome to home!!!'"
      ]
     },
     "execution_count": 93,
     "metadata": {},
     "output_type": "execute_result"
    }
   ],
   "source": [
    "#String methods\n",
    "str1.strip()"
   ]
  },
  {
   "cell_type": "code",
   "execution_count": 97,
   "id": "5cf2c6de-b7c5-43de-9ade-71471a423434",
   "metadata": {},
   "outputs": [
    {
     "data": {
      "text/plain": [
       "'          ajit   ______'"
      ]
     },
     "execution_count": 97,
     "metadata": {},
     "output_type": "execute_result"
    }
   ],
   "source": [
    "str5='     @@@@     ajit   ______'\n",
    "str5.replace('@','')"
   ]
  },
  {
   "cell_type": "code",
   "execution_count": null,
   "id": "f87bfcbc-b7dc-449d-9dc1-f1fe481947cd",
   "metadata": {},
   "outputs": [],
   "source": []
  }
 ],
 "metadata": {
  "kernelspec": {
   "display_name": "Python 3 (ipykernel)",
   "language": "python",
   "name": "python3"
  },
  "language_info": {
   "codemirror_mode": {
    "name": "ipython",
    "version": 3
   },
   "file_extension": ".py",
   "mimetype": "text/x-python",
   "name": "python",
   "nbconvert_exporter": "python",
   "pygments_lexer": "ipython3",
   "version": "3.11.7"
  }
 },
 "nbformat": 4,
 "nbformat_minor": 5
}
