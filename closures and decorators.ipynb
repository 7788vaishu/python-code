{
 "cells": [
  {
   "cell_type": "code",
   "execution_count": 2,
   "id": "23e629bc-8820-4565-89f4-a8c885e70183",
   "metadata": {},
   "outputs": [],
   "source": [
    "# Closures\n",
    "   # Scope \n",
    "   # first class behavior"
   ]
  },
  {
   "cell_type": "code",
   "execution_count": 4,
   "id": "f1d25c3f-bb13-4045-88d4-7caa52e21437",
   "metadata": {},
   "outputs": [],
   "source": [
    "# global\n",
    "# local\n",
    "# non_local"
   ]
  },
  {
   "cell_type": "code",
   "execution_count": 6,
   "id": "546f1526-dc77-4145-a1e8-2d844ee4035f",
   "metadata": {},
   "outputs": [],
   "source": [
    "# global variable - the var declared outside all the func/class\n",
    "# they are available throughout the code to be used"
   ]
  },
  {
   "cell_type": "code",
   "execution_count": 8,
   "id": "76115fdf-280a-4164-ba70-d2d110695b3c",
   "metadata": {},
   "outputs": [],
   "source": [
    "a=1"
   ]
  },
  {
   "cell_type": "code",
   "execution_count": 22,
   "id": "dfb8309d-1e13-4c30-a557-6e47589a6297",
   "metadata": {},
   "outputs": [],
   "source": [
    "def var_print():\n",
    "    print(a)"
   ]
  },
  {
   "cell_type": "code",
   "execution_count": 24,
   "id": "36b458d7-cd1e-40e7-9da5-70954d3b7817",
   "metadata": {},
   "outputs": [
    {
     "name": "stdout",
     "output_type": "stream",
     "text": [
      "1\n"
     ]
    }
   ],
   "source": [
    "var_print()"
   ]
  },
  {
   "cell_type": "code",
   "execution_count": 20,
   "id": "5c05dc91-6c7f-4afb-ab87-c6eed8e817f9",
   "metadata": {},
   "outputs": [],
   "source": [
    "def var_print2():\n",
    "    print(a)"
   ]
  },
  {
   "cell_type": "code",
   "execution_count": 26,
   "id": "b95d84ee-d985-47cf-aaa6-9efcba238d5e",
   "metadata": {},
   "outputs": [
    {
     "name": "stdout",
     "output_type": "stream",
     "text": [
      "1\n"
     ]
    }
   ],
   "source": [
    "var_print2()"
   ]
  },
  {
   "cell_type": "code",
   "execution_count": 28,
   "id": "4fe6aafd-7784-4ab6-94d2-11ed71ed67cd",
   "metadata": {},
   "outputs": [],
   "source": [
    "# local variable -  declared inside any function/classal \n",
    "# they are available only for that function/class\n",
    "# once the function execution is over the var dies"
   ]
  },
  {
   "cell_type": "code",
   "execution_count": 30,
   "id": "bce3b410-fe88-4139-a018-2074fd2ffe6d",
   "metadata": {},
   "outputs": [],
   "source": [
    "def local_var_test():\n",
    "    b=10\n",
    "    print(b)"
   ]
  },
  {
   "cell_type": "code",
   "execution_count": 32,
   "id": "c2fde7e7-e5d5-41f9-954c-74b50235c420",
   "metadata": {},
   "outputs": [
    {
     "name": "stdout",
     "output_type": "stream",
     "text": [
      "10\n"
     ]
    }
   ],
   "source": [
    "local_var_test()"
   ]
  },
  {
   "cell_type": "code",
   "execution_count": 34,
   "id": "93e5d1f8-0815-48f2-a697-dd2630cef0b6",
   "metadata": {},
   "outputs": [
    {
     "ename": "NameError",
     "evalue": "name 'b' is not defined",
     "output_type": "error",
     "traceback": [
      "\u001b[1;31m---------------------------------------------------------------------------\u001b[0m",
      "\u001b[1;31mNameError\u001b[0m                                 Traceback (most recent call last)",
      "Cell \u001b[1;32mIn[34], line 1\u001b[0m\n\u001b[1;32m----> 1\u001b[0m b\n",
      "\u001b[1;31mNameError\u001b[0m: name 'b' is not defined"
     ]
    }
   ],
   "source": [
    "b"
   ]
  },
  {
   "cell_type": "code",
   "execution_count": 36,
   "id": "c2c9a314-21f5-44c2-be4c-a55d86ecd9cd",
   "metadata": {},
   "outputs": [],
   "source": [
    "# non_loacl variable - the var declared outside inner func and inside outer func"
   ]
  },
  {
   "cell_type": "code",
   "execution_count": 54,
   "id": "dcff4057-15be-4b0e-bcf1-492671ca2018",
   "metadata": {},
   "outputs": [],
   "source": [
    "def outer_func():\n",
    "    c=10\n",
    "    def inner_func():\n",
    "        print(c)\n"
   ]
  },
  {
   "cell_type": "code",
   "execution_count": 56,
   "id": "8615e889-11e6-4e26-b881-23342d225d5a",
   "metadata": {},
   "outputs": [
    {
     "ename": "NameError",
     "evalue": "name 'inner_func' is not defined",
     "output_type": "error",
     "traceback": [
      "\u001b[1;31m---------------------------------------------------------------------------\u001b[0m",
      "\u001b[1;31mNameError\u001b[0m                                 Traceback (most recent call last)",
      "Cell \u001b[1;32mIn[56], line 1\u001b[0m\n\u001b[1;32m----> 1\u001b[0m inner_func()\n",
      "\u001b[1;31mNameError\u001b[0m: name 'inner_func' is not defined"
     ]
    }
   ],
   "source": [
    "inner_func()"
   ]
  },
  {
   "cell_type": "code",
   "execution_count": null,
   "id": "d5303bec-6fcb-4385-9f81-2d7157162145",
   "metadata": {},
   "outputs": [],
   "source": []
  }
 ],
 "metadata": {
  "kernelspec": {
   "display_name": "Python 3 (ipykernel)",
   "language": "python",
   "name": "python3"
  },
  "language_info": {
   "codemirror_mode": {
    "name": "ipython",
    "version": 3
   },
   "file_extension": ".py",
   "mimetype": "text/x-python",
   "name": "python",
   "nbconvert_exporter": "python",
   "pygments_lexer": "ipython3",
   "version": "3.11.7"
  }
 },
 "nbformat": 4,
 "nbformat_minor": 5
}
