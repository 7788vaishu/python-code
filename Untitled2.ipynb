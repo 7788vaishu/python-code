{
 "cells": [
  {
   "cell_type": "code",
   "execution_count": 1,
   "id": "aa6e9e75-9d0c-41c1-a166-f8e8cd4311b5",
   "metadata": {},
   "outputs": [],
   "source": [
    "##Tuple\n",
    "###a collection homogenous/heterogenous data structure of python \n",
    "### bounded with paraanthesis\n",
    "### immutable in nature"
   ]
  },
  {
   "cell_type": "code",
   "execution_count": 20,
   "id": "b8e64035-d9fe-4ed3-941d-1e56bc817eaf",
   "metadata": {},
   "outputs": [
    {
     "data": {
      "text/plain": [
       "(1, 2, 3, 4, 4, 5, 1.2, 3.2, 'abc', 'def')"
      ]
     },
     "execution_count": 20,
     "metadata": {},
     "output_type": "execute_result"
    }
   ],
   "source": [
    "t1=(1,2,3,4,4,5,1.2,3.2,'abc','def')\n",
    "type(t1)\n",
    "t1"
   ]
  },
  {
   "cell_type": "code",
   "execution_count": 22,
   "id": "94f3f844-2495-49e9-8ad4-cf1189590071",
   "metadata": {},
   "outputs": [
    {
     "data": {
      "text/plain": [
       "2"
      ]
     },
     "execution_count": 22,
     "metadata": {},
     "output_type": "execute_result"
    }
   ],
   "source": [
    "t1.count(4)"
   ]
  },
  {
   "cell_type": "code",
   "execution_count": 30,
   "id": "16cf3647-1d4a-49e5-8010-a208640291e3",
   "metadata": {},
   "outputs": [
    {
     "data": {
      "text/plain": [
       "6"
      ]
     },
     "execution_count": 30,
     "metadata": {},
     "output_type": "execute_result"
    }
   ],
   "source": [
    "t1.index(1.2)"
   ]
  },
  {
   "cell_type": "code",
   "execution_count": 32,
   "id": "0a617aa4-792e-4a43-89b5-f604bc6b6c85",
   "metadata": {},
   "outputs": [
    {
     "data": {
      "text/plain": [
       "10"
      ]
     },
     "execution_count": 32,
     "metadata": {},
     "output_type": "execute_result"
    }
   ],
   "source": [
    "len(t1)"
   ]
  },
  {
   "cell_type": "code",
   "execution_count": 44,
   "id": "6114ab9f-138d-48f9-83f0-f5f11553a836",
   "metadata": {},
   "outputs": [
    {
     "data": {
      "text/plain": [
       "-4"
      ]
     },
     "execution_count": 44,
     "metadata": {},
     "output_type": "execute_result"
    }
   ],
   "source": [
    "t1.index(1.2)-len(t1)### return negative index values"
   ]
  },
  {
   "cell_type": "code",
   "execution_count": 46,
   "id": "c99eb37d-8b27-4aa0-91a8-034a5d381370",
   "metadata": {},
   "outputs": [
    {
     "data": {
      "text/plain": [
       "('def', 'abc', 3.2, 1.2, 5, 4, 4, 3, 2, 1)"
      ]
     },
     "execution_count": 46,
     "metadata": {},
     "output_type": "execute_result"
    }
   ],
   "source": [
    "t1[::-1]"
   ]
  },
  {
   "cell_type": "code",
   "execution_count": 48,
   "id": "762ee280-c1a4-4767-953f-24d2d495cd60",
   "metadata": {},
   "outputs": [],
   "source": [
    "##immutability\n",
    "## elements of tuple not be change"
   ]
  },
  {
   "cell_type": "code",
   "execution_count": 50,
   "id": "b159cf7e-11dd-4a5b-8bad-3057900596d0",
   "metadata": {},
   "outputs": [
    {
     "data": {
      "text/plain": [
       "5"
      ]
     },
     "execution_count": 50,
     "metadata": {},
     "output_type": "execute_result"
    }
   ],
   "source": [
    "l1=[1,2,3,4,[12,22,32,[11,21,31]]]\n",
    "len(l1)"
   ]
  },
  {
   "cell_type": "code",
   "execution_count": 52,
   "id": "052fa314-9a30-4f9f-9e88-5f2b449d2fff",
   "metadata": {},
   "outputs": [
    {
     "data": {
      "text/plain": [
       "[12, 22, 32, [11, 21, 31]]"
      ]
     },
     "execution_count": 52,
     "metadata": {},
     "output_type": "execute_result"
    }
   ],
   "source": [
    "l1[-1]"
   ]
  },
  {
   "cell_type": "code",
   "execution_count": 54,
   "id": "4c22e533-5b66-40f6-af88-289d886e9edf",
   "metadata": {},
   "outputs": [
    {
     "data": {
      "text/plain": [
       "[11, 21, 31]"
      ]
     },
     "execution_count": 54,
     "metadata": {},
     "output_type": "execute_result"
    }
   ],
   "source": [
    "l1[-1][-1]"
   ]
  },
  {
   "cell_type": "code",
   "execution_count": 56,
   "id": "ab816b29-c5b6-4a72-83d5-5ce77a6e5d75",
   "metadata": {},
   "outputs": [
    {
     "data": {
      "text/plain": [
       "31"
      ]
     },
     "execution_count": 56,
     "metadata": {},
     "output_type": "execute_result"
    }
   ],
   "source": [
    "l1[-1][-1][-1]"
   ]
  },
  {
   "cell_type": "code",
   "execution_count": 60,
   "id": "8e7eaebd-79b4-4032-969d-f30386672bd8",
   "metadata": {},
   "outputs": [
    {
     "ename": "TypeError",
     "evalue": "'tuple' object does not support item assignment",
     "output_type": "error",
     "traceback": [
      "\u001b[1;31m---------------------------------------------------------------------------\u001b[0m",
      "\u001b[1;31mTypeError\u001b[0m                                 Traceback (most recent call last)",
      "Cell \u001b[1;32mIn[60], line 3\u001b[0m\n\u001b[0;32m      1\u001b[0m \u001b[38;5;66;03m## combination of list and tuple\u001b[39;00m\n\u001b[0;32m      2\u001b[0m tol\u001b[38;5;241m=\u001b[39m([\u001b[38;5;241m1\u001b[39m,\u001b[38;5;241m2\u001b[39m],[\u001b[38;5;241m3\u001b[39m,\u001b[38;5;241m4\u001b[39m],[\u001b[38;5;241m5\u001b[39m,\u001b[38;5;241m6\u001b[39m])\n\u001b[1;32m----> 3\u001b[0m tol[\u001b[38;5;241m0\u001b[39m]\u001b[38;5;241m=\u001b[39m\u001b[38;5;241m100\u001b[39m\n",
      "\u001b[1;31mTypeError\u001b[0m: 'tuple' object does not support item assignment"
     ]
    }
   ],
   "source": [
    "## combination of list and tuple\n",
    "tol=([1,2],[3,4],[5,6])\n",
    "tol[0]=100\n"
   ]
  },
  {
   "cell_type": "code",
   "execution_count": 62,
   "id": "d3150381-2b97-4236-92a5-256801c38831",
   "metadata": {},
   "outputs": [],
   "source": [
    "## tuple to list\n",
    "tol[-1][-1]=100"
   ]
  },
  {
   "cell_type": "code",
   "execution_count": 64,
   "id": "1eff815d-eb7e-4017-9d5e-31ec19885018",
   "metadata": {},
   "outputs": [
    {
     "data": {
      "text/plain": [
       "([1, 2], [3, 4], [5, 100])"
      ]
     },
     "execution_count": 64,
     "metadata": {},
     "output_type": "execute_result"
    }
   ],
   "source": [
    "tol"
   ]
  },
  {
   "cell_type": "code",
   "execution_count": 89,
   "id": "a109199f-8950-4966-b938-5ea708d9941d",
   "metadata": {},
   "outputs": [
    {
     "ename": "TypeError",
     "evalue": "'tuple' object does not support item assignment",
     "output_type": "error",
     "traceback": [
      "\u001b[1;31m---------------------------------------------------------------------------\u001b[0m",
      "\u001b[1;31mTypeError\u001b[0m                                 Traceback (most recent call last)",
      "Cell \u001b[1;32mIn[89], line 4\u001b[0m\n\u001b[0;32m      2\u001b[0m lot\u001b[38;5;241m=\u001b[39m[(\u001b[38;5;241m1\u001b[39m,\u001b[38;5;241m2\u001b[39m),(\u001b[38;5;241m3\u001b[39m,\u001b[38;5;241m4\u001b[39m),(\u001b[38;5;241m5\u001b[39m,\u001b[38;5;241m6\u001b[39m)]\n\u001b[0;32m      3\u001b[0m lot\n\u001b[1;32m----> 4\u001b[0m lot[\u001b[38;5;241m-\u001b[39m\u001b[38;5;241m1\u001b[39m][\u001b[38;5;241m-\u001b[39m\u001b[38;5;241m1\u001b[39m]\u001b[38;5;241m=\u001b[39m\u001b[38;5;241m100\u001b[39m\n",
      "\u001b[1;31mTypeError\u001b[0m: 'tuple' object does not support item assignment"
     ]
    }
   ],
   "source": [
    "## list to tuple\n",
    "lot=[(1,2),(3,4),(5,6)]\n",
    "lot\n",
    "lot[-1][-1]=100"
   ]
  },
  {
   "cell_type": "code",
   "execution_count": 83,
   "id": "15984c4c-5d28-4f80-a961-fa6113e4d9cb",
   "metadata": {},
   "outputs": [
    {
     "data": {
      "text/plain": [
       "[[1000, 1000], (3, 4), [1000, 100]]"
      ]
     },
     "execution_count": 83,
     "metadata": {},
     "output_type": "execute_result"
    }
   ],
   "source": [
    "lot[-1][-1]=100\n",
    "lot"
   ]
  },
  {
   "cell_type": "code",
   "execution_count": 85,
   "id": "7fdf8619-5da5-40ca-b085-bd3d29d87813",
   "metadata": {},
   "outputs": [
    {
     "data": {
      "text/plain": [
       "[[1000, 1000], (3, 4), [1000, 100]]"
      ]
     },
     "execution_count": 85,
     "metadata": {},
     "output_type": "execute_result"
    }
   ],
   "source": [
    "lot"
   ]
  },
  {
   "cell_type": "code",
   "execution_count": 109,
   "id": "0ca408b7-44f3-4008-8966-0073308bf6a0",
   "metadata": {},
   "outputs": [
    {
     "data": {
      "text/plain": [
       "[(200, 300), (3, 4), (1, 2)]"
      ]
     },
     "execution_count": 109,
     "metadata": {},
     "output_type": "execute_result"
    }
   ],
   "source": [
    "lot[-1]=(1,2)\n",
    "lot"
   ]
  },
  {
   "cell_type": "code",
   "execution_count": 97,
   "id": "b68a7287-b9d0-4370-969a-b35cd030e884",
   "metadata": {},
   "outputs": [
    {
     "ename": "TypeError",
     "evalue": "'tuple' object does not support item assignment",
     "output_type": "error",
     "traceback": [
      "\u001b[1;31m---------------------------------------------------------------------------\u001b[0m",
      "\u001b[1;31mTypeError\u001b[0m                                 Traceback (most recent call last)",
      "Cell \u001b[1;32mIn[97], line 1\u001b[0m\n\u001b[1;32m----> 1\u001b[0m lot[\u001b[38;5;241m-\u001b[39m\u001b[38;5;241m3\u001b[39m][\u001b[38;5;241m-\u001b[39m\u001b[38;5;241m3\u001b[39m]\u001b[38;5;241m=\u001b[39m\u001b[38;5;241m200\u001b[39m\n",
      "\u001b[1;31mTypeError\u001b[0m: 'tuple' object does not support item assignment"
     ]
    }
   ],
   "source": [
    "lot[-3][-3]=200"
   ]
  },
  {
   "cell_type": "code",
   "execution_count": 149,
   "id": "65cc8b9e-e7d1-41cf-946c-42eb787c3f11",
   "metadata": {},
   "outputs": [
    {
     "data": {
      "text/plain": [
       "((1, 2), (3, 4), (200, 300))"
      ]
     },
     "execution_count": 149,
     "metadata": {},
     "output_type": "execute_result"
    }
   ],
   "source": [
    "lot.sort()\n",
    "tuple(lot)"
   ]
  },
  {
   "cell_type": "code",
   "execution_count": 115,
   "id": "7a5c47d2-fae5-41ef-a36c-41942d681607",
   "metadata": {},
   "outputs": [],
   "source": [
    "# dictionary\n",
    "## key value pair\n",
    "# unique words and their elements\n",
    "## unique keys and their values"
   ]
  },
  {
   "cell_type": "code",
   "execution_count": 117,
   "id": "d45a0dde-4226-40d9-ac35-39379c4ac4c9",
   "metadata": {},
   "outputs": [
    {
     "data": {
      "text/plain": [
       "{'name': 'rajvir', 'age': 21, 'city': 'pune', 'PIN': 413512}"
      ]
     },
     "execution_count": 117,
     "metadata": {},
     "output_type": "execute_result"
    }
   ],
   "source": [
    "address_det={'name':'rajvir','age':21,'city':'pune','PIN':413512}\n",
    "address_det"
   ]
  },
  {
   "cell_type": "code",
   "execution_count": 121,
   "id": "51e8feb2-b9ab-4afb-a42b-5777f5661847",
   "metadata": {},
   "outputs": [
    {
     "data": {
      "text/plain": [
       "'pune'"
      ]
     },
     "execution_count": 121,
     "metadata": {},
     "output_type": "execute_result"
    }
   ],
   "source": [
    "address_det['city']"
   ]
  },
  {
   "cell_type": "code",
   "execution_count": 123,
   "id": "5e5e92e0-f2c3-4b9e-b5d7-17a35cbfcdd0",
   "metadata": {},
   "outputs": [
    {
     "data": {
      "text/plain": [
       "413512"
      ]
     },
     "execution_count": 123,
     "metadata": {},
     "output_type": "execute_result"
    }
   ],
   "source": [
    "address_det['PIN']"
   ]
  },
  {
   "cell_type": "code",
   "execution_count": 125,
   "id": "674fdb51-b672-451b-beb0-dfeebf663b7b",
   "metadata": {},
   "outputs": [
    {
     "ename": "KeyError",
     "evalue": "'class'",
     "output_type": "error",
     "traceback": [
      "\u001b[1;31m---------------------------------------------------------------------------\u001b[0m",
      "\u001b[1;31mKeyError\u001b[0m                                  Traceback (most recent call last)",
      "Cell \u001b[1;32mIn[125], line 1\u001b[0m\n\u001b[1;32m----> 1\u001b[0m address_det[\u001b[38;5;124m'\u001b[39m\u001b[38;5;124mclass\u001b[39m\u001b[38;5;124m'\u001b[39m]\n",
      "\u001b[1;31mKeyError\u001b[0m: 'class'"
     ]
    }
   ],
   "source": [
    "address_det['class']"
   ]
  },
  {
   "cell_type": "code",
   "execution_count": 137,
   "id": "8d436434-25ec-47f5-b0e5-f36cf882f2e2",
   "metadata": {},
   "outputs": [
    {
     "data": {
      "text/plain": [
       "{'name': 'rohan',\n",
       " 'age': 21,\n",
       " 'city': 'pune',\n",
       " 'PIN': 413512,\n",
       " 'class': 12,\n",
       " 'Age': 20}"
      ]
     },
     "execution_count": 137,
     "metadata": {},
     "output_type": "execute_result"
    }
   ],
   "source": [
    "address_det['class']=12\n",
    "address_det"
   ]
  },
  {
   "cell_type": "code",
   "execution_count": 131,
   "id": "3ba9c3bd-ad64-446d-a76e-d4cd496d0f7f",
   "metadata": {},
   "outputs": [],
   "source": [
    "address_det['name']='rohan'"
   ]
  },
  {
   "cell_type": "code",
   "execution_count": 135,
   "id": "a06bee63-fe4b-45b0-811d-2c177edc5e7c",
   "metadata": {},
   "outputs": [],
   "source": [
    "address_det['Age']=20"
   ]
  },
  {
   "cell_type": "code",
   "execution_count": 145,
   "id": "0cf3618b-974d-452d-aa71-9c89762343bc",
   "metadata": {},
   "outputs": [
    {
     "ename": "KeyError",
     "evalue": "'Age'",
     "output_type": "error",
     "traceback": [
      "\u001b[1;31m---------------------------------------------------------------------------\u001b[0m",
      "\u001b[1;31mKeyError\u001b[0m                                  Traceback (most recent call last)",
      "Cell \u001b[1;32mIn[145], line 1\u001b[0m\n\u001b[1;32m----> 1\u001b[0m address_det\u001b[38;5;241m.\u001b[39mpop(\u001b[38;5;124m'\u001b[39m\u001b[38;5;124mAge\u001b[39m\u001b[38;5;124m'\u001b[39m)\n",
      "\u001b[1;31mKeyError\u001b[0m: 'Age'"
     ]
    }
   ],
   "source": [
    "address_det.pop('Age')\n"
   ]
  },
  {
   "cell_type": "code",
   "execution_count": 147,
   "id": "adff9ba1-5972-46c1-8ded-6005166b8126",
   "metadata": {},
   "outputs": [
    {
     "data": {
      "text/plain": [
       "{'name': 'rohan', 'age': 21, 'city': 'pune', 'PIN': 413512, 'class': 12}"
      ]
     },
     "execution_count": 147,
     "metadata": {},
     "output_type": "execute_result"
    }
   ],
   "source": [
    "address_det"
   ]
  },
  {
   "cell_type": "code",
   "execution_count": 151,
   "id": "fbfe6165-0e2a-43cd-9e6e-0c83da39204d",
   "metadata": {},
   "outputs": [
    {
     "data": {
      "text/plain": [
       "1"
      ]
     },
     "execution_count": 151,
     "metadata": {},
     "output_type": "execute_result"
    }
   ],
   "source": [
    "int('1')"
   ]
  },
  {
   "cell_type": "code",
   "execution_count": 155,
   "id": "b3838da9-2b98-4487-b007-1177bbe3b112",
   "metadata": {},
   "outputs": [
    {
     "data": {
      "text/plain": [
       "dict_values(['rohan', 21, 'pune', 413512, 12])"
      ]
     },
     "execution_count": 155,
     "metadata": {},
     "output_type": "execute_result"
    }
   ],
   "source": [
    "address_det.values()"
   ]
  },
  {
   "cell_type": "code",
   "execution_count": 159,
   "id": "2b7f8202-66a7-42a6-b710-7b10501ae3bf",
   "metadata": {},
   "outputs": [
    {
     "data": {
      "text/plain": [
       "dict_keys(['name', 'age', 'city', 'PIN', 'class'])"
      ]
     },
     "execution_count": 159,
     "metadata": {},
     "output_type": "execute_result"
    }
   ],
   "source": [
    "address_det.keys()"
   ]
  },
  {
   "cell_type": "code",
   "execution_count": 161,
   "id": "d8adbd04-021c-4551-b5b6-ddbd1897cfaa",
   "metadata": {},
   "outputs": [
    {
     "data": {
      "text/plain": [
       "dict_items([('name', 'rohan'), ('age', 21), ('city', 'pune'), ('PIN', 413512), ('class', 12)])"
      ]
     },
     "execution_count": 161,
     "metadata": {},
     "output_type": "execute_result"
    }
   ],
   "source": [
    "address_det.items()"
   ]
  },
  {
   "cell_type": "code",
   "execution_count": 163,
   "id": "1233e93d-0bb5-462d-9faf-8c86c6a4f29b",
   "metadata": {},
   "outputs": [
    {
     "data": {
      "text/plain": [
       "[('name', 'rohan'),\n",
       " ('age', 21),\n",
       " ('city', 'pune'),\n",
       " ('PIN', 413512),\n",
       " ('class', 12)]"
      ]
     },
     "execution_count": 163,
     "metadata": {},
     "output_type": "execute_result"
    }
   ],
   "source": [
    "list(address_det.items())"
   ]
  },
  {
   "cell_type": "code",
   "execution_count": 165,
   "id": "ec5877cc-07a4-437b-9bd4-5fbeb9212dc3",
   "metadata": {},
   "outputs": [
    {
     "data": {
      "text/plain": [
       "'rohan'"
      ]
     },
     "execution_count": 165,
     "metadata": {},
     "output_type": "execute_result"
    }
   ],
   "source": [
    "address_det.get('name')"
   ]
  },
  {
   "cell_type": "code",
   "execution_count": 167,
   "id": "32223e50-5e3c-482f-9311-28ceb6b1019d",
   "metadata": {},
   "outputs": [
    {
     "data": {
      "text/plain": [
       "'this key doesnt exists'"
      ]
     },
     "execution_count": 167,
     "metadata": {},
     "output_type": "execute_result"
    }
   ],
   "source": [
    "address_det.get('gender',\"\"\"this key doesnt exists\"\"\")"
   ]
  },
  {
   "cell_type": "code",
   "execution_count": 169,
   "id": "b413f9ae-b500-4398-aece-6ff726723689",
   "metadata": {},
   "outputs": [
    {
     "data": {
      "text/plain": [
       "'rohan'"
      ]
     },
     "execution_count": 169,
     "metadata": {},
     "output_type": "execute_result"
    }
   ],
   "source": [
    "address_det.pop('name')"
   ]
  },
  {
   "cell_type": "code",
   "execution_count": 171,
   "id": "607d91f0-4d34-4a51-b93b-f5483e579752",
   "metadata": {},
   "outputs": [
    {
     "data": {
      "text/plain": [
       "{'age': 21, 'city': 'pune', 'PIN': 413512, 'class': 12}"
      ]
     },
     "execution_count": 171,
     "metadata": {},
     "output_type": "execute_result"
    }
   ],
   "source": [
    "address_det"
   ]
  },
  {
   "cell_type": "code",
   "execution_count": 175,
   "id": "bd0de42d-ce8a-48f0-8b88-40c67739dee2",
   "metadata": {},
   "outputs": [
    {
     "data": {
      "text/plain": [
       "('class', 12)"
      ]
     },
     "execution_count": 175,
     "metadata": {},
     "output_type": "execute_result"
    }
   ],
   "source": [
    "address_det.popitem()"
   ]
  },
  {
   "cell_type": "code",
   "execution_count": 177,
   "id": "c4ff43ac-e7c4-4698-8fb4-a93f695bcbfd",
   "metadata": {},
   "outputs": [
    {
     "data": {
      "text/plain": [
       "{'age': 21, 'city': 'pune', 'PIN': 413512}"
      ]
     },
     "execution_count": 177,
     "metadata": {},
     "output_type": "execute_result"
    }
   ],
   "source": [
    "address_det"
   ]
  },
  {
   "cell_type": "code",
   "execution_count": 179,
   "id": "6c19992e-5644-4c2c-aa26-a853e176561b",
   "metadata": {},
   "outputs": [
    {
     "data": {
      "text/plain": [
       "{'Gender': 'f', 'ph_no': '00000', 'name': 'ram'}"
      ]
     },
     "execution_count": 179,
     "metadata": {},
     "output_type": "execute_result"
    }
   ],
   "source": [
    "new_dets={'Gender':'f','ph_no':'00000','name':'ram'}\n",
    "new_dets"
   ]
  },
  {
   "cell_type": "code",
   "execution_count": 181,
   "id": "79c11aa9-0f93-4446-8b99-3b784dea3d50",
   "metadata": {},
   "outputs": [],
   "source": [
    "address_det.update(new_dets)"
   ]
  },
  {
   "cell_type": "code",
   "execution_count": 183,
   "id": "d2405141-7b0e-4ef7-83fa-981ad132719c",
   "metadata": {},
   "outputs": [
    {
     "data": {
      "text/plain": [
       "{'age': 21,\n",
       " 'city': 'pune',\n",
       " 'PIN': 413512,\n",
       " 'Gender': 'f',\n",
       " 'ph_no': '00000',\n",
       " 'name': 'ram'}"
      ]
     },
     "execution_count": 183,
     "metadata": {},
     "output_type": "execute_result"
    }
   ],
   "source": [
    "address_det"
   ]
  },
  {
   "cell_type": "code",
   "execution_count": 187,
   "id": "980b82ae-a732-44db-b7c9-c98c4c178491",
   "metadata": {},
   "outputs": [],
   "source": [
    "address_det[0]={'name':'ram'}"
   ]
  },
  {
   "cell_type": "code",
   "execution_count": 189,
   "id": "abe1a412-8b6b-418f-94ad-f5cb0e2fbe6e",
   "metadata": {},
   "outputs": [
    {
     "data": {
      "text/plain": [
       "{'age': 21,\n",
       " 'city': 'pune',\n",
       " 'PIN': 413512,\n",
       " 'Gender': 'f',\n",
       " 'ph_no': '00000',\n",
       " 'name': 'ram',\n",
       " 0: {'name': 'ram'}}"
      ]
     },
     "execution_count": 189,
     "metadata": {},
     "output_type": "execute_result"
    }
   ],
   "source": [
    "address_det"
   ]
  },
  {
   "cell_type": "code",
   "execution_count": 191,
   "id": "376ba406-1c13-4676-b9c3-b580a6ff9d45",
   "metadata": {},
   "outputs": [
    {
     "ename": "TypeError",
     "evalue": "unhashable type: 'slice'",
     "output_type": "error",
     "traceback": [
      "\u001b[1;31m---------------------------------------------------------------------------\u001b[0m",
      "\u001b[1;31mTypeError\u001b[0m                                 Traceback (most recent call last)",
      "Cell \u001b[1;32mIn[191], line 1\u001b[0m\n\u001b[1;32m----> 1\u001b[0m address_det[::\u001b[38;5;241m-\u001b[39m\u001b[38;5;241m1\u001b[39m]\n",
      "\u001b[1;31mTypeError\u001b[0m: unhashable type: 'slice'"
     ]
    }
   ],
   "source": []
  },
  {
   "cell_type": "code",
   "execution_count": 197,
   "id": "4f777a5e-cd8d-4867-accc-a269d69ea905",
   "metadata": {},
   "outputs": [
    {
     "data": {
      "text/plain": [
       "7"
      ]
     },
     "execution_count": 197,
     "metadata": {},
     "output_type": "execute_result"
    }
   ],
   "source": [
    "###set\n",
    "s1={1,2,3,4,5,5,6,7}\n",
    "len(s1)"
   ]
  },
  {
   "cell_type": "code",
   "execution_count": 199,
   "id": "3d804eff-91cd-4ca6-be53-51f235d341e6",
   "metadata": {},
   "outputs": [
    {
     "data": {
      "text/plain": [
       "{1, 2, 3, 4, 5, 6, 7}"
      ]
     },
     "execution_count": 199,
     "metadata": {},
     "output_type": "execute_result"
    }
   ],
   "source": [
    "s1={1,2,3,4,5}\n",
    "s2={3,4,5,6,7}\n",
    "s1.union(s2)"
   ]
  },
  {
   "cell_type": "code",
   "execution_count": 201,
   "id": "1723b434-d887-4c7b-95ba-99e575284f69",
   "metadata": {},
   "outputs": [
    {
     "data": {
      "text/plain": [
       "{1, 2, 6, 7}"
      ]
     },
     "execution_count": 201,
     "metadata": {},
     "output_type": "execute_result"
    }
   ],
   "source": [
    "s1.symmetric_difference(s2)"
   ]
  },
  {
   "cell_type": "code",
   "execution_count": 203,
   "id": "7cfc9d7c-a792-445a-a08e-0b694ebb8f61",
   "metadata": {},
   "outputs": [
    {
     "data": {
      "text/plain": [
       "{3, 4, 5}"
      ]
     },
     "execution_count": 203,
     "metadata": {},
     "output_type": "execute_result"
    }
   ],
   "source": [
    "s1.intersection(s2)"
   ]
  },
  {
   "cell_type": "code",
   "execution_count": 205,
   "id": "c199cbf5-6132-438d-8d29-fdc56b5fa80c",
   "metadata": {},
   "outputs": [
    {
     "data": {
      "text/plain": [
       "{1, 2}"
      ]
     },
     "execution_count": 205,
     "metadata": {},
     "output_type": "execute_result"
    }
   ],
   "source": [
    "s1.difference(s2)"
   ]
  },
  {
   "cell_type": "code",
   "execution_count": 207,
   "id": "a1d347c8-0251-49cc-b9a3-ca31479e5333",
   "metadata": {},
   "outputs": [
    {
     "data": {
      "text/plain": [
       "{6, 7}"
      ]
     },
     "execution_count": 207,
     "metadata": {},
     "output_type": "execute_result"
    }
   ],
   "source": [
    "s2.difference(s1)"
   ]
  },
  {
   "cell_type": "code",
   "execution_count": null,
   "id": "86d9bc12-98d8-4787-bd27-44ce68c068ab",
   "metadata": {},
   "outputs": [],
   "source": []
  }
 ],
 "metadata": {
  "kernelspec": {
   "display_name": "Python 3 (ipykernel)",
   "language": "python",
   "name": "python3"
  },
  "language_info": {
   "codemirror_mode": {
    "name": "ipython",
    "version": 3
   },
   "file_extension": ".py",
   "mimetype": "text/x-python",
   "name": "python",
   "nbconvert_exporter": "python",
   "pygments_lexer": "ipython3",
   "version": "3.11.7"
  }
 },
 "nbformat": 4,
 "nbformat_minor": 5
}
